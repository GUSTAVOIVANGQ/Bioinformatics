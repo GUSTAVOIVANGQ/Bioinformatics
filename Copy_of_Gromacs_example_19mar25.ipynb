{
  "cells": [
    {
      "cell_type": "markdown",
      "metadata": {
        "id": "GrPbsriJw-Hg"
      },
      "source": [
        "Tutorial: http://www.mdtutorials.com/gmx/lysozyme/"
      ]
    },
    {
      "cell_type": "code",
      "source": [
        "!apt-get install gromacs\n",
        "#aprox 34s"
      ],
      "metadata": {
        "id": "6DL60S-Vxm5p",
        "colab": {
          "base_uri": "https://localhost:8080/"
        },
        "outputId": "f360bd3d-7feb-49dd-df68-4443a9d538ba"
      },
      "execution_count": 1,
      "outputs": [
        {
          "output_type": "stream",
          "name": "stdout",
          "text": [
            "Reading package lists... Done\n",
            "Building dependency tree... Done\n",
            "Reading state information... Done\n",
            "The following additional packages will be installed:\n",
            "  fonts-mathjax gromacs-data libfftw3-double3 libfftw3-single3 libgromacs6 libjs-mathjax\n",
            "  sse4.2-support\n",
            "Suggested packages:\n",
            "  pymol libfftw3-bin libfftw3-dev fonts-mathjax-extras fonts-stix libjs-mathjax-doc\n",
            "The following NEW packages will be installed:\n",
            "  fonts-mathjax gromacs gromacs-data libfftw3-double3 libfftw3-single3 libgromacs6 libjs-mathjax\n",
            "  sse4.2-support\n",
            "0 upgraded, 8 newly installed, 0 to remove and 29 not upgraded.\n",
            "Need to get 58.3 MB of archives.\n",
            "After this operation, 310 MB of additional disk space will be used.\n",
            "Get:1 http://archive.ubuntu.com/ubuntu jammy/universe amd64 sse4.2-support amd64 6 [8,572 B]\n",
            "Get:2 http://archive.ubuntu.com/ubuntu jammy/main amd64 fonts-mathjax all 2.7.9+dfsg-1 [2,208 kB]\n",
            "Get:3 http://archive.ubuntu.com/ubuntu jammy/main amd64 libfftw3-double3 amd64 3.3.8-2ubuntu8 [770 kB]\n",
            "Get:4 http://archive.ubuntu.com/ubuntu jammy/main amd64 libfftw3-single3 amd64 3.3.8-2ubuntu8 [800 kB]\n",
            "Get:5 http://archive.ubuntu.com/ubuntu jammy/universe amd64 libgromacs6 amd64 2021.4-2 [12.3 MB]\n",
            "Get:6 http://archive.ubuntu.com/ubuntu jammy/main amd64 libjs-mathjax all 2.7.9+dfsg-1 [5,665 kB]\n",
            "Get:7 http://archive.ubuntu.com/ubuntu jammy/universe amd64 gromacs-data all 2021.4-2 [36.3 MB]\n",
            "Get:8 http://archive.ubuntu.com/ubuntu jammy/universe amd64 gromacs amd64 2021.4-2 [131 kB]\n",
            "Fetched 58.3 MB in 1s (53.5 MB/s)\n",
            "Preconfiguring packages ...\n",
            "Selecting previously unselected package sse4.2-support.\n",
            "(Reading database ... 126209 files and directories currently installed.)\n",
            "Preparing to unpack .../0-sse4.2-support_6_amd64.deb ...\n",
            "Unpacking sse4.2-support (6) ...\n",
            "Selecting previously unselected package fonts-mathjax.\n",
            "Preparing to unpack .../1-fonts-mathjax_2.7.9+dfsg-1_all.deb ...\n",
            "Unpacking fonts-mathjax (2.7.9+dfsg-1) ...\n",
            "Selecting previously unselected package libfftw3-double3:amd64.\n",
            "Preparing to unpack .../2-libfftw3-double3_3.3.8-2ubuntu8_amd64.deb ...\n",
            "Unpacking libfftw3-double3:amd64 (3.3.8-2ubuntu8) ...\n",
            "Selecting previously unselected package libfftw3-single3:amd64.\n",
            "Preparing to unpack .../3-libfftw3-single3_3.3.8-2ubuntu8_amd64.deb ...\n",
            "Unpacking libfftw3-single3:amd64 (3.3.8-2ubuntu8) ...\n",
            "Selecting previously unselected package libgromacs6:amd64.\n",
            "Preparing to unpack .../4-libgromacs6_2021.4-2_amd64.deb ...\n",
            "Unpacking libgromacs6:amd64 (2021.4-2) ...\n",
            "Selecting previously unselected package libjs-mathjax.\n",
            "Preparing to unpack .../5-libjs-mathjax_2.7.9+dfsg-1_all.deb ...\n",
            "Unpacking libjs-mathjax (2.7.9+dfsg-1) ...\n",
            "Selecting previously unselected package gromacs-data.\n",
            "Preparing to unpack .../6-gromacs-data_2021.4-2_all.deb ...\n",
            "Unpacking gromacs-data (2021.4-2) ...\n",
            "Selecting previously unselected package gromacs.\n",
            "Preparing to unpack .../7-gromacs_2021.4-2_amd64.deb ...\n",
            "Unpacking gromacs (2021.4-2) ...\n",
            "Setting up fonts-mathjax (2.7.9+dfsg-1) ...\n",
            "Setting up libfftw3-single3:amd64 (3.3.8-2ubuntu8) ...\n",
            "Setting up libjs-mathjax (2.7.9+dfsg-1) ...\n",
            "Setting up libfftw3-double3:amd64 (3.3.8-2ubuntu8) ...\n",
            "Setting up sse4.2-support (6) ...\n",
            "Setting up libgromacs6:amd64 (2021.4-2) ...\n",
            "Setting up gromacs-data (2021.4-2) ...\n",
            "Setting up gromacs (2021.4-2) ...\n",
            "Processing triggers for libc-bin (2.35-0ubuntu3.8) ...\n",
            "/sbin/ldconfig.real: /usr/local/lib/libhwloc.so.15 is not a symbolic link\n",
            "\n",
            "/sbin/ldconfig.real: /usr/local/lib/libtcm.so.1 is not a symbolic link\n",
            "\n",
            "/sbin/ldconfig.real: /usr/local/lib/libtbbmalloc_proxy.so.2 is not a symbolic link\n",
            "\n",
            "/sbin/ldconfig.real: /usr/local/lib/libtbbbind_2_0.so.3 is not a symbolic link\n",
            "\n",
            "/sbin/ldconfig.real: /usr/local/lib/libtbbmalloc.so.2 is not a symbolic link\n",
            "\n",
            "/sbin/ldconfig.real: /usr/local/lib/libtbb.so.12 is not a symbolic link\n",
            "\n",
            "/sbin/ldconfig.real: /usr/local/lib/libur_adapter_opencl.so.0 is not a symbolic link\n",
            "\n",
            "/sbin/ldconfig.real: /usr/local/lib/libtbbbind.so.3 is not a symbolic link\n",
            "\n",
            "/sbin/ldconfig.real: /usr/local/lib/libtcm_debug.so.1 is not a symbolic link\n",
            "\n",
            "/sbin/ldconfig.real: /usr/local/lib/libur_adapter_level_zero.so.0 is not a symbolic link\n",
            "\n",
            "/sbin/ldconfig.real: /usr/local/lib/libur_loader.so.0 is not a symbolic link\n",
            "\n",
            "/sbin/ldconfig.real: /usr/local/lib/libumf.so.0 is not a symbolic link\n",
            "\n",
            "/sbin/ldconfig.real: /usr/local/lib/libtbbbind_2_5.so.3 is not a symbolic link\n",
            "\n",
            "Processing triggers for man-db (2.10.2-1) ...\n",
            "Processing triggers for fontconfig (2.13.1-4.2ubuntu5) ...\n"
          ]
        }
      ]
    },
    {
      "cell_type": "code",
      "source": [
        "#from google.colab import drive\n",
        "#drive.mount('/content/drive')"
      ],
      "metadata": {
        "id": "SSK_l72tGHwU"
      },
      "execution_count": 2,
      "outputs": []
    },
    {
      "cell_type": "code",
      "execution_count": 3,
      "metadata": {
        "id": "-r4wTTxULa8k",
        "colab": {
          "base_uri": "https://localhost:8080/"
        },
        "outputId": "0fbdd33e-ba56-4be9-e4ea-ced507876384"
      },
      "outputs": [
        {
          "output_type": "stream",
          "name": "stdout",
          "text": [
            "Reading package lists... Done\n",
            "Building dependency tree... Done\n",
            "Reading state information... Done\n",
            "The following additional packages will be installed:\n",
            "  gconf-service gconf-service-backend gconf2 gconf2-common gsfonts libdbus-glib-1-2 libfontenc1\n",
            "  libgconf-2-4 libmotif-common libxbae4m libxkbfile1 libxm4 libxmhtml1.1 libxtst6 libxxf86dga1\n",
            "  x11-utils xbitmaps xfonts-100dpi xfonts-encodings xfonts-utils xterm\n",
            "Suggested packages:\n",
            "  gconf-defaults-service ghostscript texlive-extra-utils mesa-utils xfs | xserver xfonts-cyrillic\n",
            "The following NEW packages will be installed:\n",
            "  gconf-service gconf-service-backend gconf2 gconf2-common grace gsfonts libdbus-glib-1-2\n",
            "  libfontenc1 libgconf-2-4 libmotif-common libxbae4m libxkbfile1 libxm4 libxmhtml1.1 libxtst6\n",
            "  libxxf86dga1 x11-utils xbitmaps xfonts-100dpi xfonts-encodings xfonts-utils xterm\n",
            "0 upgraded, 22 newly installed, 0 to remove and 29 not upgraded.\n",
            "Need to get 12.5 MB of archives.\n",
            "After this operation, 30.9 MB of additional disk space will be used.\n",
            "Get:1 http://archive.ubuntu.com/ubuntu jammy/universe amd64 libmotif-common all 2.3.8-3 [11.0 kB]\n",
            "Get:2 http://archive.ubuntu.com/ubuntu jammy/universe amd64 libxm4 amd64 2.3.8-3 [1,001 kB]\n",
            "Get:3 http://archive.ubuntu.com/ubuntu jammy/main amd64 libdbus-glib-1-2 amd64 0.112-2build1 [65.4 kB]\n",
            "Get:4 http://archive.ubuntu.com/ubuntu jammy/universe amd64 gconf2-common all 3.2.6-7ubuntu2 [698 kB]\n",
            "Get:5 http://archive.ubuntu.com/ubuntu jammy/universe amd64 libgconf-2-4 amd64 3.2.6-7ubuntu2 [86.0 kB]\n",
            "Get:6 http://archive.ubuntu.com/ubuntu jammy/universe amd64 gconf-service-backend amd64 3.2.6-7ubuntu2 [59.3 kB]\n",
            "Get:7 http://archive.ubuntu.com/ubuntu jammy/universe amd64 gconf-service amd64 3.2.6-7ubuntu2 [17.4 kB]\n",
            "Get:8 http://archive.ubuntu.com/ubuntu jammy/universe amd64 gconf2 amd64 3.2.6-7ubuntu2 [83.9 kB]\n",
            "Get:9 http://archive.ubuntu.com/ubuntu jammy/universe amd64 gsfonts all 1:8.11+urwcyr1.0.7~pre44-4.5 [3,120 kB]\n",
            "Get:10 http://archive.ubuntu.com/ubuntu jammy/main amd64 xbitmaps all 1.1.1-2.1ubuntu1 [23.4 kB]\n",
            "Get:11 http://archive.ubuntu.com/ubuntu jammy/universe amd64 xterm amd64 372-1ubuntu1 [857 kB]\n",
            "Get:12 http://archive.ubuntu.com/ubuntu jammy/universe amd64 libxbae4m amd64 4.60.4-9 [106 kB]\n",
            "Get:13 http://archive.ubuntu.com/ubuntu jammy/universe amd64 libxmhtml1.1 amd64 1.1.10-4 [212 kB]\n",
            "Get:14 http://archive.ubuntu.com/ubuntu jammy/universe amd64 grace amd64 1:5.1.25-12build1 [1,391 kB]\n",
            "Get:15 http://archive.ubuntu.com/ubuntu jammy/main amd64 libfontenc1 amd64 1:1.1.4-1build3 [14.7 kB]\n",
            "Get:16 http://archive.ubuntu.com/ubuntu jammy/main amd64 libxkbfile1 amd64 1:1.1.0-1build3 [71.8 kB]\n",
            "Get:17 http://archive.ubuntu.com/ubuntu jammy/main amd64 libxtst6 amd64 2:1.2.3-1build4 [13.4 kB]\n",
            "Get:18 http://archive.ubuntu.com/ubuntu jammy/main amd64 libxxf86dga1 amd64 2:1.1.5-0ubuntu3 [12.6 kB]\n",
            "Get:19 http://archive.ubuntu.com/ubuntu jammy/main amd64 x11-utils amd64 7.7+5build2 [206 kB]\n",
            "Get:20 http://archive.ubuntu.com/ubuntu jammy/main amd64 xfonts-encodings all 1:1.0.5-0ubuntu2 [578 kB]\n",
            "Get:21 http://archive.ubuntu.com/ubuntu jammy/main amd64 xfonts-utils amd64 1:7.7+6build2 [94.6 kB]\n",
            "Get:22 http://archive.ubuntu.com/ubuntu jammy/universe amd64 xfonts-100dpi all 1:1.0.4+nmu1.1 [3,818 kB]\n",
            "Fetched 12.5 MB in 1s (10.7 MB/s)\n",
            "Selecting previously unselected package libmotif-common.\n",
            "(Reading database ... 151702 files and directories currently installed.)\n",
            "Preparing to unpack .../00-libmotif-common_2.3.8-3_all.deb ...\n",
            "Unpacking libmotif-common (2.3.8-3) ...\n",
            "Selecting previously unselected package libxm4:amd64.\n",
            "Preparing to unpack .../01-libxm4_2.3.8-3_amd64.deb ...\n",
            "Unpacking libxm4:amd64 (2.3.8-3) ...\n",
            "Selecting previously unselected package libdbus-glib-1-2:amd64.\n",
            "Preparing to unpack .../02-libdbus-glib-1-2_0.112-2build1_amd64.deb ...\n",
            "Unpacking libdbus-glib-1-2:amd64 (0.112-2build1) ...\n",
            "Selecting previously unselected package gconf2-common.\n",
            "Preparing to unpack .../03-gconf2-common_3.2.6-7ubuntu2_all.deb ...\n",
            "Unpacking gconf2-common (3.2.6-7ubuntu2) ...\n",
            "Selecting previously unselected package libgconf-2-4:amd64.\n",
            "Preparing to unpack .../04-libgconf-2-4_3.2.6-7ubuntu2_amd64.deb ...\n",
            "Unpacking libgconf-2-4:amd64 (3.2.6-7ubuntu2) ...\n",
            "Selecting previously unselected package gconf-service-backend.\n",
            "Preparing to unpack .../05-gconf-service-backend_3.2.6-7ubuntu2_amd64.deb ...\n",
            "Unpacking gconf-service-backend (3.2.6-7ubuntu2) ...\n",
            "Selecting previously unselected package gconf-service.\n",
            "Preparing to unpack .../06-gconf-service_3.2.6-7ubuntu2_amd64.deb ...\n",
            "Unpacking gconf-service (3.2.6-7ubuntu2) ...\n",
            "Selecting previously unselected package gconf2.\n",
            "Preparing to unpack .../07-gconf2_3.2.6-7ubuntu2_amd64.deb ...\n",
            "Unpacking gconf2 (3.2.6-7ubuntu2) ...\n",
            "Selecting previously unselected package gsfonts.\n",
            "Preparing to unpack .../08-gsfonts_1%3a8.11+urwcyr1.0.7~pre44-4.5_all.deb ...\n",
            "Unpacking gsfonts (1:8.11+urwcyr1.0.7~pre44-4.5) ...\n",
            "Selecting previously unselected package xbitmaps.\n",
            "Preparing to unpack .../09-xbitmaps_1.1.1-2.1ubuntu1_all.deb ...\n",
            "Unpacking xbitmaps (1.1.1-2.1ubuntu1) ...\n",
            "Selecting previously unselected package xterm.\n",
            "Preparing to unpack .../10-xterm_372-1ubuntu1_amd64.deb ...\n",
            "Unpacking xterm (372-1ubuntu1) ...\n",
            "Selecting previously unselected package libxbae4m:amd64.\n",
            "Preparing to unpack .../11-libxbae4m_4.60.4-9_amd64.deb ...\n",
            "Unpacking libxbae4m:amd64 (4.60.4-9) ...\n",
            "Selecting previously unselected package libxmhtml1.1:amd64.\n",
            "Preparing to unpack .../12-libxmhtml1.1_1.1.10-4_amd64.deb ...\n",
            "Unpacking libxmhtml1.1:amd64 (1.1.10-4) ...\n",
            "Selecting previously unselected package grace.\n",
            "Preparing to unpack .../13-grace_1%3a5.1.25-12build1_amd64.deb ...\n",
            "Unpacking grace (1:5.1.25-12build1) ...\n",
            "Selecting previously unselected package libfontenc1:amd64.\n",
            "Preparing to unpack .../14-libfontenc1_1%3a1.1.4-1build3_amd64.deb ...\n",
            "Unpacking libfontenc1:amd64 (1:1.1.4-1build3) ...\n",
            "Selecting previously unselected package libxkbfile1:amd64.\n",
            "Preparing to unpack .../15-libxkbfile1_1%3a1.1.0-1build3_amd64.deb ...\n",
            "Unpacking libxkbfile1:amd64 (1:1.1.0-1build3) ...\n",
            "Selecting previously unselected package libxtst6:amd64.\n",
            "Preparing to unpack .../16-libxtst6_2%3a1.2.3-1build4_amd64.deb ...\n",
            "Unpacking libxtst6:amd64 (2:1.2.3-1build4) ...\n",
            "Selecting previously unselected package libxxf86dga1:amd64.\n",
            "Preparing to unpack .../17-libxxf86dga1_2%3a1.1.5-0ubuntu3_amd64.deb ...\n",
            "Unpacking libxxf86dga1:amd64 (2:1.1.5-0ubuntu3) ...\n",
            "Selecting previously unselected package x11-utils.\n",
            "Preparing to unpack .../18-x11-utils_7.7+5build2_amd64.deb ...\n",
            "Unpacking x11-utils (7.7+5build2) ...\n",
            "Selecting previously unselected package xfonts-encodings.\n",
            "Preparing to unpack .../19-xfonts-encodings_1%3a1.0.5-0ubuntu2_all.deb ...\n",
            "Unpacking xfonts-encodings (1:1.0.5-0ubuntu2) ...\n",
            "Selecting previously unselected package xfonts-utils.\n",
            "Preparing to unpack .../20-xfonts-utils_1%3a7.7+6build2_amd64.deb ...\n",
            "Unpacking xfonts-utils (1:7.7+6build2) ...\n",
            "Selecting previously unselected package xfonts-100dpi.\n",
            "Preparing to unpack .../21-xfonts-100dpi_1%3a1.0.4+nmu1.1_all.deb ...\n",
            "Unpacking xfonts-100dpi (1:1.0.4+nmu1.1) ...\n",
            "Setting up libxtst6:amd64 (2:1.2.3-1build4) ...\n",
            "Setting up libxxf86dga1:amd64 (2:1.1.5-0ubuntu3) ...\n",
            "Setting up libmotif-common (2.3.8-3) ...\n",
            "Setting up libfontenc1:amd64 (1:1.1.4-1build3) ...\n",
            "Setting up gconf2-common (3.2.6-7ubuntu2) ...\n",
            "\n",
            "Creating config file /etc/gconf/2/path with new version\n",
            "Setting up libdbus-glib-1-2:amd64 (0.112-2build1) ...\n",
            "Setting up gsfonts (1:8.11+urwcyr1.0.7~pre44-4.5) ...\n",
            "Setting up xfonts-encodings (1:1.0.5-0ubuntu2) ...\n",
            "Setting up libxkbfile1:amd64 (1:1.1.0-1build3) ...\n",
            "Setting up xbitmaps (1.1.1-2.1ubuntu1) ...\n",
            "Setting up libxm4:amd64 (2.3.8-3) ...\n",
            "Setting up libgconf-2-4:amd64 (3.2.6-7ubuntu2) ...\n",
            "Setting up libxbae4m:amd64 (4.60.4-9) ...\n",
            "Setting up xfonts-utils (1:7.7+6build2) ...\n",
            "Setting up libxmhtml1.1:amd64 (1.1.10-4) ...\n",
            "Setting up x11-utils (7.7+5build2) ...\n",
            "Setting up xterm (372-1ubuntu1) ...\n",
            "update-alternatives: using /usr/bin/xterm to provide /usr/bin/x-terminal-emulator (x-terminal-emulator) in auto mode\n",
            "update-alternatives: using /usr/bin/lxterm to provide /usr/bin/x-terminal-emulator (x-terminal-emulator) in auto mode\n",
            "Setting up xfonts-100dpi (1:1.0.4+nmu1.1) ...\n",
            "Setting up gconf-service-backend (3.2.6-7ubuntu2) ...\n",
            "Setting up gconf-service (3.2.6-7ubuntu2) ...\n",
            "Setting up gconf2 (3.2.6-7ubuntu2) ...\n",
            "Setting up grace (1:5.1.25-12build1) ...\n",
            "Processing triggers for mailcap (3.70+nmu1ubuntu1) ...\n",
            "Processing triggers for fontconfig (2.13.1-4.2ubuntu5) ...\n",
            "Processing triggers for hicolor-icon-theme (0.17-2) ...\n",
            "Processing triggers for libc-bin (2.35-0ubuntu3.8) ...\n",
            "/sbin/ldconfig.real: /usr/local/lib/libhwloc.so.15 is not a symbolic link\n",
            "\n",
            "/sbin/ldconfig.real: /usr/local/lib/libtcm.so.1 is not a symbolic link\n",
            "\n",
            "/sbin/ldconfig.real: /usr/local/lib/libtbbmalloc_proxy.so.2 is not a symbolic link\n",
            "\n",
            "/sbin/ldconfig.real: /usr/local/lib/libtbbbind_2_0.so.3 is not a symbolic link\n",
            "\n",
            "/sbin/ldconfig.real: /usr/local/lib/libtbbmalloc.so.2 is not a symbolic link\n",
            "\n",
            "/sbin/ldconfig.real: /usr/local/lib/libtbb.so.12 is not a symbolic link\n",
            "\n",
            "/sbin/ldconfig.real: /usr/local/lib/libur_adapter_opencl.so.0 is not a symbolic link\n",
            "\n",
            "/sbin/ldconfig.real: /usr/local/lib/libtbbbind.so.3 is not a symbolic link\n",
            "\n",
            "/sbin/ldconfig.real: /usr/local/lib/libtcm_debug.so.1 is not a symbolic link\n",
            "\n",
            "/sbin/ldconfig.real: /usr/local/lib/libur_adapter_level_zero.so.0 is not a symbolic link\n",
            "\n",
            "/sbin/ldconfig.real: /usr/local/lib/libur_loader.so.0 is not a symbolic link\n",
            "\n",
            "/sbin/ldconfig.real: /usr/local/lib/libumf.so.0 is not a symbolic link\n",
            "\n",
            "/sbin/ldconfig.real: /usr/local/lib/libtbbbind_2_5.so.3 is not a symbolic link\n",
            "\n",
            "Processing triggers for man-db (2.10.2-1) ...\n",
            "Processing triggers for shared-mime-info (2.1-2) ...\n"
          ]
        }
      ],
      "source": [
        "!apt-get install grace\n",
        "#aprox 21s"
      ]
    },
    {
      "cell_type": "code",
      "execution_count": 4,
      "metadata": {
        "id": "Qp0xMid4LgSq",
        "colab": {
          "base_uri": "https://localhost:8080/"
        },
        "outputId": "3fc5dd00-3263-4d22-c5a6-5fd747ecd016"
      },
      "outputs": [
        {
          "output_type": "stream",
          "name": "stdout",
          "text": [
            "--2025-03-29 19:09:33--  https://files.rcsb.org/download/1WKX.pdb\n",
            "Resolving files.rcsb.org (files.rcsb.org)... 18.164.116.40, 18.164.116.39, 18.164.116.37, ...\n",
            "Connecting to files.rcsb.org (files.rcsb.org)|18.164.116.40|:443... connected.\n",
            "HTTP request sent, awaiting response... 200 OK\n",
            "Length: unspecified [application/octet-stream]\n",
            "Saving to: ‘1WKX.pdb’\n",
            "\n",
            "1WKX.pdb                [ <=>                ]  56.87K  --.-KB/s    in 0.009s  \n",
            "\n",
            "2025-03-29 19:09:34 (6.41 MB/s) - ‘1WKX.pdb’ saved [58239]\n",
            "\n"
          ]
        }
      ],
      "source": [
        "#!wget https://files.rcsb.org/download/1AKI.pdb\n",
        "!wget https://files.rcsb.org/download/1WKX.pdb"
      ]
    },
    {
      "cell_type": "code",
      "source": [
        "#!head -n 1363 2PTL.pdb | tail -n 937 > 2PTLm1t.pdb"
      ],
      "metadata": {
        "id": "L8BofvwesX_e"
      },
      "execution_count": 5,
      "outputs": []
    },
    {
      "cell_type": "code",
      "execution_count": 6,
      "metadata": {
        "id": "pvkC3VVIxXYU"
      },
      "outputs": [],
      "source": [
        "#!grep -v HOH 1AKI.pdb > 1AKI_clean.pdb\n",
        "!grep -v HOH 1WKX.pdb > clean.pdb"
      ]
    },
    {
      "cell_type": "code",
      "source": [
        "!ls /usr/share/gromacs/top/"
      ],
      "metadata": {
        "id": "WQQjIHlVnveI",
        "outputId": "0098b6d9-b794-4c50-87a1-276deace7f0a",
        "colab": {
          "base_uri": "https://localhost:8080/"
        }
      },
      "execution_count": 7,
      "outputs": [
        {
          "output_type": "stream",
          "name": "stdout",
          "text": [
            "amber03.ff\t   defselection.dat  flexspc.itp\t   random.dat\t     table6-10.xvg\n",
            "amber94.ff\t   dgsolv.dat\t     flexwat-ferguson.itp  README\t     table6-11.xvg\n",
            "amber96.ff\t   edissoc.dat\t     gromos43a1.ff\t   refi_aa.dat\t     table6-12.xvg\n",
            "amber99.ff\t   electroneg.dat    gromos43a2.ff\t   residues.dtd      table6-8.xvg\n",
            "amber99sb.ff\t   elements.dat      gromos45a3.ff\t   residues.xml      table6-9.xvg\n",
            "amber99sb-ildn.ff  export.dlg\t     gromos53a5.ff\t   residuetypes.dat  tip3p.itp\n",
            "amberGS.ff\t   ffG43a1.itp\t     gromos53a6.ff\t   sfactor.dat\t     tip4p.gro\n",
            "atommass.dat\t   ffG43a2.itp\t     gromos54a7.ff\t   spc216.gro\t     tip4p.itp\n",
            "atom_nom.tbl\t   ffG45a3.itp\t     ha-shift.dat\t   spce.itp\t     tip5p.gro\n",
            "bonds.dlg\t   ffG53a5.itp\t     ions.itp\t\t   spc.itp\t     vdw-msms.dat\n",
            "ca-shift.dat\t   ffG53a6.itp\t     nsfactor.dat\t   specbond.dat      vdwradii.dat\n",
            "cb-shift.dat\t   ffoplsaa.itp      oplsaa.ff\t\t   ss.map\t     xlateat.dat\n",
            "charmm27.ff\t   ffoplsaa-n.tst    phbres.dat\t\t   surface.dat\n",
            "co-shift.dat\t   flexspce.itp      ps.m2p\t\t   sw.itp\n"
          ]
        }
      ]
    },
    {
      "cell_type": "code",
      "execution_count": 54,
      "metadata": {
        "colab": {
          "base_uri": "https://localhost:8080/"
        },
        "id": "oVIW6T9ANw8K",
        "outputId": "b5550c19-69e4-404a-abbf-f305d2cca9e0"
      },
      "outputs": [
        {
          "output_type": "stream",
          "name": "stdout",
          "text": [
            "             :-) GROMACS - gmx pdb2gmx, 2021.4-Ubuntu-2021.4-2 (-:\n",
            "\n",
            "                            GROMACS is written by:\n",
            "     Andrey Alekseenko              Emile Apol              Rossen Apostolov     \n",
            "         Paul Bauer           Herman J.C. Berendsen           Par Bjelkmar       \n",
            "       Christian Blau           Viacheslav Bolnykh             Kevin Boyd        \n",
            "     Aldert van Buuren           Rudi van Drunen             Anton Feenstra      \n",
            "    Gilles Gouaillardet             Alan Gray               Gerrit Groenhof      \n",
            "       Anca Hamuraru            Vincent Hindriksen          M. Eric Irrgang      \n",
            "      Aleksei Iupinov           Christoph Junghans             Joe Jordan        \n",
            "    Dimitrios Karkoulis            Peter Kasson                Jiri Kraus        \n",
            "      Carsten Kutzner              Per Larsson              Justin A. Lemkul     \n",
            "       Viveca Lindahl            Magnus Lundborg             Erik Marklund       \n",
            "        Pascal Merz             Pieter Meulenhoff            Teemu Murtola       \n",
            "        Szilard Pall               Sander Pronk              Roland Schulz       \n",
            "       Michael Shirts            Alexey Shvetsov             Alfons Sijbers      \n",
            "       Peter Tieleman              Jon Vincent              Teemu Virolainen     \n",
            "     Christian Wennberg            Maarten Wolf              Artem Zhmurov       \n",
            "                           and the project leaders:\n",
            "        Mark Abraham, Berk Hess, Erik Lindahl, and David van der Spoel\n",
            "\n",
            "Copyright (c) 1991-2000, University of Groningen, The Netherlands.\n",
            "Copyright (c) 2001-2019, The GROMACS development team at\n",
            "Uppsala University, Stockholm University and\n",
            "the Royal Institute of Technology, Sweden.\n",
            "check out http://www.gromacs.org for more information.\n",
            "\n",
            "GROMACS is free software; you can redistribute it and/or modify it\n",
            "under the terms of the GNU Lesser General Public License\n",
            "as published by the Free Software Foundation; either version 2.1\n",
            "of the License, or (at your option) any later version.\n",
            "\n",
            "GROMACS:      gmx pdb2gmx, version 2021.4-Ubuntu-2021.4-2\n",
            "Executable:   /usr/bin/gmx\n",
            "Data prefix:  /usr\n",
            "Working dir:  /content\n",
            "Command line:\n",
            "  gmx pdb2gmx -f clean.pdb -o processed.gro -ff charmm27 -water spc\n",
            "\n",
            "Using the Charmm27 force field in directory charmm27.ff\n",
            "\n",
            "going to rename charmm27.ff/aminoacids.r2b\n",
            "Opening force field file /usr/share/gromacs/top/charmm27.ff/aminoacids.r2b\n",
            "\n",
            "going to rename charmm27.ff/rna.r2b\n",
            "Opening force field file /usr/share/gromacs/top/charmm27.ff/rna.r2b\n",
            "Reading clean.pdb...\n",
            "WARNING: all CONECT records are ignored\n",
            "Read 'HEVEIN ISOFORM 2', 315 atoms\n",
            "\n",
            "Analyzing pdb file\n",
            "Splitting chemical chains based on TER records or chain id changing.\n",
            "\n",
            "There are 1 chains and 0 blocks of water and 42 residues with 315 atoms\n",
            "\n",
            "  chain  #res #atoms\n",
            "\n",
            "  1 'A'    42    315  \n",
            "\n",
            "All occupancies are one\n",
            "All occupancies are one\n",
            "Opening force field file /usr/share/gromacs/top/charmm27.ff/atomtypes.atp\n",
            "\n",
            "Reading residue database... (Charmm27)\n",
            "Opening force field file /usr/share/gromacs/top/charmm27.ff/aminoacids.rtp\n",
            "Opening force field file /usr/share/gromacs/top/charmm27.ff/dna.rtp\n",
            "Opening force field file /usr/share/gromacs/top/charmm27.ff/lipids.rtp\n",
            "Opening force field file /usr/share/gromacs/top/charmm27.ff/rna.rtp\n",
            "Opening force field file /usr/share/gromacs/top/charmm27.ff/aminoacids.hdb\n",
            "Opening force field file /usr/share/gromacs/top/charmm27.ff/dna.hdb\n",
            "Opening force field file /usr/share/gromacs/top/charmm27.ff/lipids.hdb\n",
            "Opening force field file /usr/share/gromacs/top/charmm27.ff/rna.hdb\n",
            "Opening force field file /usr/share/gromacs/top/charmm27.ff/aminoacids.n.tdb\n",
            "Opening force field file /usr/share/gromacs/top/charmm27.ff/dna.n.tdb\n",
            "Opening force field file /usr/share/gromacs/top/charmm27.ff/rna.n.tdb\n",
            "Opening force field file /usr/share/gromacs/top/charmm27.ff/aminoacids.c.tdb\n",
            "Opening force field file /usr/share/gromacs/top/charmm27.ff/dna.c.tdb\n",
            "Opening force field file /usr/share/gromacs/top/charmm27.ff/rna.c.tdb\n",
            "\n",
            "Back Off! I just backed up topol.top to ./#topol.top.8#\n",
            "\n",
            "Processing chain 1 'A' (315 atoms, 42 residues)\n",
            "Analysing hydrogen-bonding network for automated assignment of histidine\n",
            " protonation. 64 donors and 65 acceptors were found.\n",
            "There are 94 hydrogen bonds\n",
            "Will use HISE for residue 35\n",
            "\n",
            "Identified residue GLU1 as a starting terminus.\n",
            "\n",
            "Identified residue LYS42 as a ending terminus.\n",
            "8 out of 8 lines of specbond.dat converted successfully\n",
            "Special Atom Distance matrix:\n",
            "                    CYS3   CYS12   CYS17   CYS18   CYS24   CYS31   HIS35\n",
            "                    SG24    SG84   SG121   SG127   SG180   SG232  NE2263\n",
            "   CYS12    SG84   0.350\n",
            "   CYS17   SG121   0.936   0.764\n",
            "   CYS18   SG127   0.203   0.461   0.891\n",
            "   CYS24   SG180   0.368   0.202   0.902   0.542\n",
            "   CYS31   SG232   1.039   0.893   0.204   1.001   1.002\n",
            "   HIS35  NE2263   1.530   1.604   1.149   1.442   1.660   1.002\n",
            "   CYS37   SG277   0.843   0.839   0.478   0.702   0.997   0.565   1.041\n",
            "   CYS41   SG306   0.955   0.942   0.592   0.798   1.118   0.706   1.182\n",
            "                   CYS37\n",
            "                   SG277\n",
            "   CYS41   SG306   0.206\n",
            "Linking CYS-3 SG-24 and CYS-18 SG-127...\n",
            "Linking CYS-12 SG-84 and CYS-24 SG-180...\n",
            "Linking CYS-17 SG-121 and CYS-31 SG-232...\n",
            "Linking CYS-37 SG-277 and CYS-41 SG-306...\n",
            "Start terminus GLU-1: NH3+\n",
            "End terminus LYS-42: COO-\n",
            "Opening force field file /usr/share/gromacs/top/charmm27.ff/aminoacids.arn\n",
            "Opening force field file /usr/share/gromacs/top/charmm27.ff/dna.arn\n",
            "Opening force field file /usr/share/gromacs/top/charmm27.ff/rna.arn\n",
            "\n",
            "Checking for duplicate atoms....\n",
            "\n",
            "Generating any missing hydrogen atoms and/or adding termini.\n",
            "\n",
            "Now there are 42 residues with 582 atoms\n",
            "\n",
            "Making bonds...\n",
            "\n",
            "Number of bonds was 593, now 593\n",
            "\n",
            "Generating angles, dihedrals and pairs...\n",
            "Before cleaning: 1541 pairs\n",
            "Before cleaning: 1566 dihedrals\n",
            "Keeping all generated dihedrals\n",
            "\n",
            "Making cmap torsions...\n",
            "\n",
            "There are   40 cmap torsion pairs\n",
            "\n",
            "There are 1566 dihedrals,  123 impropers, 1059 angles\n",
            "          1532 pairs,      593 bonds and     0 virtual sites\n",
            "\n",
            "Total mass 4602.973 a.m.u.\n",
            "\n",
            "Total charge -2.000 e\n",
            "\n",
            "Writing topology\n",
            "\n",
            "Back Off! I just backed up posre.itp to ./#posre.itp.1#\n",
            "\n",
            "Writing coordinate file...\n",
            "\n",
            "Back Off! I just backed up processed.gro to ./#processed.gro.1#\n",
            "\n",
            "\t\t--------- PLEASE NOTE ------------\n",
            "\n",
            "You have successfully generated a topology from: clean.pdb.\n",
            "\n",
            "The Charmm27 force field and the spc water model are used.\n",
            "\n",
            "\t\t--------- ETON ESAELP ------------\n",
            "\n",
            "GROMACS reminds you: \"Lottery: A tax on people who are bad at math.\" (Ambrose Bierce)\n",
            "\n"
          ]
        }
      ],
      "source": [
        "#!gmx pdb2gmx -f 1AKI_clean.pdb -o 1AKI_processed.gro -ff charmm27 -water spc\n",
        "!gmx pdb2gmx -f clean.pdb -o processed.gro -ff charmm27 -water spc"
      ]
    },
    {
      "cell_type": "code",
      "source": [
        "!cp clean.pdb clean.pdb.txt"
      ],
      "metadata": {
        "id": "KxUXh_RLVnxk"
      },
      "execution_count": 55,
      "outputs": []
    },
    {
      "cell_type": "code",
      "source": [
        "!cp clean.pdb.txt clean.pdb"
      ],
      "metadata": {
        "id": "kQ251Ft3-4DP"
      },
      "execution_count": 56,
      "outputs": []
    },
    {
      "cell_type": "code",
      "source": [
        "!cp processed.gro processed.gro.txt"
      ],
      "metadata": {
        "id": "0YxWpZsuXPwu"
      },
      "execution_count": 57,
      "outputs": []
    },
    {
      "cell_type": "code",
      "execution_count": 58,
      "metadata": {
        "id": "WZgiNqMqQeph"
      },
      "outputs": [],
      "source": [
        "# from google.colab import output\n",
        "# output.enable_custom_widget_manager()"
      ]
    },
    {
      "cell_type": "code",
      "execution_count": 59,
      "metadata": {
        "id": "CAPlVziqQTa5"
      },
      "outputs": [],
      "source": [
        "# import mdtraj\n",
        "# import nglview\n",
        "\n",
        "# #traj = mdtraj.load('1AKI_processed.gro')\n",
        "# traj = mdtraj.load('processed.gro')\n",
        "# view = nglview.show_mdtraj(traj)\n",
        "# view.clear_representations()\n",
        "# view.add_representation('ball+stick')\n",
        "# view"
      ]
    },
    {
      "cell_type": "code",
      "source": [
        "%%writefile group3.txt\n",
        "3"
      ],
      "metadata": {
        "colab": {
          "base_uri": "https://localhost:8080/"
        },
        "id": "rKMgY5OUPAdv",
        "outputId": "6dcaeb3a-d92d-43c3-b659-6f6217d45ac0"
      },
      "execution_count": 60,
      "outputs": [
        {
          "output_type": "stream",
          "name": "stdout",
          "text": [
            "Overwriting group3.txt\n"
          ]
        }
      ]
    },
    {
      "cell_type": "code",
      "execution_count": 61,
      "metadata": {
        "colab": {
          "base_uri": "https://localhost:8080/"
        },
        "id": "z6n2N0M0Qu93",
        "outputId": "199e8f55-848c-4dcf-c0ed-71b8e9a30067"
      },
      "outputs": [
        {
          "output_type": "stream",
          "name": "stdout",
          "text": [
            "             :-) GROMACS - gmx editconf, 2021.4-Ubuntu-2021.4-2 (-:\n",
            "\n",
            "                            GROMACS is written by:\n",
            "     Andrey Alekseenko              Emile Apol              Rossen Apostolov     \n",
            "         Paul Bauer           Herman J.C. Berendsen           Par Bjelkmar       \n",
            "       Christian Blau           Viacheslav Bolnykh             Kevin Boyd        \n",
            "     Aldert van Buuren           Rudi van Drunen             Anton Feenstra      \n",
            "    Gilles Gouaillardet             Alan Gray               Gerrit Groenhof      \n",
            "       Anca Hamuraru            Vincent Hindriksen          M. Eric Irrgang      \n",
            "      Aleksei Iupinov           Christoph Junghans             Joe Jordan        \n",
            "    Dimitrios Karkoulis            Peter Kasson                Jiri Kraus        \n",
            "      Carsten Kutzner              Per Larsson              Justin A. Lemkul     \n",
            "       Viveca Lindahl            Magnus Lundborg             Erik Marklund       \n",
            "        Pascal Merz             Pieter Meulenhoff            Teemu Murtola       \n",
            "        Szilard Pall               Sander Pronk              Roland Schulz       \n",
            "       Michael Shirts            Alexey Shvetsov             Alfons Sijbers      \n",
            "       Peter Tieleman              Jon Vincent              Teemu Virolainen     \n",
            "     Christian Wennberg            Maarten Wolf              Artem Zhmurov       \n",
            "                           and the project leaders:\n",
            "        Mark Abraham, Berk Hess, Erik Lindahl, and David van der Spoel\n",
            "\n",
            "Copyright (c) 1991-2000, University of Groningen, The Netherlands.\n",
            "Copyright (c) 2001-2019, The GROMACS development team at\n",
            "Uppsala University, Stockholm University and\n",
            "the Royal Institute of Technology, Sweden.\n",
            "check out http://www.gromacs.org for more information.\n",
            "\n",
            "GROMACS is free software; you can redistribute it and/or modify it\n",
            "under the terms of the GNU Lesser General Public License\n",
            "as published by the Free Software Foundation; either version 2.1\n",
            "of the License, or (at your option) any later version.\n",
            "\n",
            "GROMACS:      gmx editconf, version 2021.4-Ubuntu-2021.4-2\n",
            "Executable:   /usr/bin/gmx\n",
            "Data prefix:  /usr\n",
            "Working dir:  /content\n",
            "Command line:\n",
            "  gmx editconf -f processed.gro -o newbox.gro -c -d 0.5 -bt dodecahedron -princ\n",
            "\n",
            "Note that major changes are planned in future for editconf, to improve usability and utility.\n",
            "Read 582 atoms\n",
            "Volume: 58.4718 nm^3, corresponds to roughly 26300 electrons\n",
            "No velocities found\n",
            "    system size :  2.406  2.579  2.287 (nm)\n",
            "    diameter    :  2.890               (nm)\n",
            "    center      :  0.299  1.651  1.255 (nm)\n",
            "    box vectors :  3.720  3.720  4.879 (nm)\n",
            "    box angles  :  90.00  90.00 120.00 (degrees)\n",
            "    box volume  :  58.47               (nm^3)\n",
            "\n",
            "WARNING: Masses and atomic (Van der Waals) radii will be guessed\n",
            "         based on residue and atom names, since they could not be\n",
            "         definitively assigned from the information in your input\n",
            "         files. These guessed numbers might deviate from the mass\n",
            "         and radius of the atom type. Please check the output\n",
            "         files if necessary.\n",
            "\n",
            "\n",
            "Select group for the determining the orientation\n",
            "Group     0 (         System) has   582 elements\n",
            "Group     1 (        Protein) has   582 elements\n",
            "Group     2 (      Protein-H) has   316 elements\n",
            "Group     3 (        C-alpha) has    42 elements\n",
            "Group     4 (       Backbone) has   126 elements\n",
            "Group     5 (      MainChain) has   167 elements\n",
            "Group     6 (   MainChain+Cb) has   204 elements\n",
            "Group     7 (    MainChain+H) has   209 elements\n",
            "Group     8 (      SideChain) has   373 elements\n",
            "Group     9 (    SideChain-H) has   149 elements\n",
            "Select a group: Selected 3: 'C-alpha'\n",
            "new system size :  2.828  2.539  1.748\n",
            "    shift       :  2.631  1.303  0.263 (nm)\n",
            "new center      :  2.918  2.918  1.375 (nm)\n",
            "new box vectors :  3.890  3.890  3.890 (nm)\n",
            "new box angles  :  60.00  60.00  90.00 (degrees)\n",
            "new box volume  :  41.64               (nm^3)\n",
            "\n",
            "Back Off! I just backed up newbox.gro to ./#newbox.gro.2#\n",
            "\n",
            "GROMACS reminds you: \"Men love to wonder, and that is the seed of science.\" (Ralph Waldo Emerson)\n",
            "\n"
          ]
        }
      ],
      "source": [
        "#!gmx editconf -f 1AKI_processed.gro -o 1AKI_newbox.gro -c -d 1.0 -bt cubic\n",
        "!gmx editconf -f processed.gro -o newbox.gro -c -d 0.5 -bt dodecahedron -princ <group3.txt"
      ]
    },
    {
      "cell_type": "code",
      "execution_count": 62,
      "metadata": {
        "colab": {
          "base_uri": "https://localhost:8080/"
        },
        "id": "bxQQ2WfFRIBl",
        "outputId": "3aaccbe7-dffa-4d89-acef-c0c31870d1ed"
      },
      "outputs": [
        {
          "output_type": "stream",
          "name": "stdout",
          "text": [
            "             :-) GROMACS - gmx solvate, 2021.4-Ubuntu-2021.4-2 (-:\n",
            "\n",
            "                            GROMACS is written by:\n",
            "     Andrey Alekseenko              Emile Apol              Rossen Apostolov     \n",
            "         Paul Bauer           Herman J.C. Berendsen           Par Bjelkmar       \n",
            "       Christian Blau           Viacheslav Bolnykh             Kevin Boyd        \n",
            "     Aldert van Buuren           Rudi van Drunen             Anton Feenstra      \n",
            "    Gilles Gouaillardet             Alan Gray               Gerrit Groenhof      \n",
            "       Anca Hamuraru            Vincent Hindriksen          M. Eric Irrgang      \n",
            "      Aleksei Iupinov           Christoph Junghans             Joe Jordan        \n",
            "    Dimitrios Karkoulis            Peter Kasson                Jiri Kraus        \n",
            "      Carsten Kutzner              Per Larsson              Justin A. Lemkul     \n",
            "       Viveca Lindahl            Magnus Lundborg             Erik Marklund       \n",
            "        Pascal Merz             Pieter Meulenhoff            Teemu Murtola       \n",
            "        Szilard Pall               Sander Pronk              Roland Schulz       \n",
            "       Michael Shirts            Alexey Shvetsov             Alfons Sijbers      \n",
            "       Peter Tieleman              Jon Vincent              Teemu Virolainen     \n",
            "     Christian Wennberg            Maarten Wolf              Artem Zhmurov       \n",
            "                           and the project leaders:\n",
            "        Mark Abraham, Berk Hess, Erik Lindahl, and David van der Spoel\n",
            "\n",
            "Copyright (c) 1991-2000, University of Groningen, The Netherlands.\n",
            "Copyright (c) 2001-2019, The GROMACS development team at\n",
            "Uppsala University, Stockholm University and\n",
            "the Royal Institute of Technology, Sweden.\n",
            "check out http://www.gromacs.org for more information.\n",
            "\n",
            "GROMACS is free software; you can redistribute it and/or modify it\n",
            "under the terms of the GNU Lesser General Public License\n",
            "as published by the Free Software Foundation; either version 2.1\n",
            "of the License, or (at your option) any later version.\n",
            "\n",
            "GROMACS:      gmx solvate, version 2021.4-Ubuntu-2021.4-2\n",
            "Executable:   /usr/bin/gmx\n",
            "Data prefix:  /usr\n",
            "Working dir:  /content\n",
            "Command line:\n",
            "  gmx solvate -cp newbox.gro -cs spc216.gro -o solv.gro -p topol.top\n",
            "\n",
            "Reading solute configuration\n",
            "Reading solvent configuration\n",
            "\n",
            "Initialising inter-atomic distances...\n",
            "\n",
            "WARNING: Masses and atomic (Van der Waals) radii will be guessed\n",
            "         based on residue and atom names, since they could not be\n",
            "         definitively assigned from the information in your input\n",
            "         files. These guessed numbers might deviate from the mass\n",
            "         and radius of the atom type. Please check the output\n",
            "         files if necessary.\n",
            "\n",
            "NOTE: From version 5.0 gmx solvate uses the Van der Waals radii\n",
            "from the source below. This means the results may be different\n",
            "compared to previous GROMACS versions.\n",
            "\n",
            "++++ PLEASE READ AND CITE THE FOLLOWING REFERENCE ++++\n",
            "A. Bondi\n",
            "van der Waals Volumes and Radii\n",
            "J. Phys. Chem. 68 (1964) pp. 441-451\n",
            "-------- -------- --- Thank You --- -------- --------\n",
            "\n",
            "Generating solvent configuration\n",
            "Will generate new solvent configuration of 3x3x2 boxes\n",
            "Solvent box contains 5370 atoms in 1790 residues\n",
            "Removed 1590 solvent atoms due to solvent-solvent overlap\n",
            "Removed 537 solvent atoms due to solute-solvent overlap\n",
            "Sorting configuration\n",
            "Found 1 molecule type:\n",
            "    SOL (   3 atoms):  1081 residues\n",
            "Generated solvent containing 3243 atoms in 1081 residues\n",
            "Writing generated configuration to solv.gro\n",
            "\n",
            "Back Off! I just backed up solv.gro to ./#solv.gro.4#\n",
            "\n",
            "Output configuration contains 3825 atoms in 1123 residues\n",
            "Volume                 :     41.6361 (nm^3)\n",
            "Density                :      970.96 (g/l)\n",
            "Number of solvent molecules:   1081   \n",
            "\n",
            "Processing topology\n",
            "Adding line for 1081 solvent molecules with resname (SOL) to topology file (topol.top)\n",
            "\n",
            "Back Off! I just backed up topol.top to ./#topol.top.9#\n",
            "\n",
            "GROMACS reminds you: \"Creativity in science, as in art, cannot be organized. It arises spontaneously from individual talent. Well-run laboratories can foster it, but hierarchical organizations, inflexible bureaucratic rules, and mountains of futile paperwork can kill it.\" (Max Perutz)\n",
            "\n"
          ]
        }
      ],
      "source": [
        "#!gmx solvate -cp 1AKI_newbox.gro -cs spc216.gro -o 1AKI_solv.gro -p topol.top\n",
        "!gmx solvate -cp newbox.gro -cs spc216.gro -o solv.gro -p topol.top"
      ]
    },
    {
      "cell_type": "code",
      "source": [
        "!cp topol.top topol.top.txt"
      ],
      "metadata": {
        "id": "HEjEAWLIgxJI"
      },
      "execution_count": 63,
      "outputs": []
    },
    {
      "cell_type": "code",
      "source": [
        "#traj = mdtraj.load('1AKI_solv.gro')\n",
        "# traj = mdtraj.load('solv.gro')\n",
        "# view = nglview.show_mdtraj(traj)\n",
        "# view.clear_representations()\n",
        "# view.add_representation('point',selection='water',opacity=0.25)\n",
        "# view"
      ],
      "metadata": {
        "id": "cnQEsGG1tRTk"
      },
      "execution_count": null,
      "outputs": []
    },
    {
      "cell_type": "code",
      "execution_count": 65,
      "metadata": {
        "colab": {
          "base_uri": "https://localhost:8080/"
        },
        "id": "MmsmjlqKTlOu",
        "outputId": "ac087545-1bb4-4d00-ed79-d7448813e2bc"
      },
      "outputs": [
        {
          "output_type": "stream",
          "name": "stdout",
          "text": [
            "--2025-03-29 20:14:16--  http://www.mdtutorials.com/gmx/lysozyme/Files/ions.mdp\n",
            "Resolving www.mdtutorials.com (www.mdtutorials.com)... 13.59.3.21\n",
            "Connecting to www.mdtutorials.com (www.mdtutorials.com)|13.59.3.21|:80... connected.\n",
            "HTTP request sent, awaiting response... 200 OK\n",
            "Length: 1045 (1.0K)\n",
            "Saving to: ‘ions.mdp.3’\n",
            "\n",
            "\rions.mdp.3            0%[                    ]       0  --.-KB/s               \rions.mdp.3          100%[===================>]   1.02K  --.-KB/s    in 0s      \n",
            "\n",
            "2025-03-29 20:14:17 (97.6 MB/s) - ‘ions.mdp.3’ saved [1045/1045]\n",
            "\n"
          ]
        }
      ],
      "source": [
        "!wget http://www.mdtutorials.com/gmx/lysozyme/Files/ions.mdp"
      ]
    },
    {
      "cell_type": "code",
      "execution_count": 40,
      "metadata": {
        "id": "qaLPWr2RfxfQ"
      },
      "outputs": [],
      "source": [
        "!cp ions.mdp ions.mdp.txt"
      ]
    },
    {
      "cell_type": "code",
      "execution_count": 66,
      "metadata": {
        "colab": {
          "base_uri": "https://localhost:8080/"
        },
        "id": "V6JLB0TPR6M7",
        "outputId": "6df0803e-396c-44d1-8b48-5f0983f7e814"
      },
      "outputs": [
        {
          "output_type": "stream",
          "name": "stdout",
          "text": [
            "              :-) GROMACS - gmx grompp, 2021.4-Ubuntu-2021.4-2 (-:\n",
            "\n",
            "                            GROMACS is written by:\n",
            "     Andrey Alekseenko              Emile Apol              Rossen Apostolov     \n",
            "         Paul Bauer           Herman J.C. Berendsen           Par Bjelkmar       \n",
            "       Christian Blau           Viacheslav Bolnykh             Kevin Boyd        \n",
            "     Aldert van Buuren           Rudi van Drunen             Anton Feenstra      \n",
            "    Gilles Gouaillardet             Alan Gray               Gerrit Groenhof      \n",
            "       Anca Hamuraru            Vincent Hindriksen          M. Eric Irrgang      \n",
            "      Aleksei Iupinov           Christoph Junghans             Joe Jordan        \n",
            "    Dimitrios Karkoulis            Peter Kasson                Jiri Kraus        \n",
            "      Carsten Kutzner              Per Larsson              Justin A. Lemkul     \n",
            "       Viveca Lindahl            Magnus Lundborg             Erik Marklund       \n",
            "        Pascal Merz             Pieter Meulenhoff            Teemu Murtola       \n",
            "        Szilard Pall               Sander Pronk              Roland Schulz       \n",
            "       Michael Shirts            Alexey Shvetsov             Alfons Sijbers      \n",
            "       Peter Tieleman              Jon Vincent              Teemu Virolainen     \n",
            "     Christian Wennberg            Maarten Wolf              Artem Zhmurov       \n",
            "                           and the project leaders:\n",
            "        Mark Abraham, Berk Hess, Erik Lindahl, and David van der Spoel\n",
            "\n",
            "Copyright (c) 1991-2000, University of Groningen, The Netherlands.\n",
            "Copyright (c) 2001-2019, The GROMACS development team at\n",
            "Uppsala University, Stockholm University and\n",
            "the Royal Institute of Technology, Sweden.\n",
            "check out http://www.gromacs.org for more information.\n",
            "\n",
            "GROMACS is free software; you can redistribute it and/or modify it\n",
            "under the terms of the GNU Lesser General Public License\n",
            "as published by the Free Software Foundation; either version 2.1\n",
            "of the License, or (at your option) any later version.\n",
            "\n",
            "GROMACS:      gmx grompp, version 2021.4-Ubuntu-2021.4-2\n",
            "Executable:   /usr/bin/gmx\n",
            "Data prefix:  /usr\n",
            "Working dir:  /content\n",
            "Command line:\n",
            "  gmx grompp -f ions.mdp -c solv.gro -p topol.top -o ions.tpr\n",
            "\n",
            "Ignoring obsolete mdp entry 'ns_type'\n",
            "\n",
            "NOTE 1 [file ions.mdp]:\n",
            "  With Verlet lists the optimal nstlist is >= 10, with GPUs >= 20. Note\n",
            "  that with the Verlet scheme, nstlist has no effect on the accuracy of\n",
            "  your simulation.\n",
            "\n",
            "Setting the LD random seed to -138947633\n",
            "\n",
            "Generated 20503 of the 20503 non-bonded parameter combinations\n",
            "Generating 1-4 interactions: fudge = 1\n",
            "\n",
            "Generated 17396 of the 20503 1-4 parameter combinations\n",
            "\n",
            "Excluding 3 bonded neighbours molecule type 'Protein_chain_A'\n",
            "\n",
            "Excluding 2 bonded neighbours molecule type 'SOL'\n",
            "\n",
            "NOTE 2 [file topol.top, line 5610]:\n",
            "  System has non-zero total charge: -2.000000\n",
            "  Total charge should normally be an integer. See\n",
            "  http://www.gromacs.org/Documentation/Floating_Point_Arithmetic\n",
            "  for discussion on how close it should be to an integer.\n",
            "  \n",
            "\n",
            "\n",
            "Analysing residue names:\n",
            "There are:    42    Protein residues\n",
            "There are:  1081      Water residues\n",
            "Analysing Protein...\n",
            "Number of degrees of freedom in T-Coupling group rest is 8229.00\n",
            "\n",
            "NOTE 3 [file ions.mdp]:\n",
            "  You are using a plain Coulomb cut-off, which might produce artifacts.\n",
            "  You might want to consider using PME electrostatics.\n",
            "\n",
            "\n",
            "\n",
            "This run will generate roughly 0 Mb of data\n",
            "\n",
            "There were 3 notes\n",
            "\n",
            "GROMACS reminds you: \"Do You Have a Mind of Your Own ?\" (Garbage)\n",
            "\n"
          ]
        }
      ],
      "source": [
        "#!gmx grompp -f ions.mdp -c 1AKI_solv.gro -p topol.top -o ions.tpr\n",
        "!gmx grompp -f ions.mdp -c solv.gro -p topol.top -o ions.tpr"
      ]
    },
    {
      "cell_type": "code",
      "execution_count": 38,
      "metadata": {
        "id": "OBle7qZKUib7"
      },
      "outputs": [],
      "source": [
        "!cp topol.top topol.top.txt\n",
        "# !cp topol.top.txt topol.top"
      ]
    },
    {
      "cell_type": "code",
      "execution_count": 67,
      "metadata": {
        "colab": {
          "base_uri": "https://localhost:8080/"
        },
        "id": "Ze8ViWBcR0mP",
        "outputId": "c7b541ab-28e4-4462-f6d1-80aa71a1c3c4"
      },
      "outputs": [
        {
          "output_type": "stream",
          "name": "stdout",
          "text": [
            "Writing group13.txt\n"
          ]
        }
      ],
      "source": [
        "%%writefile group13.txt\n",
        "13\n"
      ]
    },
    {
      "cell_type": "code",
      "execution_count": 68,
      "metadata": {
        "colab": {
          "base_uri": "https://localhost:8080/"
        },
        "id": "U_KeMQCWun9M",
        "outputId": "91e82e55-c1ae-4a16-f2cd-eb161974e862"
      },
      "outputs": [
        {
          "output_type": "stream",
          "name": "stdout",
          "text": [
            "              :-) GROMACS - gmx genion, 2021.4-Ubuntu-2021.4-2 (-:\n",
            "\n",
            "                            GROMACS is written by:\n",
            "     Andrey Alekseenko              Emile Apol              Rossen Apostolov     \n",
            "         Paul Bauer           Herman J.C. Berendsen           Par Bjelkmar       \n",
            "       Christian Blau           Viacheslav Bolnykh             Kevin Boyd        \n",
            "     Aldert van Buuren           Rudi van Drunen             Anton Feenstra      \n",
            "    Gilles Gouaillardet             Alan Gray               Gerrit Groenhof      \n",
            "       Anca Hamuraru            Vincent Hindriksen          M. Eric Irrgang      \n",
            "      Aleksei Iupinov           Christoph Junghans             Joe Jordan        \n",
            "    Dimitrios Karkoulis            Peter Kasson                Jiri Kraus        \n",
            "      Carsten Kutzner              Per Larsson              Justin A. Lemkul     \n",
            "       Viveca Lindahl            Magnus Lundborg             Erik Marklund       \n",
            "        Pascal Merz             Pieter Meulenhoff            Teemu Murtola       \n",
            "        Szilard Pall               Sander Pronk              Roland Schulz       \n",
            "       Michael Shirts            Alexey Shvetsov             Alfons Sijbers      \n",
            "       Peter Tieleman              Jon Vincent              Teemu Virolainen     \n",
            "     Christian Wennberg            Maarten Wolf              Artem Zhmurov       \n",
            "                           and the project leaders:\n",
            "        Mark Abraham, Berk Hess, Erik Lindahl, and David van der Spoel\n",
            "\n",
            "Copyright (c) 1991-2000, University of Groningen, The Netherlands.\n",
            "Copyright (c) 2001-2019, The GROMACS development team at\n",
            "Uppsala University, Stockholm University and\n",
            "the Royal Institute of Technology, Sweden.\n",
            "check out http://www.gromacs.org for more information.\n",
            "\n",
            "GROMACS is free software; you can redistribute it and/or modify it\n",
            "under the terms of the GNU Lesser General Public License\n",
            "as published by the Free Software Foundation; either version 2.1\n",
            "of the License, or (at your option) any later version.\n",
            "\n",
            "GROMACS:      gmx genion, version 2021.4-Ubuntu-2021.4-2\n",
            "Executable:   /usr/bin/gmx\n",
            "Data prefix:  /usr\n",
            "Working dir:  /content\n",
            "Command line:\n",
            "  gmx genion -s ions.tpr -o solv_ions.gro -p topol.top -pname NA -nname CL -neutral\n",
            "\n",
            "Reading file ions.tpr, VERSION 2021.4-Ubuntu-2021.4-2 (single precision)\n",
            "Reading file ions.tpr, VERSION 2021.4-Ubuntu-2021.4-2 (single precision)\n",
            "Will try to add 2 NA ions and 0 CL ions.\n",
            "Select a continuous group of solvent molecules\n",
            "Group     0 (         System) has  3825 elements\n",
            "Group     1 (        Protein) has   582 elements\n",
            "Group     2 (      Protein-H) has   316 elements\n",
            "Group     3 (        C-alpha) has    42 elements\n",
            "Group     4 (       Backbone) has   126 elements\n",
            "Group     5 (      MainChain) has   167 elements\n",
            "Group     6 (   MainChain+Cb) has   204 elements\n",
            "Group     7 (    MainChain+H) has   209 elements\n",
            "Group     8 (      SideChain) has   373 elements\n",
            "Group     9 (    SideChain-H) has   149 elements\n",
            "Group    10 (    Prot-Masses) has   582 elements\n",
            "Group    11 (    non-Protein) has  3243 elements\n",
            "Group    12 (          Water) has  3243 elements\n",
            "Group    13 (            SOL) has  3243 elements\n",
            "Group    14 (      non-Water) has   582 elements\n",
            "Select a group: Selected 13: 'SOL'\n",
            "Number of (3-atomic) solvent molecules: 1081\n",
            "\n",
            "Processing topology\n",
            "Replacing 2 solute molecules in topology file (topol.top)  by 2 NA and 0 CL ions.\n",
            "\n",
            "Back Off! I just backed up topol.top to ./#topol.top.10#\n",
            "Using random seed 2147479231.\n",
            "Replacing solvent molecule 739 (atom 2799) with NA\n",
            "Replacing solvent molecule 139 (atom 999) with NA\n",
            "\n",
            "\n",
            "GROMACS reminds you: \"set: No match.\" (tcsh)\n",
            "\n"
          ]
        }
      ],
      "source": [
        "#!gmx genion -s ions.tpr -o 1AKI_solv_ions.gro -p topol.top -pname NA -nname CL -neutral <group13.txt\n",
        "!gmx genion -s ions.tpr -o solv_ions.gro -p topol.top -pname NA -nname CL -neutral <group13.txt"
      ]
    },
    {
      "cell_type": "code",
      "source": [
        "#traj = mdtraj.load('1AKI_solv_ions.gro')\n",
        "# traj = mdtraj.load('solv_ions.gro')\n",
        "# view = nglview.show_mdtraj(traj)\n",
        "# view.clear_representations()\n",
        "# view.add_representation('point',selection=\"water\")\n",
        "# view.add_representation('spacefill',selection=\"ion\")\n",
        "# view"
      ],
      "metadata": {
        "id": "as9RP73VtuQi"
      },
      "execution_count": 69,
      "outputs": []
    },
    {
      "cell_type": "code",
      "execution_count": 70,
      "metadata": {
        "colab": {
          "base_uri": "https://localhost:8080/"
        },
        "id": "HeJEiRmkuyMD",
        "outputId": "746d7200-a5ef-4448-c244-2c11103909db"
      },
      "outputs": [
        {
          "output_type": "stream",
          "name": "stdout",
          "text": [
            "--2025-03-29 20:17:48--  http://www.mdtutorials.com/gmx/lysozyme/Files/minim.mdp\n",
            "Resolving www.mdtutorials.com (www.mdtutorials.com)... 13.59.3.21\n",
            "Connecting to www.mdtutorials.com (www.mdtutorials.com)|13.59.3.21|:80... connected.\n",
            "HTTP request sent, awaiting response... 200 OK\n",
            "Length: 1045 (1.0K)\n",
            "Saving to: ‘minim.mdp.2’\n",
            "\n",
            "\rminim.mdp.2           0%[                    ]       0  --.-KB/s               \rminim.mdp.2         100%[===================>]   1.02K  --.-KB/s    in 0s      \n",
            "\n",
            "2025-03-29 20:17:48 (98.7 MB/s) - ‘minim.mdp.2’ saved [1045/1045]\n",
            "\n"
          ]
        }
      ],
      "source": [
        "!wget http://www.mdtutorials.com/gmx/lysozyme/Files/minim.mdp"
      ]
    },
    {
      "cell_type": "code",
      "source": [
        "!cp topol.top topol.top.txt"
      ],
      "metadata": {
        "id": "B44GMaxTbWFc"
      },
      "execution_count": 71,
      "outputs": []
    },
    {
      "cell_type": "code",
      "execution_count": 29,
      "metadata": {
        "id": "sYoxOLxNfnYI"
      },
      "outputs": [],
      "source": [
        "!cp minim.mdp minim.mdp.txt"
      ]
    },
    {
      "cell_type": "code",
      "execution_count": 72,
      "metadata": {
        "colab": {
          "base_uri": "https://localhost:8080/"
        },
        "id": "Yvs6xE3-u-xD",
        "outputId": "0a34651e-ca97-4a3e-d7d9-c1b8c036ad3b"
      },
      "outputs": [
        {
          "output_type": "stream",
          "name": "stdout",
          "text": [
            "              :-) GROMACS - gmx grompp, 2021.4-Ubuntu-2021.4-2 (-:\n",
            "\n",
            "                            GROMACS is written by:\n",
            "     Andrey Alekseenko              Emile Apol              Rossen Apostolov     \n",
            "         Paul Bauer           Herman J.C. Berendsen           Par Bjelkmar       \n",
            "       Christian Blau           Viacheslav Bolnykh             Kevin Boyd        \n",
            "     Aldert van Buuren           Rudi van Drunen             Anton Feenstra      \n",
            "    Gilles Gouaillardet             Alan Gray               Gerrit Groenhof      \n",
            "       Anca Hamuraru            Vincent Hindriksen          M. Eric Irrgang      \n",
            "      Aleksei Iupinov           Christoph Junghans             Joe Jordan        \n",
            "    Dimitrios Karkoulis            Peter Kasson                Jiri Kraus        \n",
            "      Carsten Kutzner              Per Larsson              Justin A. Lemkul     \n",
            "       Viveca Lindahl            Magnus Lundborg             Erik Marklund       \n",
            "        Pascal Merz             Pieter Meulenhoff            Teemu Murtola       \n",
            "        Szilard Pall               Sander Pronk              Roland Schulz       \n",
            "       Michael Shirts            Alexey Shvetsov             Alfons Sijbers      \n",
            "       Peter Tieleman              Jon Vincent              Teemu Virolainen     \n",
            "     Christian Wennberg            Maarten Wolf              Artem Zhmurov       \n",
            "                           and the project leaders:\n",
            "        Mark Abraham, Berk Hess, Erik Lindahl, and David van der Spoel\n",
            "\n",
            "Copyright (c) 1991-2000, University of Groningen, The Netherlands.\n",
            "Copyright (c) 2001-2019, The GROMACS development team at\n",
            "Uppsala University, Stockholm University and\n",
            "the Royal Institute of Technology, Sweden.\n",
            "check out http://www.gromacs.org for more information.\n",
            "\n",
            "GROMACS is free software; you can redistribute it and/or modify it\n",
            "under the terms of the GNU Lesser General Public License\n",
            "as published by the Free Software Foundation; either version 2.1\n",
            "of the License, or (at your option) any later version.\n",
            "\n",
            "GROMACS:      gmx grompp, version 2021.4-Ubuntu-2021.4-2\n",
            "Executable:   /usr/bin/gmx\n",
            "Data prefix:  /usr\n",
            "Working dir:  /content\n",
            "Command line:\n",
            "  gmx grompp -f minim.mdp -c solv_ions.gro -p topol.top -o em.tpr\n",
            "\n",
            "Ignoring obsolete mdp entry 'ns_type'\n",
            "\n",
            "NOTE 1 [file minim.mdp]:\n",
            "  With Verlet lists the optimal nstlist is >= 10, with GPUs >= 20. Note\n",
            "  that with the Verlet scheme, nstlist has no effect on the accuracy of\n",
            "  your simulation.\n",
            "\n",
            "Setting the LD random seed to -2621573\n",
            "\n",
            "Generated 20503 of the 20503 non-bonded parameter combinations\n",
            "Generating 1-4 interactions: fudge = 1\n",
            "\n",
            "Generated 17396 of the 20503 1-4 parameter combinations\n",
            "\n",
            "Excluding 3 bonded neighbours molecule type 'Protein_chain_A'\n",
            "\n",
            "Excluding 2 bonded neighbours molecule type 'SOL'\n",
            "\n",
            "Excluding 1 bonded neighbours molecule type 'NA'\n",
            "Analysing residue names:\n",
            "There are:    42    Protein residues\n",
            "There are:  1079      Water residues\n",
            "There are:     2        Ion residues\n",
            "Analysing Protein...\n",
            "Analysing residues not classified as Protein/DNA/RNA/Water and splitting into groups...\n",
            "Number of degrees of freedom in T-Coupling group rest is 8223.00\n",
            "Calculating fourier grid dimensions for X Y Z\n",
            "Using a fourier grid of 36x36x36, spacing 0.108 0.108 0.108\n",
            "\n",
            "Estimate for the relative computational load of the PME mesh part: 0.22\n",
            "\n",
            "This run will generate roughly 0 Mb of data\n",
            "\n",
            "There was 1 note\n",
            "\n",
            "GROMACS reminds you: \"Academia is kind of like applied Marxism. The workers really do own the means of production.\" (Niklas Blomberg)\n",
            "\n"
          ]
        }
      ],
      "source": [
        "#!gmx grompp -f minim.mdp -c 1AKI_solv_ions.gro -p topol.top -o em.tpr\n",
        "!gmx grompp -f minim.mdp -c solv_ions.gro -p topol.top -o em.tpr"
      ]
    },
    {
      "cell_type": "code",
      "execution_count": 73,
      "metadata": {
        "id": "ybc8ROyyvNv7"
      },
      "outputs": [],
      "source": [
        "!gmx mdrun -v -deffnm em 1>em.out.txt 2>em.err.txt\n",
        "#aprox 5s"
      ]
    },
    {
      "cell_type": "code",
      "execution_count": 74,
      "metadata": {
        "colab": {
          "base_uri": "https://localhost:8080/"
        },
        "id": "0OB9cwgaSG94",
        "outputId": "44b36d4d-a0b7-4e5d-d521-2b53e655de14"
      },
      "outputs": [
        {
          "output_type": "stream",
          "name": "stdout",
          "text": [
            "Overwriting edrpotential.txt\n"
          ]
        }
      ],
      "source": [
        "%%writefile edrpotential.txt\n",
        "11 0\n"
      ]
    },
    {
      "cell_type": "code",
      "execution_count": 75,
      "metadata": {
        "colab": {
          "base_uri": "https://localhost:8080/"
        },
        "id": "QOar3E9J4XQL",
        "outputId": "5842e9ad-9911-4e82-c715-99004049855b"
      },
      "outputs": [
        {
          "output_type": "stream",
          "name": "stdout",
          "text": [
            "              :-) GROMACS - gmx energy, 2021.4-Ubuntu-2021.4-2 (-:\n",
            "\n",
            "                            GROMACS is written by:\n",
            "     Andrey Alekseenko              Emile Apol              Rossen Apostolov     \n",
            "         Paul Bauer           Herman J.C. Berendsen           Par Bjelkmar       \n",
            "       Christian Blau           Viacheslav Bolnykh             Kevin Boyd        \n",
            "     Aldert van Buuren           Rudi van Drunen             Anton Feenstra      \n",
            "    Gilles Gouaillardet             Alan Gray               Gerrit Groenhof      \n",
            "       Anca Hamuraru            Vincent Hindriksen          M. Eric Irrgang      \n",
            "      Aleksei Iupinov           Christoph Junghans             Joe Jordan        \n",
            "    Dimitrios Karkoulis            Peter Kasson                Jiri Kraus        \n",
            "      Carsten Kutzner              Per Larsson              Justin A. Lemkul     \n",
            "       Viveca Lindahl            Magnus Lundborg             Erik Marklund       \n",
            "        Pascal Merz             Pieter Meulenhoff            Teemu Murtola       \n",
            "        Szilard Pall               Sander Pronk              Roland Schulz       \n",
            "       Michael Shirts            Alexey Shvetsov             Alfons Sijbers      \n",
            "       Peter Tieleman              Jon Vincent              Teemu Virolainen     \n",
            "     Christian Wennberg            Maarten Wolf              Artem Zhmurov       \n",
            "                           and the project leaders:\n",
            "        Mark Abraham, Berk Hess, Erik Lindahl, and David van der Spoel\n",
            "\n",
            "Copyright (c) 1991-2000, University of Groningen, The Netherlands.\n",
            "Copyright (c) 2001-2019, The GROMACS development team at\n",
            "Uppsala University, Stockholm University and\n",
            "the Royal Institute of Technology, Sweden.\n",
            "check out http://www.gromacs.org for more information.\n",
            "\n",
            "GROMACS is free software; you can redistribute it and/or modify it\n",
            "under the terms of the GNU Lesser General Public License\n",
            "as published by the Free Software Foundation; either version 2.1\n",
            "of the License, or (at your option) any later version.\n",
            "\n",
            "GROMACS:      gmx energy, version 2021.4-Ubuntu-2021.4-2\n",
            "Executable:   /usr/bin/gmx\n",
            "Data prefix:  /usr\n",
            "Working dir:  /content\n",
            "Command line:\n",
            "  gmx energy -f em.edr -o potential.xvg\n",
            "\n",
            "Opened em.edr as single precision energy file\n",
            "\n",
            "Select the terms you want from the following list by\n",
            "selecting either (part of) the name or the number or a combination.\n",
            "End your selection with an empty line or a zero.\n",
            "-------------------------------------------------------------------\n",
            "  1  Bond             2  U-B              3  Proper-Dih.      4  Improper-Dih. \n",
            "  5  CMAP-Dih.        6  LJ-14            7  Coulomb-14       8  LJ-(SR)       \n",
            "  9  Coulomb-(SR)    10  Coul.-recip.    11  Potential       12  Pressure      \n",
            " 13  Vir-XX          14  Vir-XY          15  Vir-XZ          16  Vir-YX        \n",
            " 17  Vir-YY          18  Vir-YZ          19  Vir-ZX          20  Vir-ZY        \n",
            " 21  Vir-ZZ          22  Pres-XX         23  Pres-XY         24  Pres-XZ       \n",
            " 25  Pres-YX         26  Pres-YY         27  Pres-YZ         28  Pres-ZX       \n",
            " 29  Pres-ZY         30  Pres-ZZ         31  #Surf*SurfTen   32  T-rest        \n",
            "\n",
            "\rReading energy frame      0 time    0.000         \rReading energy frame      1 time    1.000         \rReading energy frame      2 time    2.000         \rReading energy frame      3 time    3.000         \rReading energy frame      4 time    4.000         \rReading energy frame      5 time    5.000         \rReading energy frame      6 time    6.000         \rReading energy frame      7 time    7.000         \rReading energy frame      8 time    9.000         \rReading energy frame      9 time   11.000         \rReading energy frame     10 time   12.000         \rReading energy frame     11 time   13.000         \rReading energy frame     12 time   15.000         \rReading energy frame     13 time   16.000         \rReading energy frame     14 time   17.000         \rReading energy frame     15 time   18.000         \rReading energy frame     16 time   19.000         \rReading energy frame     17 time   21.000         \rReading energy frame     18 time   22.000         \rReading energy frame     19 time   23.000         \rReading energy frame     20 time   25.000         \rReading energy frame     30 time   38.000         \rReading energy frame     40 time   51.000         \rReading energy frame     50 time   64.000         \rReading energy frame     60 time   76.000         \rLast energy frame read 69 time   88.000         \n",
            "\n",
            "Statistics over 89 steps [ 0.0000 through 88.0000 ps ], 1 data sets\n",
            "All statistics are over 70 points (frames)\n",
            "\n",
            "Energy                      Average   Err.Est.       RMSD  Tot-Drift\n",
            "-------------------------------------------------------------------------------\n",
            "Potential                  -42574.2       3200    9296.03   -20391.1  (kJ/mol)\n",
            "\n",
            "GROMACS reminds you: \"Baby, It Aint Over Till It's Over\" (Lenny Kravitz)\n",
            "\n"
          ]
        }
      ],
      "source": [
        "!gmx energy -f em.edr -o potential.xvg <edrpotential.txt\n",
        "# type \"11 0\""
      ]
    },
    {
      "cell_type": "code",
      "execution_count": 76,
      "metadata": {
        "id": "wwQdRdBJ4YYL"
      },
      "outputs": [],
      "source": [
        "!grace -hardcopy -hdevice SVG -nxy potential.xvg -printfile potential.svg"
      ]
    },
    {
      "cell_type": "code",
      "source": [
        "!cp potential.xvg potential.xvg.txt"
      ],
      "metadata": {
        "id": "qoRfh3XGwxYM"
      },
      "execution_count": 77,
      "outputs": []
    },
    {
      "cell_type": "code",
      "source": [
        "from IPython.display import SVG, display\n",
        "display(SVG(\"potential.svg\"))"
      ],
      "metadata": {
        "colab": {
          "base_uri": "https://localhost:8080/",
          "height": 837
        },
        "id": "KqVbyc_CGlnv",
        "outputId": "d525cbaf-65e4-4550-9d3e-a30632107f14"
      },
      "execution_count": 78,
      "outputs": [
        {
          "output_type": "display_data",
          "data": {
            "text/plain": [
              "<IPython.core.display.SVG object>"
            ],
            "image/svg+xml": "<svg xml:space=\"preserve\" width=\"11.0000in\" height=\"8.5000in\" viewBox=\"0.0000 0.0000 792.0000 612.0000\">\n <g transform=\"translate(0,612.0000) scale(1,-1)\">\n  <g style=\"fill:#FFFFFF; fill-rule:nonzero\">\n   <path d=\"M0.0000,0.0000L0.0000,612.0000L792.0000,612.0000L792.0000,0.0000z\"/>\n  </g>\n  <g style=\"fill:none; stroke:#000000; stroke-width:  0.9180; stroke-linecap:butt; stroke-linejoin:miter; stroke-dasharray:none\">\n   <path d=\"M91.8000,514.8386L95.8800,433.4726L99.9600,357.9256L104.0400,290.7303L108.1200,240.0028L112.2000,199.6721L116.2800,192.9966L120.3600,183.8902L128.5200,174.4268L136.6800,170.8861             L140.7600,168.4138L144.8400,164.7450L153.0000,161.9789L157.0800,159.5377L161.1600,157.0195L165.2400,156.1638L169.3200,154.1956L177.4800,150.7326L181.5600,148.3822L185.6400,144.0406             L193.8000,142.8405L197.8800,141.5285L201.9600,140.9163L206.0400,139.6506L214.2000,137.5306L218.2800,136.3199L222.3600,133.9174L230.5200,132.8951L234.6000,132.2880L238.6800,131.2475             L246.8400,129.9733L250.9200,128.9337L255.0000,127.4482L263.1600,126.6250L267.2400,126.0557L271.3200,125.1762L279.4800,124.2762L283.5600,123.4998L287.6400,122.4349L295.8000,121.7262             L299.8800,121.2494L303.9600,120.4370L312.1200,119.7096L316.2000,119.2091L320.2800,118.3168L328.4400,117.7021L332.5200,117.1378L336.6000,116.4248L340.6800,116.2567L344.7600,115.4312             L352.9200,114.7451L357.0000,114.3731L361.0800,113.6454L369.2400,113.0967L373.3200,112.6432L377.4000,111.9771L381.4800,111.9485L385.5600,111.1490L393.7200,110.5275L397.8000,110.3244             L401.8800,109.6582L410.0400,109.1280L414.1200,108.8226L418.2000,108.1548L426.3600,107.7494L430.4400,107.4169L434.5200,107.0152L438.6000,106.8466L442.6800,106.5097L450.8400,105.7952\"/>\n   <path d=\"M91.8000,91.8000L459.0000,91.8000\"/>\n   <path d=\"M91.8000,520.2000L459.0000,520.2000\"/>\n   <path d=\"M132.6000,91.8000L132.6000,97.9200\"/>\n   <path d=\"M132.6000,520.2000L132.6000,514.0800\"/>\n   <path d=\"M214.2000,91.8000L214.2000,97.9200\"/>\n   <path d=\"M214.2000,520.2000L214.2000,514.0800\"/>\n   <path d=\"M295.8000,91.8000L295.8000,97.9200\"/>\n   <path d=\"M295.8000,520.2000L295.8000,514.0800\"/>\n   <path d=\"M377.4000,91.8000L377.4000,97.9200\"/>\n   <path d=\"M377.4000,520.2000L377.4000,514.0800\"/>\n   <path d=\"M459.0000,91.8000L459.0000,97.9200\"/>\n   <path d=\"M459.0000,520.2000L459.0000,514.0800\"/>\n   <path d=\"M91.8000,91.8000L91.8000,104.0400\"/>\n   <path d=\"M91.8000,520.2000L91.8000,507.9600\"/>\n   <path d=\"M173.4000,91.8000L173.4000,104.0400\"/>\n   <path d=\"M173.4000,520.2000L173.4000,507.9600\"/>\n   <path d=\"M255.0000,91.8000L255.0000,104.0400\"/>\n   <path d=\"M255.0000,520.2000L255.0000,507.9600\"/>\n   <path d=\"M336.6000,91.8000L336.6000,104.0400\"/>\n   <path d=\"M336.6000,520.2000L336.6000,507.9600\"/>\n   <path d=\"M418.2000,91.8000L418.2000,104.0400\"/>\n   <path d=\"M418.2000,520.2000L418.2000,507.9600\"/>\n  </g>\n  <g style=\"fill:#000000; fill-rule:nonzero\">\n   <text style=\"font-family:'Times','Nimbus Roman No9 L'; font-style:normal; font-weight:normal; font-size:612.0000\" transform=\"matrix(0.0280,0.0000,-0.0000,-0.0280,87.8000,74.6800)\">0</text>\n   <text style=\"font-family:'Times','Nimbus Roman No9 L'; font-style:normal; font-weight:normal; font-size:612.0000\" transform=\"matrix(0.0280,0.0000,-0.0000,-0.0280,164.9000,74.6800)\">20</text>\n   <text style=\"font-family:'Times','Nimbus Roman No9 L'; font-style:normal; font-weight:normal; font-size:612.0000\" transform=\"matrix(0.0280,0.0000,-0.0000,-0.0280,246.5000,74.6800)\">40</text>\n   <text style=\"font-family:'Times','Nimbus Roman No9 L'; font-style:normal; font-weight:normal; font-size:612.0000\" transform=\"matrix(0.0280,0.0000,-0.0000,-0.0280,328.1000,73.6800)\">60</text>\n   <text style=\"font-family:'Times','Nimbus Roman No9 L'; font-style:normal; font-weight:normal; font-size:612.0000\" transform=\"matrix(0.0280,0.0000,-0.0000,-0.0280,409.7000,74.6800)\">80</text>\n   <text style=\"font-family:'Times','Nimbus Roman No9 L'; font-style:normal; font-weight:normal; font-size:612.0000\" transform=\"matrix(0.0280,0.0000,-0.0000,-0.0280,242.4000,55.5600)\">Time (ps)</text>\n  </g>\n  <g style=\"fill:none; stroke:#000000; stroke-width:  0.9180; stroke-linecap:butt; stroke-linejoin:miter; stroke-dasharray:none\">\n   <path d=\"M91.8000,91.8000L91.8000,520.2000\"/>\n   <path d=\"M459.0000,91.8000L459.0000,520.2000\"/>\n   <path d=\"M91.8000,129.3789L97.9200,129.3789\"/>\n   <path d=\"M459.0000,129.3789L452.8800,129.3789\"/>\n   <path d=\"M91.8000,204.5368L97.9200,204.5368\"/>\n   <path d=\"M459.0000,204.5368L452.8800,204.5368\"/>\n   <path d=\"M91.8000,279.6947L97.9200,279.6947\"/>\n   <path d=\"M459.0000,279.6947L452.8800,279.6947\"/>\n   <path d=\"M91.8000,354.8526L97.9200,354.8526\"/>\n   <path d=\"M459.0000,354.8526L452.8800,354.8526\"/>\n   <path d=\"M91.8000,430.0105L97.9200,430.0105\"/>\n   <path d=\"M459.0000,430.0105L452.8800,430.0105\"/>\n   <path d=\"M91.8000,505.1684L97.9200,505.1684\"/>\n   <path d=\"M459.0000,505.1684L452.8800,505.1684\"/>\n   <path d=\"M91.8000,91.8000L104.0400,91.8000\"/>\n   <path d=\"M459.0000,91.8000L446.7600,91.8000\"/>\n   <path d=\"M91.8000,166.9579L104.0400,166.9579\"/>\n   <path d=\"M459.0000,166.9579L446.7600,166.9579\"/>\n   <path d=\"M91.8000,242.1158L104.0400,242.1158\"/>\n   <path d=\"M459.0000,242.1158L446.7600,242.1158\"/>\n   <path d=\"M91.8000,317.2737L104.0400,317.2737\"/>\n   <path d=\"M459.0000,317.2737L446.7600,317.2737\"/>\n   <path d=\"M91.8000,392.4316L104.0400,392.4316\"/>\n   <path d=\"M459.0000,392.4316L446.7600,392.4316\"/>\n   <path d=\"M91.8000,467.5895L104.0400,467.5895\"/>\n   <path d=\"M459.0000,467.5895L446.7600,467.5895\"/>\n  </g>\n  <g style=\"fill:#000000; fill-rule:nonzero\">\n   <text style=\"font-family:'Times','Nimbus Roman No9 L'; font-style:normal; font-weight:normal; font-size:612.0000\" transform=\"matrix(0.0280,0.0000,-0.0000,-0.0280,37.6800,85.8000)\">-50000</text>\n   <text style=\"font-family:'Times','Nimbus Roman No9 L'; font-style:normal; font-weight:normal; font-size:612.0000\" transform=\"matrix(0.0280,0.0000,-0.0000,-0.0280,37.6800,161.4579)\">-40000</text>\n   <text style=\"font-family:'Times','Nimbus Roman No9 L'; font-style:normal; font-weight:normal; font-size:612.0000\" transform=\"matrix(0.0280,0.0000,-0.0000,-0.0280,37.6800,236.6158)\">-30000</text>\n   <text style=\"font-family:'Times','Nimbus Roman No9 L'; font-style:normal; font-weight:normal; font-size:612.0000\" transform=\"matrix(0.0280,0.0000,-0.0000,-0.0280,37.6800,311.7737)\">-20000</text>\n   <text style=\"font-family:'Times','Nimbus Roman No9 L'; font-style:normal; font-weight:normal; font-size:612.0000\" transform=\"matrix(0.0280,0.0000,-0.0000,-0.0280,37.6800,386.4316)\">-10000</text>\n   <text style=\"font-family:'Times','Nimbus Roman No9 L'; font-style:normal; font-weight:normal; font-size:612.0000\" transform=\"matrix(0.0280,0.0000,-0.0000,-0.0280,77.6800,462.0895)\">0</text>\n   <text style=\"font-family:'Times','Nimbus Roman No9 L'; font-style:normal; font-weight:normal; font-size:612.0000\" transform=\"matrix(0.0000,0.0280,0.0280,-0.0000,28.5600,277.5000)\">(kJ/mol)</text>\n  </g>\n  <g style=\"fill:none; stroke:#000000; stroke-width:  0.9180; stroke-linecap:butt; stroke-linejoin:miter; stroke-dasharray:none\">\n   <path d=\"M91.8000,91.8000L91.8000,520.2000L459.0000,520.2000L459.0000,91.8000z\"/>\n  </g>\n  <g style=\"fill:#FFFFFF; fill-rule:nonzero\">\n   <path d=\"M477.3600,489.6000L477.3600,465.3600L574.5390,465.3600L574.5390,489.6000z\"/>\n  </g>\n  <g style=\"fill:none; stroke:#000000; stroke-width:  0.9180; stroke-linecap:butt; stroke-linejoin:miter; stroke-dasharray:none\">\n   <path d=\"M477.3600,489.6000L477.3600,465.3600L574.5390,465.3600L574.5390,489.6000z\"/>\n  </g>\n  <g style=\"fill:#000000; fill-rule:nonzero\">\n   <text style=\"font-family:'Times','Nimbus Roman No9 L'; font-style:normal; font-weight:normal; font-size:612.0000\" transform=\"matrix(0.0280,0.0000,-0.0000,-0.0280,508.4190,471.4800)\">Potential</text>\n  </g>\n  <g style=\"fill:none; stroke:#000000; stroke-width:  0.9180; stroke-linecap:butt; stroke-linejoin:miter; stroke-dasharray:none\">\n   <path d=\"M483.9390,477.4800L496.1790,477.4800\"/>\n  </g>\n  <g style=\"fill:#000000; fill-rule:nonzero\">\n   <text style=\"font-family:'Times','Nimbus Roman No9 L'; font-style:normal; font-weight:normal; font-size:612.0000\" transform=\"matrix(0.0420,0.0000,-0.0000,-0.0420,164.4000,562.9200)\">GROMACS Energies</text>\n  </g>\n </g>\n</svg>"
          },
          "metadata": {}
        }
      ]
    },
    {
      "cell_type": "code",
      "execution_count": 79,
      "metadata": {
        "colab": {
          "base_uri": "https://localhost:8080/"
        },
        "id": "jmK1Hi9Cv8no",
        "outputId": "c959108e-5bf4-4b13-d9d8-56b67c0641f2"
      },
      "outputs": [
        {
          "output_type": "stream",
          "name": "stdout",
          "text": [
            "--2025-03-29 20:21:23--  http://www.mdtutorials.com/gmx/lysozyme/Files/nvt.mdp\n",
            "Resolving www.mdtutorials.com (www.mdtutorials.com)... 13.59.3.21\n",
            "Connecting to www.mdtutorials.com (www.mdtutorials.com)|13.59.3.21|:80... connected.\n",
            "HTTP request sent, awaiting response... 200 OK\n",
            "Length: 2369 (2.3K)\n",
            "Saving to: ‘nvt.mdp’\n",
            "\n",
            "\rnvt.mdp               0%[                    ]       0  --.-KB/s               \rnvt.mdp             100%[===================>]   2.31K  --.-KB/s    in 0s      \n",
            "\n",
            "2025-03-29 20:21:23 (205 MB/s) - ‘nvt.mdp’ saved [2369/2369]\n",
            "\n"
          ]
        }
      ],
      "source": [
        "!wget http://www.mdtutorials.com/gmx/lysozyme/Files/nvt.mdp"
      ]
    },
    {
      "cell_type": "markdown",
      "source": [
        "\n",
        "Consider reducing the number of steps (10fold).\n",
        "\n",
        "Change\n",
        "\n",
        "nsteps                  = 50000\n",
        "\n",
        "to\n",
        "\n",
        "nsteps                  = 5000 ;0"
      ],
      "metadata": {
        "id": "YXizgvPx--Wg"
      }
    },
    {
      "cell_type": "code",
      "source": [
        "!cp nvt.mdp nvt.mdp.txt"
      ],
      "metadata": {
        "id": "m6rTXVBixQSf"
      },
      "execution_count": 80,
      "outputs": []
    },
    {
      "cell_type": "code",
      "source": [
        "!mv nvt.mdp.txt nvt.mdp"
      ],
      "metadata": {
        "id": "tD7gDOr1a47y"
      },
      "execution_count": 81,
      "outputs": []
    },
    {
      "cell_type": "code",
      "execution_count": 82,
      "metadata": {
        "colab": {
          "base_uri": "https://localhost:8080/"
        },
        "id": "3WWODFyfwNPB",
        "outputId": "0e64ebdf-18e2-4c11-c8e9-0a23c17b17d4"
      },
      "outputs": [
        {
          "output_type": "stream",
          "name": "stdout",
          "text": [
            "              :-) GROMACS - gmx grompp, 2021.4-Ubuntu-2021.4-2 (-:\n",
            "\n",
            "                            GROMACS is written by:\n",
            "     Andrey Alekseenko              Emile Apol              Rossen Apostolov     \n",
            "         Paul Bauer           Herman J.C. Berendsen           Par Bjelkmar       \n",
            "       Christian Blau           Viacheslav Bolnykh             Kevin Boyd        \n",
            "     Aldert van Buuren           Rudi van Drunen             Anton Feenstra      \n",
            "    Gilles Gouaillardet             Alan Gray               Gerrit Groenhof      \n",
            "       Anca Hamuraru            Vincent Hindriksen          M. Eric Irrgang      \n",
            "      Aleksei Iupinov           Christoph Junghans             Joe Jordan        \n",
            "    Dimitrios Karkoulis            Peter Kasson                Jiri Kraus        \n",
            "      Carsten Kutzner              Per Larsson              Justin A. Lemkul     \n",
            "       Viveca Lindahl            Magnus Lundborg             Erik Marklund       \n",
            "        Pascal Merz             Pieter Meulenhoff            Teemu Murtola       \n",
            "        Szilard Pall               Sander Pronk              Roland Schulz       \n",
            "       Michael Shirts            Alexey Shvetsov             Alfons Sijbers      \n",
            "       Peter Tieleman              Jon Vincent              Teemu Virolainen     \n",
            "     Christian Wennberg            Maarten Wolf              Artem Zhmurov       \n",
            "                           and the project leaders:\n",
            "        Mark Abraham, Berk Hess, Erik Lindahl, and David van der Spoel\n",
            "\n",
            "Copyright (c) 1991-2000, University of Groningen, The Netherlands.\n",
            "Copyright (c) 2001-2019, The GROMACS development team at\n",
            "Uppsala University, Stockholm University and\n",
            "the Royal Institute of Technology, Sweden.\n",
            "check out http://www.gromacs.org for more information.\n",
            "\n",
            "GROMACS is free software; you can redistribute it and/or modify it\n",
            "under the terms of the GNU Lesser General Public License\n",
            "as published by the Free Software Foundation; either version 2.1\n",
            "of the License, or (at your option) any later version.\n",
            "\n",
            "GROMACS:      gmx grompp, version 2021.4-Ubuntu-2021.4-2\n",
            "Executable:   /usr/bin/gmx\n",
            "Data prefix:  /usr\n",
            "Working dir:  /content\n",
            "Command line:\n",
            "  gmx grompp -f nvt.mdp -c em.gro -r em.gro -p topol.top -o nvt.tpr\n",
            "\n",
            "Ignoring obsolete mdp entry 'title'\n",
            "Ignoring obsolete mdp entry 'ns_type'\n",
            "Setting the LD random seed to -1476436139\n",
            "\n",
            "Generated 20503 of the 20503 non-bonded parameter combinations\n",
            "Generating 1-4 interactions: fudge = 1\n",
            "\n",
            "Generated 17396 of the 20503 1-4 parameter combinations\n",
            "\n",
            "Excluding 3 bonded neighbours molecule type 'Protein_chain_A'\n",
            "\n",
            "turning H bonds into constraints...\n",
            "\n",
            "Excluding 2 bonded neighbours molecule type 'SOL'\n",
            "\n",
            "turning H bonds into constraints...\n",
            "\n",
            "Excluding 1 bonded neighbours molecule type 'NA'\n",
            "\n",
            "turning H bonds into constraints...\n",
            "\n",
            "Setting gen_seed to -50561037\n",
            "\n",
            "Velocities were taken from a Maxwell distribution at 300 K\n",
            "Analysing residue names:\n",
            "There are:    42    Protein residues\n",
            "There are:  1079      Water residues\n",
            "There are:     2        Ion residues\n",
            "Analysing Protein...\n",
            "Analysing residues not classified as Protein/DNA/RNA/Water and splitting into groups...\n",
            "Number of degrees of freedom in T-Coupling group Protein is 1479.44\n",
            "Number of degrees of freedom in T-Coupling group non-Protein is 6477.56\n",
            "\n",
            "Determining Verlet buffer for a tolerance of 0.005 kJ/mol/ps at 300 K\n",
            "\n",
            "Calculated rlist for 1x1 atom pair-list as 1.031 nm, buffer size 0.031 nm\n",
            "\n",
            "Set rlist, assuming 4x4 atom pair-list, to 1.000 nm, buffer size 0.000 nm\n",
            "\n",
            "Note that mdrun will redetermine rlist based on the actual pair-list setup\n",
            "\n",
            "NOTE 1 [file nvt.mdp]:\n",
            "  Removing center of mass motion in the presence of position restraints\n",
            "  might cause artifacts. When you are using position restraints to\n",
            "  equilibrate a macro-molecule, the artifacts are usually negligible.\n",
            "\n",
            "Calculating fourier grid dimensions for X Y Z\n",
            "Using a fourier grid of 25x25x25, spacing 0.156 0.156 0.156\n",
            "\n",
            "Estimate for the relative computational load of the PME mesh part: 0.16\n",
            "\n",
            "This run will generate roughly 1 Mb of data\n",
            "\n",
            "There was 1 note\n",
            "\n",
            "GROMACS reminds you: \"I know poetry is not dead, nor genius lost; nor has Mammon gained power over either, to bind or slay; they will both assert their existence, their presence, their liberty and strength again one day.\" (Jane Eyre in Jane Eyre by Charlotte Bronte)\n",
            "\n"
          ]
        }
      ],
      "source": [
        "!gmx grompp -f nvt.mdp -c em.gro -r em.gro -p topol.top -o nvt.tpr"
      ]
    },
    {
      "cell_type": "code",
      "execution_count": 83,
      "metadata": {
        "id": "OlTtvG4kwRXh"
      },
      "outputs": [],
      "source": [
        "!gmx mdrun -deffnm nvt 1>nvt.out.txt 2>nvt.err.txt\n",
        "#aprox 50s"
      ]
    },
    {
      "cell_type": "code",
      "execution_count": 84,
      "metadata": {
        "colab": {
          "base_uri": "https://localhost:8080/"
        },
        "id": "rxj2Q-SCSRmU",
        "outputId": "e5e58de0-e6a9-4dc3-f35f-f4580b6bc323"
      },
      "outputs": [
        {
          "output_type": "stream",
          "name": "stdout",
          "text": [
            "Writing edrtemperature.txt\n"
          ]
        }
      ],
      "source": [
        "%%writefile edrtemperature.txt\n",
        "17 0\n"
      ]
    },
    {
      "cell_type": "code",
      "execution_count": 85,
      "metadata": {
        "colab": {
          "base_uri": "https://localhost:8080/"
        },
        "id": "cROacz_ewuJS",
        "outputId": "1eca8230-6cdf-4c44-ad0a-57824c8393f3"
      },
      "outputs": [
        {
          "output_type": "stream",
          "name": "stdout",
          "text": [
            "              :-) GROMACS - gmx energy, 2021.4-Ubuntu-2021.4-2 (-:\n",
            "\n",
            "                            GROMACS is written by:\n",
            "     Andrey Alekseenko              Emile Apol              Rossen Apostolov     \n",
            "         Paul Bauer           Herman J.C. Berendsen           Par Bjelkmar       \n",
            "       Christian Blau           Viacheslav Bolnykh             Kevin Boyd        \n",
            "     Aldert van Buuren           Rudi van Drunen             Anton Feenstra      \n",
            "    Gilles Gouaillardet             Alan Gray               Gerrit Groenhof      \n",
            "       Anca Hamuraru            Vincent Hindriksen          M. Eric Irrgang      \n",
            "      Aleksei Iupinov           Christoph Junghans             Joe Jordan        \n",
            "    Dimitrios Karkoulis            Peter Kasson                Jiri Kraus        \n",
            "      Carsten Kutzner              Per Larsson              Justin A. Lemkul     \n",
            "       Viveca Lindahl            Magnus Lundborg             Erik Marklund       \n",
            "        Pascal Merz             Pieter Meulenhoff            Teemu Murtola       \n",
            "        Szilard Pall               Sander Pronk              Roland Schulz       \n",
            "       Michael Shirts            Alexey Shvetsov             Alfons Sijbers      \n",
            "       Peter Tieleman              Jon Vincent              Teemu Virolainen     \n",
            "     Christian Wennberg            Maarten Wolf              Artem Zhmurov       \n",
            "                           and the project leaders:\n",
            "        Mark Abraham, Berk Hess, Erik Lindahl, and David van der Spoel\n",
            "\n",
            "Copyright (c) 1991-2000, University of Groningen, The Netherlands.\n",
            "Copyright (c) 2001-2019, The GROMACS development team at\n",
            "Uppsala University, Stockholm University and\n",
            "the Royal Institute of Technology, Sweden.\n",
            "check out http://www.gromacs.org for more information.\n",
            "\n",
            "GROMACS is free software; you can redistribute it and/or modify it\n",
            "under the terms of the GNU Lesser General Public License\n",
            "as published by the Free Software Foundation; either version 2.1\n",
            "of the License, or (at your option) any later version.\n",
            "\n",
            "GROMACS:      gmx energy, version 2021.4-Ubuntu-2021.4-2\n",
            "Executable:   /usr/bin/gmx\n",
            "Data prefix:  /usr\n",
            "Working dir:  /content\n",
            "Command line:\n",
            "  gmx energy -f nvt.edr -o temperature.xvg\n",
            "\n",
            "Opened nvt.edr as single precision energy file\n",
            "\n",
            "Select the terms you want from the following list by\n",
            "selecting either (part of) the name or the number or a combination.\n",
            "End your selection with an empty line or a zero.\n",
            "-------------------------------------------------------------------\n",
            "  1  Bond             2  U-B              3  Proper-Dih.      4  Improper-Dih. \n",
            "  5  CMAP-Dih.        6  LJ-14            7  Coulomb-14       8  LJ-(SR)       \n",
            "  9  Disper.-corr.   10  Coulomb-(SR)    11  Coul.-recip.    12  Position-Rest.\n",
            " 13  Potential       14  Kinetic-En.     15  Total-Energy    16  Conserved-En. \n",
            " 17  Temperature     18  Pres.-DC        19  Pressure        20  Constr.-rmsd  \n",
            " 21  Vir-XX          22  Vir-XY          23  Vir-XZ          24  Vir-YX        \n",
            " 25  Vir-YY          26  Vir-YZ          27  Vir-ZX          28  Vir-ZY        \n",
            " 29  Vir-ZZ          30  Pres-XX         31  Pres-XY         32  Pres-XZ       \n",
            " 33  Pres-YX         34  Pres-YY         35  Pres-YZ         36  Pres-ZX       \n",
            " 37  Pres-ZY         38  Pres-ZZ         39  #Surf*SurfTen   40  T-Protein     \n",
            " 41  T-non-Protein                       42  Lamb-Protein                      \n",
            " 43  Lamb-non-Protein                  \n",
            "\n",
            "\rReading energy frame      0 time    0.000         \rReading energy frame      1 time    1.000         \rReading energy frame      2 time    2.000         \rReading energy frame      3 time    3.000         \rReading energy frame      4 time    4.000         \rReading energy frame      5 time    5.000         \rReading energy frame      6 time    6.000         \rReading energy frame      7 time    7.000         \rReading energy frame      8 time    8.000         \rReading energy frame      9 time    9.000         \rReading energy frame     10 time   10.000         \rLast energy frame read 10 time   10.000         \n",
            "\n",
            "Statistics over 5001 steps [ 0.0000 through 10.0000 ps ], 1 data sets\n",
            "All statistics are over 51 points\n",
            "\n",
            "Energy                      Average   Err.Est.       RMSD  Tot-Drift\n",
            "-------------------------------------------------------------------------------\n",
            "Temperature                 301.927        1.2    4.03037    4.07713  (K)\n",
            "\n",
            "GROMACS reminds you: \"We'll celebrate a woman for anything, as long as it's not her talent.\" (Colleen McCullough)\n",
            "\n"
          ]
        }
      ],
      "source": [
        "!gmx energy -f nvt.edr -o temperature.xvg <edrtemperature.txt\n",
        "#Type \"17 0\""
      ]
    },
    {
      "cell_type": "code",
      "execution_count": 86,
      "metadata": {
        "id": "eXOEdktAw_Es"
      },
      "outputs": [],
      "source": [
        "!grace -hardcopy -hdevice SVG -nxy temperature.xvg -printfile temperature.svg"
      ]
    },
    {
      "cell_type": "code",
      "source": [
        "display(SVG(\"temperature.svg\"))"
      ],
      "metadata": {
        "colab": {
          "base_uri": "https://localhost:8080/",
          "height": 837
        },
        "id": "igMToJa1Jwpi",
        "outputId": "247bda31-d3bf-4d1d-a3d0-10187adc10c7"
      },
      "execution_count": 87,
      "outputs": [
        {
          "output_type": "display_data",
          "data": {
            "text/plain": [
              "<IPython.core.display.SVG object>"
            ],
            "image/svg+xml": "<svg xml:space=\"preserve\" width=\"11.0000in\" height=\"8.5000in\" viewBox=\"0.0000 0.0000 792.0000 612.0000\">\n <g transform=\"translate(0,612.0000) scale(1,-1)\">\n  <g style=\"fill:#FFFFFF; fill-rule:nonzero\">\n   <path d=\"M0.0000,0.0000L0.0000,612.0000L792.0000,612.0000L792.0000,0.0000z\"/>\n  </g>\n  <g style=\"fill:none; stroke:#000000; stroke-width:  0.9180; stroke-linecap:butt; stroke-linejoin:miter; stroke-dasharray:none\">\n   <path d=\"M91.8000,345.4336L128.5200,293.4466L165.2400,161.3830L201.9600,448.4906L238.6800,318.7175L275.4000,352.0934L312.1200,251.8715L348.8400,296.4379L385.5600,433.4819L422.2800,432.7943             L459.0000,417.5856\"/>\n   <path d=\"M91.8000,91.8000L459.0000,91.8000\"/>\n   <path d=\"M91.8000,520.2000L459.0000,520.2000\"/>\n   <path d=\"M128.5200,91.8000L128.5200,97.9200\"/>\n   <path d=\"M128.5200,520.2000L128.5200,514.0800\"/>\n   <path d=\"M201.9600,91.8000L201.9600,97.9200\"/>\n   <path d=\"M201.9600,520.2000L201.9600,514.0800\"/>\n   <path d=\"M275.4000,91.8000L275.4000,97.9200\"/>\n   <path d=\"M275.4000,520.2000L275.4000,514.0800\"/>\n   <path d=\"M348.8400,91.8000L348.8400,97.9200\"/>\n   <path d=\"M348.8400,520.2000L348.8400,514.0800\"/>\n   <path d=\"M422.2800,91.8000L422.2800,97.9200\"/>\n   <path d=\"M422.2800,520.2000L422.2800,514.0800\"/>\n   <path d=\"M91.8000,91.8000L91.8000,104.0400\"/>\n   <path d=\"M91.8000,520.2000L91.8000,507.9600\"/>\n   <path d=\"M165.2400,91.8000L165.2400,104.0400\"/>\n   <path d=\"M165.2400,520.2000L165.2400,507.9600\"/>\n   <path d=\"M238.6800,91.8000L238.6800,104.0400\"/>\n   <path d=\"M238.6800,520.2000L238.6800,507.9600\"/>\n   <path d=\"M312.1200,91.8000L312.1200,104.0400\"/>\n   <path d=\"M312.1200,520.2000L312.1200,507.9600\"/>\n   <path d=\"M385.5600,91.8000L385.5600,104.0400\"/>\n   <path d=\"M385.5600,520.2000L385.5600,507.9600\"/>\n   <path d=\"M459.0000,91.8000L459.0000,104.0400\"/>\n   <path d=\"M459.0000,520.2000L459.0000,507.9600\"/>\n  </g>\n  <g style=\"fill:#000000; fill-rule:nonzero\">\n   <text style=\"font-family:'Times','Nimbus Roman No9 L'; font-style:normal; font-weight:normal; font-size:612.0000\" transform=\"matrix(0.0280,0.0000,-0.0000,-0.0280,87.8000,74.6800)\">0</text>\n   <text style=\"font-family:'Times','Nimbus Roman No9 L'; font-style:normal; font-weight:normal; font-size:612.0000\" transform=\"matrix(0.0280,0.0000,-0.0000,-0.0280,161.2400,74.6800)\">2</text>\n   <text style=\"font-family:'Times','Nimbus Roman No9 L'; font-style:normal; font-weight:normal; font-size:612.0000\" transform=\"matrix(0.0280,0.0000,-0.0000,-0.0280,234.6800,74.6800)\">4</text>\n   <text style=\"font-family:'Times','Nimbus Roman No9 L'; font-style:normal; font-weight:normal; font-size:612.0000\" transform=\"matrix(0.0280,0.0000,-0.0000,-0.0280,308.1200,73.6800)\">6</text>\n   <text style=\"font-family:'Times','Nimbus Roman No9 L'; font-style:normal; font-weight:normal; font-size:612.0000\" transform=\"matrix(0.0280,0.0000,-0.0000,-0.0280,381.5600,74.6800)\">8</text>\n   <text style=\"font-family:'Times','Nimbus Roman No9 L'; font-style:normal; font-weight:normal; font-size:612.0000\" transform=\"matrix(0.0280,0.0000,-0.0000,-0.0280,450.5000,73.6800)\">10</text>\n   <text style=\"font-family:'Times','Nimbus Roman No9 L'; font-style:normal; font-weight:normal; font-size:612.0000\" transform=\"matrix(0.0280,0.0000,-0.0000,-0.0280,242.4000,55.5600)\">Time (ps)</text>\n  </g>\n  <g style=\"fill:none; stroke:#000000; stroke-width:  0.9180; stroke-linecap:butt; stroke-linejoin:miter; stroke-dasharray:none\">\n   <path d=\"M91.8000,91.8000L91.8000,520.2000\"/>\n   <path d=\"M459.0000,91.8000L459.0000,520.2000\"/>\n   <path d=\"M91.8000,145.3500L97.9200,145.3500\"/>\n   <path d=\"M459.0000,145.3500L452.8800,145.3500\"/>\n   <path d=\"M91.8000,252.4500L97.9200,252.4500\"/>\n   <path d=\"M459.0000,252.4500L452.8800,252.4500\"/>\n   <path d=\"M91.8000,359.5500L97.9200,359.5500\"/>\n   <path d=\"M459.0000,359.5500L452.8800,359.5500\"/>\n   <path d=\"M91.8000,466.6500L97.9200,466.6500\"/>\n   <path d=\"M459.0000,466.6500L452.8800,466.6500\"/>\n   <path d=\"M91.8000,91.8000L104.0400,91.8000\"/>\n   <path d=\"M459.0000,91.8000L446.7600,91.8000\"/>\n   <path d=\"M91.8000,198.9000L104.0400,198.9000\"/>\n   <path d=\"M459.0000,198.9000L446.7600,198.9000\"/>\n   <path d=\"M91.8000,306.0000L104.0400,306.0000\"/>\n   <path d=\"M459.0000,306.0000L446.7600,306.0000\"/>\n   <path d=\"M91.8000,413.1000L104.0400,413.1000\"/>\n   <path d=\"M459.0000,413.1000L446.7600,413.1000\"/>\n   <path d=\"M91.8000,520.2000L104.0400,520.2000\"/>\n   <path d=\"M459.0000,520.2000L446.7600,520.2000\"/>\n  </g>\n  <g style=\"fill:#000000; fill-rule:nonzero\">\n   <text style=\"font-family:'Times','Nimbus Roman No9 L'; font-style:normal; font-weight:normal; font-size:612.0000\" transform=\"matrix(0.0280,0.0000,-0.0000,-0.0280,60.6800,86.3000)\">290</text>\n   <text style=\"font-family:'Times','Nimbus Roman No9 L'; font-style:normal; font-weight:normal; font-size:612.0000\" transform=\"matrix(0.0280,0.0000,-0.0000,-0.0280,60.6800,192.9000)\">295</text>\n   <text style=\"font-family:'Times','Nimbus Roman No9 L'; font-style:normal; font-weight:normal; font-size:612.0000\" transform=\"matrix(0.0280,0.0000,-0.0000,-0.0280,60.6800,300.5000)\">300</text>\n   <text style=\"font-family:'Times','Nimbus Roman No9 L'; font-style:normal; font-weight:normal; font-size:612.0000\" transform=\"matrix(0.0280,0.0000,-0.0000,-0.0280,60.6800,407.1000)\">305</text>\n   <text style=\"font-family:'Times','Nimbus Roman No9 L'; font-style:normal; font-weight:normal; font-size:612.0000\" transform=\"matrix(0.0280,0.0000,-0.0000,-0.0280,60.6800,514.2000)\">310</text>\n   <text style=\"font-family:'Times','Nimbus Roman No9 L'; font-style:normal; font-weight:normal; font-size:612.0000\" transform=\"matrix(0.0000,0.0280,0.0280,-0.0000,51.5600,294.5000)\">(K)</text>\n  </g>\n  <g style=\"fill:none; stroke:#000000; stroke-width:  0.9180; stroke-linecap:butt; stroke-linejoin:miter; stroke-dasharray:none\">\n   <path d=\"M91.8000,91.8000L91.8000,520.2000L459.0000,520.2000L459.0000,91.8000z\"/>\n  </g>\n  <g style=\"fill:#FFFFFF; fill-rule:nonzero\">\n   <path d=\"M477.3600,489.6000L477.3600,462.3600L601.5390,462.3600L601.5390,489.6000z\"/>\n  </g>\n  <g style=\"fill:none; stroke:#000000; stroke-width:  0.9180; stroke-linecap:butt; stroke-linejoin:miter; stroke-dasharray:none\">\n   <path d=\"M477.3600,489.6000L477.3600,462.3600L601.5390,462.3600L601.5390,489.6000z\"/>\n  </g>\n  <g style=\"fill:#000000; fill-rule:nonzero\">\n   <text style=\"font-family:'Times','Nimbus Roman No9 L'; font-style:normal; font-weight:normal; font-size:612.0000\" transform=\"matrix(0.0280,0.0000,-0.0000,-0.0280,508.4190,472.4800)\">Temperature</text>\n  </g>\n  <g style=\"fill:none; stroke:#000000; stroke-width:  0.9180; stroke-linecap:butt; stroke-linejoin:miter; stroke-dasharray:none\">\n   <path d=\"M483.9390,475.9800L496.1790,475.9800\"/>\n  </g>\n  <g style=\"fill:#000000; fill-rule:nonzero\">\n   <text style=\"font-family:'Times','Nimbus Roman No9 L'; font-style:normal; font-weight:normal; font-size:612.0000\" transform=\"matrix(0.0420,0.0000,-0.0000,-0.0420,164.4000,562.9200)\">GROMACS Energies</text>\n  </g>\n </g>\n</svg>"
          },
          "metadata": {}
        }
      ]
    },
    {
      "cell_type": "code",
      "execution_count": 88,
      "metadata": {
        "colab": {
          "base_uri": "https://localhost:8080/"
        },
        "id": "yAKHjNb7yPut",
        "outputId": "28e86027-e748-40ad-86f8-f73981fe36c7"
      },
      "outputs": [
        {
          "output_type": "stream",
          "name": "stdout",
          "text": [
            "--2025-03-29 20:25:50--  http://www.mdtutorials.com/gmx/lysozyme/Files/npt.mdp\n",
            "Resolving www.mdtutorials.com (www.mdtutorials.com)... 13.59.3.21\n",
            "Connecting to www.mdtutorials.com (www.mdtutorials.com)|13.59.3.21|:80... connected.\n",
            "HTTP request sent, awaiting response... 200 OK\n",
            "Length: 2591 (2.5K)\n",
            "Saving to: ‘npt.mdp’\n",
            "\n",
            "\rnpt.mdp               0%[                    ]       0  --.-KB/s               \rnpt.mdp             100%[===================>]   2.53K  --.-KB/s    in 0s      \n",
            "\n",
            "2025-03-29 20:25:50 (214 MB/s) - ‘npt.mdp’ saved [2591/2591]\n",
            "\n"
          ]
        }
      ],
      "source": [
        "!wget http://www.mdtutorials.com/gmx/lysozyme/Files/npt.mdp"
      ]
    },
    {
      "cell_type": "code",
      "source": [
        "!cp npt.mdp npt.mdp.txt"
      ],
      "metadata": {
        "id": "8oxQJxAN3FrX"
      },
      "execution_count": 89,
      "outputs": []
    },
    {
      "cell_type": "markdown",
      "source": [
        "Consider reducing the number of steps (10fold).\n",
        "\n",
        "Change\n",
        "\n",
        "nsteps                  = 50000\n",
        "\n",
        "to\n",
        "\n",
        "nsteps                  = 5000 ;0"
      ],
      "metadata": {
        "id": "KtzxzcbyRBbQ"
      }
    },
    {
      "cell_type": "code",
      "source": [
        "!cp npt.mdp.txt npt.mdp"
      ],
      "metadata": {
        "id": "Ro5MQOrfbF-E"
      },
      "execution_count": 90,
      "outputs": []
    },
    {
      "cell_type": "code",
      "source": [
        "!cat npt.mdp"
      ],
      "metadata": {
        "colab": {
          "base_uri": "https://localhost:8080/"
        },
        "id": "U58FZPnyifsK",
        "outputId": "d5969440-5653-4ad3-d821-81a0bddc3ec7"
      },
      "execution_count": 91,
      "outputs": [
        {
          "output_type": "stream",
          "name": "stdout",
          "text": [
            "title                   = OPLS Lysozyme NPT equilibration \n",
            "define                  = -DPOSRES  ; position restrain the protein\n",
            "; Run parameters\n",
            "integrator              = md        ; leap-frog integrator\n",
            "nsteps                  = 5000 ;0     ; 2 * 50000 = 100 ps\n",
            "dt                      = 0.002     ; 2 fs\n",
            "; Output control\n",
            "nstxout                 = 500       ; save coordinates every 1.0 ps\n",
            "nstvout                 = 500       ; save velocities every 1.0 ps\n",
            "nstenergy               = 500       ; save energies every 1.0 ps\n",
            "nstlog                  = 500       ; update log file every 1.0 ps\n",
            "; Bond parameters\n",
            "continuation            = yes       ; Restarting after NVT \n",
            "constraint_algorithm    = lincs     ; holonomic constraints \n",
            "constraints             = h-bonds   ; bonds involving H are constrained\n",
            "lincs_iter              = 1         ; accuracy of LINCS\n",
            "lincs_order             = 4         ; also related to accuracy\n",
            "; Nonbonded settings \n",
            "cutoff-scheme           = Verlet    ; Buffered neighbor searching\n",
            "ns_type                 = grid      ; search neighboring grid cells\n",
            "nstlist                 = 10        ; 20 fs, largely irrelevant with Verlet scheme\n",
            "rcoulomb                = 1.0       ; short-range electrostatic cutoff (in nm)\n",
            "rvdw                    = 1.0       ; short-range van der Waals cutoff (in nm)\n",
            "DispCorr                = EnerPres  ; account for cut-off vdW scheme\n",
            "; Electrostatics\n",
            "coulombtype             = PME       ; Particle Mesh Ewald for long-range electrostatics\n",
            "pme_order               = 4         ; cubic interpolation\n",
            "fourierspacing          = 0.16      ; grid spacing for FFT\n",
            "; Temperature coupling is on\n",
            "tcoupl                  = V-rescale             ; modified Berendsen thermostat\n",
            "tc-grps                 = Protein Non-Protein   ; two coupling groups - more accurate\n",
            "tau_t                   = 0.1     0.1           ; time constant, in ps\n",
            "ref_t                   = 300     300           ; reference temperature, one for each group, in K\n",
            "; Pressure coupling is on\n",
            "pcoupl                  = Parrinello-Rahman     ; Pressure coupling on in NPT\n",
            "pcoupltype              = isotropic             ; uniform scaling of box vectors\n",
            "tau_p                   = 2.0                   ; time constant, in ps\n",
            "ref_p                   = 1.0                   ; reference pressure, in bar\n",
            "compressibility         = 4.5e-5                ; isothermal compressibility of water, bar^-1\n",
            "refcoord_scaling        = com\n",
            "; Periodic boundary conditions\n",
            "pbc                     = xyz       ; 3-D PBC\n",
            "; Velocity generation\n",
            "gen_vel                 = no        ; Velocity generation is off \n"
          ]
        }
      ]
    },
    {
      "cell_type": "code",
      "execution_count": 92,
      "metadata": {
        "colab": {
          "base_uri": "https://localhost:8080/"
        },
        "id": "Tg1cehU3yQ7l",
        "outputId": "220f8199-ee4d-4118-f4c2-656d3a7e2dd1"
      },
      "outputs": [
        {
          "output_type": "stream",
          "name": "stdout",
          "text": [
            "              :-) GROMACS - gmx grompp, 2021.4-Ubuntu-2021.4-2 (-:\n",
            "\n",
            "                            GROMACS is written by:\n",
            "     Andrey Alekseenko              Emile Apol              Rossen Apostolov     \n",
            "         Paul Bauer           Herman J.C. Berendsen           Par Bjelkmar       \n",
            "       Christian Blau           Viacheslav Bolnykh             Kevin Boyd        \n",
            "     Aldert van Buuren           Rudi van Drunen             Anton Feenstra      \n",
            "    Gilles Gouaillardet             Alan Gray               Gerrit Groenhof      \n",
            "       Anca Hamuraru            Vincent Hindriksen          M. Eric Irrgang      \n",
            "      Aleksei Iupinov           Christoph Junghans             Joe Jordan        \n",
            "    Dimitrios Karkoulis            Peter Kasson                Jiri Kraus        \n",
            "      Carsten Kutzner              Per Larsson              Justin A. Lemkul     \n",
            "       Viveca Lindahl            Magnus Lundborg             Erik Marklund       \n",
            "        Pascal Merz             Pieter Meulenhoff            Teemu Murtola       \n",
            "        Szilard Pall               Sander Pronk              Roland Schulz       \n",
            "       Michael Shirts            Alexey Shvetsov             Alfons Sijbers      \n",
            "       Peter Tieleman              Jon Vincent              Teemu Virolainen     \n",
            "     Christian Wennberg            Maarten Wolf              Artem Zhmurov       \n",
            "                           and the project leaders:\n",
            "        Mark Abraham, Berk Hess, Erik Lindahl, and David van der Spoel\n",
            "\n",
            "Copyright (c) 1991-2000, University of Groningen, The Netherlands.\n",
            "Copyright (c) 2001-2019, The GROMACS development team at\n",
            "Uppsala University, Stockholm University and\n",
            "the Royal Institute of Technology, Sweden.\n",
            "check out http://www.gromacs.org for more information.\n",
            "\n",
            "GROMACS is free software; you can redistribute it and/or modify it\n",
            "under the terms of the GNU Lesser General Public License\n",
            "as published by the Free Software Foundation; either version 2.1\n",
            "of the License, or (at your option) any later version.\n",
            "\n",
            "GROMACS:      gmx grompp, version 2021.4-Ubuntu-2021.4-2\n",
            "Executable:   /usr/bin/gmx\n",
            "Data prefix:  /usr\n",
            "Working dir:  /content\n",
            "Command line:\n",
            "  gmx grompp -f npt.mdp -c nvt.gro -r nvt.gro -t nvt.cpt -p topol.top -o npt.tpr\n",
            "\n",
            "Ignoring obsolete mdp entry 'title'\n",
            "Ignoring obsolete mdp entry 'ns_type'\n",
            "Setting the LD random seed to -1292111875\n",
            "\n",
            "Generated 20503 of the 20503 non-bonded parameter combinations\n",
            "Generating 1-4 interactions: fudge = 1\n",
            "\n",
            "Generated 17396 of the 20503 1-4 parameter combinations\n",
            "\n",
            "Excluding 3 bonded neighbours molecule type 'Protein_chain_A'\n",
            "\n",
            "turning H bonds into constraints...\n",
            "\n",
            "Excluding 2 bonded neighbours molecule type 'SOL'\n",
            "\n",
            "turning H bonds into constraints...\n",
            "\n",
            "Excluding 1 bonded neighbours molecule type 'NA'\n",
            "\n",
            "turning H bonds into constraints...\n",
            "\n",
            "NOTE 1 [file topol.top, line 5611]:\n",
            "  You are combining position restraints with Parrinello-Rahman pressure\n",
            "  coupling, which can lead to instabilities. If you really want to combine\n",
            "  position restraints with pressure coupling, we suggest to use Berendsen\n",
            "  pressure coupling instead.\n",
            "\n",
            "\n",
            "The center of mass of the position restraint coord's is  2.899  2.908  1.383\n",
            "\n",
            "The center of mass of the position restraint coord's is  2.899  2.908  1.383\n",
            "Analysing residue names:\n",
            "There are:    42    Protein residues\n",
            "There are:  1079      Water residues\n",
            "There are:     2        Ion residues\n",
            "Analysing Protein...\n",
            "Analysing residues not classified as Protein/DNA/RNA/Water and splitting into groups...\n",
            "Number of degrees of freedom in T-Coupling group Protein is 1479.44\n",
            "Number of degrees of freedom in T-Coupling group non-Protein is 6477.56\n",
            "\n",
            "Determining Verlet buffer for a tolerance of 0.005 kJ/mol/ps at 300 K\n",
            "\n",
            "Calculated rlist for 1x1 atom pair-list as 1.031 nm, buffer size 0.031 nm\n",
            "\n",
            "Set rlist, assuming 4x4 atom pair-list, to 1.000 nm, buffer size 0.000 nm\n",
            "\n",
            "Note that mdrun will redetermine rlist based on the actual pair-list setup\n",
            "\n",
            "NOTE 2 [file npt.mdp]:\n",
            "  Removing center of mass motion in the presence of position restraints\n",
            "  might cause artifacts. When you are using position restraints to\n",
            "  equilibrate a macro-molecule, the artifacts are usually negligible.\n",
            "\n",
            "\n",
            "Reading Coordinates, Velocities and Box size from old trajectory\n",
            "\n",
            "Will read whole trajectory\n",
            "Last frame         -1 time   10.000   \n",
            "\n",
            "Using frame at t = 10 ps\n",
            "\n",
            "Starting time for run is 0 ps\n",
            "Calculating fourier grid dimensions for X Y Z\n",
            "Using a fourier grid of 25x25x25, spacing 0.156 0.156 0.156\n",
            "\n",
            "Estimate for the relative computational load of the PME mesh part: 0.16\n",
            "\n",
            "This run will generate roughly 1 Mb of data\n",
            "\n",
            "There were 2 notes\n",
            "\n",
            "GROMACS reminds you: \"Make the Floor Burn\" (2 Unlimited)\n",
            "\n"
          ]
        }
      ],
      "source": [
        "!gmx grompp -f npt.mdp -c nvt.gro -r nvt.gro -t nvt.cpt -p topol.top -o npt.tpr"
      ]
    },
    {
      "cell_type": "code",
      "execution_count": 93,
      "metadata": {
        "id": "e5CksnyeyU4N"
      },
      "outputs": [],
      "source": [
        "!gmx mdrun -deffnm npt 1>npt.out.txt 2>npt.err.txt\n",
        "#aprox 50s"
      ]
    },
    {
      "cell_type": "code",
      "source": [
        "#!grace --help"
      ],
      "metadata": {
        "id": "SNQHUpWrK0fq"
      },
      "execution_count": 94,
      "outputs": []
    },
    {
      "cell_type": "code",
      "execution_count": 98,
      "metadata": {
        "colab": {
          "base_uri": "https://localhost:8080/"
        },
        "id": "gcAz0HO6SfMN",
        "outputId": "75e55e95-4062-4f3a-e251-d409c3249673"
      },
      "outputs": [
        {
          "output_type": "stream",
          "name": "stdout",
          "text": [
            "Overwriting edrpressure.txt\n"
          ]
        }
      ],
      "source": [
        "%%writefile edrpressure.txt\n",
        "19 0\n"
      ]
    },
    {
      "cell_type": "code",
      "execution_count": 103,
      "metadata": {
        "colab": {
          "base_uri": "https://localhost:8080/"
        },
        "id": "ErT7gkQ2yZS6",
        "outputId": "843c09a2-fedc-4f42-cb87-34c064e2579a"
      },
      "outputs": [
        {
          "output_type": "stream",
          "name": "stdout",
          "text": [
            "              :-) GROMACS - gmx energy, 2021.4-Ubuntu-2021.4-2 (-:\n",
            "\n",
            "                            GROMACS is written by:\n",
            "     Andrey Alekseenko              Emile Apol              Rossen Apostolov     \n",
            "         Paul Bauer           Herman J.C. Berendsen           Par Bjelkmar       \n",
            "       Christian Blau           Viacheslav Bolnykh             Kevin Boyd        \n",
            "     Aldert van Buuren           Rudi van Drunen             Anton Feenstra      \n",
            "    Gilles Gouaillardet             Alan Gray               Gerrit Groenhof      \n",
            "       Anca Hamuraru            Vincent Hindriksen          M. Eric Irrgang      \n",
            "      Aleksei Iupinov           Christoph Junghans             Joe Jordan        \n",
            "    Dimitrios Karkoulis            Peter Kasson                Jiri Kraus        \n",
            "      Carsten Kutzner              Per Larsson              Justin A. Lemkul     \n",
            "       Viveca Lindahl            Magnus Lundborg             Erik Marklund       \n",
            "        Pascal Merz             Pieter Meulenhoff            Teemu Murtola       \n",
            "        Szilard Pall               Sander Pronk              Roland Schulz       \n",
            "       Michael Shirts            Alexey Shvetsov             Alfons Sijbers      \n",
            "       Peter Tieleman              Jon Vincent              Teemu Virolainen     \n",
            "     Christian Wennberg            Maarten Wolf              Artem Zhmurov       \n",
            "                           and the project leaders:\n",
            "        Mark Abraham, Berk Hess, Erik Lindahl, and David van der Spoel\n",
            "\n",
            "Copyright (c) 1991-2000, University of Groningen, The Netherlands.\n",
            "Copyright (c) 2001-2019, The GROMACS development team at\n",
            "Uppsala University, Stockholm University and\n",
            "the Royal Institute of Technology, Sweden.\n",
            "check out http://www.gromacs.org for more information.\n",
            "\n",
            "GROMACS is free software; you can redistribute it and/or modify it\n",
            "under the terms of the GNU Lesser General Public License\n",
            "as published by the Free Software Foundation; either version 2.1\n",
            "of the License, or (at your option) any later version.\n",
            "\n",
            "GROMACS:      gmx energy, version 2021.4-Ubuntu-2021.4-2\n",
            "Executable:   /usr/bin/gmx\n",
            "Data prefix:  /usr\n",
            "Working dir:  /content\n",
            "Command line:\n",
            "  gmx energy -f npt.edr -o pressure.xvg\n",
            "\n",
            "Opened npt.edr as single precision energy file\n",
            "\n",
            "Select the terms you want from the following list by\n",
            "selecting either (part of) the name or the number or a combination.\n",
            "End your selection with an empty line or a zero.\n",
            "-------------------------------------------------------------------\n",
            "  1  Bond             2  U-B              3  Proper-Dih.      4  Improper-Dih. \n",
            "  5  CMAP-Dih.        6  LJ-14            7  Coulomb-14       8  LJ-(SR)       \n",
            "  9  Disper.-corr.   10  Coulomb-(SR)    11  Coul.-recip.    12  Position-Rest.\n",
            " 13  Potential       14  Kinetic-En.     15  Total-Energy    16  Conserved-En. \n",
            " 17  Temperature     18  Pres.-DC        19  Pressure        20  Constr.-rmsd  \n",
            " 21  Box-X           22  Box-Y           23  Box-Z           24  Volume        \n",
            " 25  Density         26  pV              27  Enthalpy        28  Vir-XX        \n",
            " 29  Vir-XY          30  Vir-XZ          31  Vir-YX          32  Vir-YY        \n",
            " 33  Vir-YZ          34  Vir-ZX          35  Vir-ZY          36  Vir-ZZ        \n",
            " 37  Pres-XX         38  Pres-XY         39  Pres-XZ         40  Pres-YX       \n",
            " 41  Pres-YY         42  Pres-YZ         43  Pres-ZX         44  Pres-ZY       \n",
            " 45  Pres-ZZ         46  #Surf*SurfTen   47  Box-Vel-XX      48  Box-Vel-YY    \n",
            " 49  Box-Vel-ZZ      50  T-Protein       51  T-non-Protein   52  Lamb-Protein  \n",
            " 53  Lamb-non-Protein                  \n",
            "\n",
            "\n",
            "Back Off! I just backed up pressure.xvg to ./#pressure.xvg.2#\n",
            "\rReading energy frame      0 time    0.000         \rReading energy frame      1 time    1.000         \rReading energy frame      2 time    2.000         \rReading energy frame      3 time    3.000         \rReading energy frame      4 time    4.000         \rReading energy frame      5 time    5.000         \rReading energy frame      6 time    6.000         \rReading energy frame      7 time    7.000         \rReading energy frame      8 time    8.000         \rReading energy frame      9 time    9.000         \rReading energy frame     10 time   10.000         \rLast energy frame read 10 time   10.000         \n",
            "\n",
            "Statistics over 5001 steps [ 0.0000 through 10.0000 ps ], 1 data sets\n",
            "All statistics are over 51 points\n",
            "\n",
            "Energy                      Average   Err.Est.       RMSD  Tot-Drift\n",
            "-------------------------------------------------------------------------------\n",
            "Pressure                    2.35837         72     547.99    110.088  (bar)\n",
            "\n",
            "GROMACS reminds you: \"Sacrifices must be made\" (Otto Lilienthal, dying after having crashed with his glider in 1896)\n",
            "\n"
          ]
        }
      ],
      "source": [
        "!gmx energy -f npt.edr -o pressure.xvg <edrpressure.txt\n",
        "#Type \"19 0\""
      ]
    },
    {
      "cell_type": "code",
      "source": [
        "!cp pressure.xvg pressure.xvg.txt\n",
        "#!cp pressure.txt pressure.xvg\n",
        "\n",
        "# Add the following to pressure.xvg\n",
        "'''\n",
        "  @ s1 legend \"3-ps running average\"\n",
        "  @  RUNAVG (s0, 3)\n",
        "'''"
      ],
      "metadata": {
        "id": "UFaGlfWhLjBs",
        "colab": {
          "base_uri": "https://localhost:8080/",
          "height": 36
        },
        "outputId": "3867e626-04c0-4d7a-fe43-43ff9db4153e"
      },
      "execution_count": 105,
      "outputs": [
        {
          "output_type": "execute_result",
          "data": {
            "text/plain": [
              "'\\n  @ s1 legend \"3-ps running average\"\\n  @  RUNAVG (s0, 3)\\n'"
            ],
            "application/vnd.google.colaboratory.intrinsic+json": {
              "type": "string"
            }
          },
          "metadata": {},
          "execution_count": 105
        }
      ]
    },
    {
      "cell_type": "code",
      "execution_count": 106,
      "metadata": {
        "id": "LbNG2iTsyyU6"
      },
      "outputs": [],
      "source": [
        "!grace -hardcopy -hdevice SVG -nxy pressure.xvg -printfile pressure.svg"
      ]
    },
    {
      "cell_type": "code",
      "source": [
        "display(SVG(\"pressure.svg\"))"
      ],
      "metadata": {
        "colab": {
          "base_uri": "https://localhost:8080/",
          "height": 837
        },
        "id": "DMS26x3kKnVT",
        "outputId": "c1d92ddb-ce25-48d2-a1bf-0e4ea6c0b251"
      },
      "execution_count": 107,
      "outputs": [
        {
          "output_type": "display_data",
          "data": {
            "text/plain": [
              "<IPython.core.display.SVG object>"
            ],
            "image/svg+xml": "<svg xml:space=\"preserve\" width=\"11.0000in\" height=\"8.5000in\" viewBox=\"0.0000 0.0000 792.0000 612.0000\">\n <g transform=\"translate(0,612.0000) scale(1,-1)\">\n  <g style=\"fill:#FFFFFF; fill-rule:nonzero\">\n   <path d=\"M0.0000,0.0000L0.0000,612.0000L792.0000,612.0000L792.0000,0.0000z\"/>\n  </g>\n  <g style=\"fill:none; stroke:#000000; stroke-width:  0.9180; stroke-linecap:butt; stroke-linejoin:miter; stroke-dasharray:none\">\n   <path d=\"M91.8000,98.4738L128.5200,362.1609L165.2400,155.5752L201.9600,478.8784L238.6800,253.6348L275.4000,519.9331L312.1200,333.1629L348.8400,162.2409L385.5600,135.3571L422.2800,272.0139             L459.0000,364.6245\"/>\n   <path d=\"M91.8000,91.8000L459.0000,91.8000\"/>\n   <path d=\"M91.8000,520.2000L459.0000,520.2000\"/>\n   <path d=\"M128.5200,91.8000L128.5200,97.9200\"/>\n   <path d=\"M128.5200,520.2000L128.5200,514.0800\"/>\n   <path d=\"M201.9600,91.8000L201.9600,97.9200\"/>\n   <path d=\"M201.9600,520.2000L201.9600,514.0800\"/>\n   <path d=\"M275.4000,91.8000L275.4000,97.9200\"/>\n   <path d=\"M275.4000,520.2000L275.4000,514.0800\"/>\n   <path d=\"M348.8400,91.8000L348.8400,97.9200\"/>\n   <path d=\"M348.8400,520.2000L348.8400,514.0800\"/>\n   <path d=\"M422.2800,91.8000L422.2800,97.9200\"/>\n   <path d=\"M422.2800,520.2000L422.2800,514.0800\"/>\n   <path d=\"M91.8000,91.8000L91.8000,104.0400\"/>\n   <path d=\"M91.8000,520.2000L91.8000,507.9600\"/>\n   <path d=\"M165.2400,91.8000L165.2400,104.0400\"/>\n   <path d=\"M165.2400,520.2000L165.2400,507.9600\"/>\n   <path d=\"M238.6800,91.8000L238.6800,104.0400\"/>\n   <path d=\"M238.6800,520.2000L238.6800,507.9600\"/>\n   <path d=\"M312.1200,91.8000L312.1200,104.0400\"/>\n   <path d=\"M312.1200,520.2000L312.1200,507.9600\"/>\n   <path d=\"M385.5600,91.8000L385.5600,104.0400\"/>\n   <path d=\"M385.5600,520.2000L385.5600,507.9600\"/>\n   <path d=\"M459.0000,91.8000L459.0000,104.0400\"/>\n   <path d=\"M459.0000,520.2000L459.0000,507.9600\"/>\n  </g>\n  <g style=\"fill:#000000; fill-rule:nonzero\">\n   <text style=\"font-family:'Times','Nimbus Roman No9 L'; font-style:normal; font-weight:normal; font-size:612.0000\" transform=\"matrix(0.0280,0.0000,-0.0000,-0.0280,87.8000,74.6800)\">0</text>\n   <text style=\"font-family:'Times','Nimbus Roman No9 L'; font-style:normal; font-weight:normal; font-size:612.0000\" transform=\"matrix(0.0280,0.0000,-0.0000,-0.0280,161.2400,74.6800)\">2</text>\n   <text style=\"font-family:'Times','Nimbus Roman No9 L'; font-style:normal; font-weight:normal; font-size:612.0000\" transform=\"matrix(0.0280,0.0000,-0.0000,-0.0280,234.6800,74.6800)\">4</text>\n   <text style=\"font-family:'Times','Nimbus Roman No9 L'; font-style:normal; font-weight:normal; font-size:612.0000\" transform=\"matrix(0.0280,0.0000,-0.0000,-0.0280,308.1200,73.6800)\">6</text>\n   <text style=\"font-family:'Times','Nimbus Roman No9 L'; font-style:normal; font-weight:normal; font-size:612.0000\" transform=\"matrix(0.0280,0.0000,-0.0000,-0.0280,381.5600,74.6800)\">8</text>\n   <text style=\"font-family:'Times','Nimbus Roman No9 L'; font-style:normal; font-weight:normal; font-size:612.0000\" transform=\"matrix(0.0280,0.0000,-0.0000,-0.0280,450.5000,73.6800)\">10</text>\n   <text style=\"font-family:'Times','Nimbus Roman No9 L'; font-style:normal; font-weight:normal; font-size:612.0000\" transform=\"matrix(0.0280,0.0000,-0.0000,-0.0280,242.4000,55.5600)\">Time (ps)</text>\n  </g>\n  <g style=\"fill:none; stroke:#000000; stroke-width:  0.9180; stroke-linecap:butt; stroke-linejoin:miter; stroke-dasharray:none\">\n   <path d=\"M91.8000,91.8000L91.8000,520.2000\"/>\n   <path d=\"M459.0000,91.8000L459.0000,520.2000\"/>\n   <path d=\"M91.8000,106.0800L97.9200,106.0800\"/>\n   <path d=\"M459.0000,106.0800L452.8800,106.0800\"/>\n   <path d=\"M91.8000,248.8800L97.9200,248.8800\"/>\n   <path d=\"M459.0000,248.8800L452.8800,248.8800\"/>\n   <path d=\"M91.8000,391.6800L97.9200,391.6800\"/>\n   <path d=\"M459.0000,391.6800L452.8800,391.6800\"/>\n   <path d=\"M91.8000,177.4800L104.0400,177.4800\"/>\n   <path d=\"M459.0000,177.4800L446.7600,177.4800\"/>\n   <path d=\"M91.8000,320.2800L104.0400,320.2800\"/>\n   <path d=\"M459.0000,320.2800L446.7600,320.2800\"/>\n   <path d=\"M91.8000,463.0800L104.0400,463.0800\"/>\n   <path d=\"M459.0000,463.0800L446.7600,463.0800\"/>\n  </g>\n  <g style=\"fill:#000000; fill-rule:nonzero\">\n   <text style=\"font-family:'Times','Nimbus Roman No9 L'; font-style:normal; font-weight:normal; font-size:612.0000\" transform=\"matrix(0.0280,0.0000,-0.0000,-0.0280,54.6800,171.4800)\">-500</text>\n   <text style=\"font-family:'Times','Nimbus Roman No9 L'; font-style:normal; font-weight:normal; font-size:612.0000\" transform=\"matrix(0.0280,0.0000,-0.0000,-0.0280,77.6800,314.7800)\">0</text>\n   <text style=\"font-family:'Times','Nimbus Roman No9 L'; font-style:normal; font-weight:normal; font-size:612.0000\" transform=\"matrix(0.0280,0.0000,-0.0000,-0.0280,60.6800,457.0800)\">500</text>\n   <text style=\"font-family:'Times','Nimbus Roman No9 L'; font-style:normal; font-weight:normal; font-size:612.0000\" transform=\"matrix(0.0000,0.0280,0.0280,-0.0000,45.5600,289.5000)\">(bar)</text>\n  </g>\n  <g style=\"fill:none; stroke:#000000; stroke-width:  0.9180; stroke-linecap:butt; stroke-linejoin:miter; stroke-dasharray:none\">\n   <path d=\"M91.8000,91.8000L91.8000,520.2000L459.0000,520.2000L459.0000,91.8000z\"/>\n  </g>\n  <g style=\"fill:#FFFFFF; fill-rule:nonzero\">\n   <path d=\"M477.3600,489.6000L477.3600,466.3600L571.5390,466.3600L571.5390,489.6000z\"/>\n  </g>\n  <g style=\"fill:none; stroke:#000000; stroke-width:  0.9180; stroke-linecap:butt; stroke-linejoin:miter; stroke-dasharray:none\">\n   <path d=\"M477.3600,489.6000L477.3600,466.3600L571.5390,466.3600L571.5390,489.6000z\"/>\n  </g>\n  <g style=\"fill:#000000; fill-rule:nonzero\">\n   <text style=\"font-family:'Times','Nimbus Roman No9 L'; font-style:normal; font-weight:normal; font-size:612.0000\" transform=\"matrix(0.0280,0.0000,-0.0000,-0.0280,508.4190,472.4800)\">Pressure</text>\n  </g>\n  <g style=\"fill:none; stroke:#000000; stroke-width:  0.9180; stroke-linecap:butt; stroke-linejoin:miter; stroke-dasharray:none\">\n   <path d=\"M483.9390,477.9800L496.1790,477.9800\"/>\n  </g>\n  <g style=\"fill:#000000; fill-rule:nonzero\">\n   <text style=\"font-family:'Times','Nimbus Roman No9 L'; font-style:normal; font-weight:normal; font-size:612.0000\" transform=\"matrix(0.0420,0.0000,-0.0000,-0.0420,164.4000,562.9200)\">GROMACS Energies</text>\n  </g>\n </g>\n</svg>"
          },
          "metadata": {}
        }
      ]
    },
    {
      "cell_type": "code",
      "execution_count": 108,
      "metadata": {
        "colab": {
          "base_uri": "https://localhost:8080/"
        },
        "id": "i7uT-Miys-Cv",
        "outputId": "67b067b7-a4b6-4c75-84d8-317acb52f511"
      },
      "outputs": [
        {
          "output_type": "stream",
          "name": "stdout",
          "text": [
            "Writing edrdensity.txt\n"
          ]
        }
      ],
      "source": [
        "%%writefile edrdensity.txt\n",
        "25 0\n"
      ]
    },
    {
      "cell_type": "code",
      "execution_count": 109,
      "metadata": {
        "id": "M6LVbbOhyiK7",
        "colab": {
          "base_uri": "https://localhost:8080/"
        },
        "outputId": "9e0bd096-93d7-4539-e4de-fc43dfff24fd"
      },
      "outputs": [
        {
          "output_type": "stream",
          "name": "stdout",
          "text": [
            "              :-) GROMACS - gmx energy, 2021.4-Ubuntu-2021.4-2 (-:\n",
            "\n",
            "                            GROMACS is written by:\n",
            "     Andrey Alekseenko              Emile Apol              Rossen Apostolov     \n",
            "         Paul Bauer           Herman J.C. Berendsen           Par Bjelkmar       \n",
            "       Christian Blau           Viacheslav Bolnykh             Kevin Boyd        \n",
            "     Aldert van Buuren           Rudi van Drunen             Anton Feenstra      \n",
            "    Gilles Gouaillardet             Alan Gray               Gerrit Groenhof      \n",
            "       Anca Hamuraru            Vincent Hindriksen          M. Eric Irrgang      \n",
            "      Aleksei Iupinov           Christoph Junghans             Joe Jordan        \n",
            "    Dimitrios Karkoulis            Peter Kasson                Jiri Kraus        \n",
            "      Carsten Kutzner              Per Larsson              Justin A. Lemkul     \n",
            "       Viveca Lindahl            Magnus Lundborg             Erik Marklund       \n",
            "        Pascal Merz             Pieter Meulenhoff            Teemu Murtola       \n",
            "        Szilard Pall               Sander Pronk              Roland Schulz       \n",
            "       Michael Shirts            Alexey Shvetsov             Alfons Sijbers      \n",
            "       Peter Tieleman              Jon Vincent              Teemu Virolainen     \n",
            "     Christian Wennberg            Maarten Wolf              Artem Zhmurov       \n",
            "                           and the project leaders:\n",
            "        Mark Abraham, Berk Hess, Erik Lindahl, and David van der Spoel\n",
            "\n",
            "Copyright (c) 1991-2000, University of Groningen, The Netherlands.\n",
            "Copyright (c) 2001-2019, The GROMACS development team at\n",
            "Uppsala University, Stockholm University and\n",
            "the Royal Institute of Technology, Sweden.\n",
            "check out http://www.gromacs.org for more information.\n",
            "\n",
            "GROMACS is free software; you can redistribute it and/or modify it\n",
            "under the terms of the GNU Lesser General Public License\n",
            "as published by the Free Software Foundation; either version 2.1\n",
            "of the License, or (at your option) any later version.\n",
            "\n",
            "GROMACS:      gmx energy, version 2021.4-Ubuntu-2021.4-2\n",
            "Executable:   /usr/bin/gmx\n",
            "Data prefix:  /usr\n",
            "Working dir:  /content\n",
            "Command line:\n",
            "  gmx energy -f npt.edr -o density.xvg\n",
            "\n",
            "Opened npt.edr as single precision energy file\n",
            "\n",
            "Select the terms you want from the following list by\n",
            "selecting either (part of) the name or the number or a combination.\n",
            "End your selection with an empty line or a zero.\n",
            "-------------------------------------------------------------------\n",
            "  1  Bond             2  U-B              3  Proper-Dih.      4  Improper-Dih. \n",
            "  5  CMAP-Dih.        6  LJ-14            7  Coulomb-14       8  LJ-(SR)       \n",
            "  9  Disper.-corr.   10  Coulomb-(SR)    11  Coul.-recip.    12  Position-Rest.\n",
            " 13  Potential       14  Kinetic-En.     15  Total-Energy    16  Conserved-En. \n",
            " 17  Temperature     18  Pres.-DC        19  Pressure        20  Constr.-rmsd  \n",
            " 21  Box-X           22  Box-Y           23  Box-Z           24  Volume        \n",
            " 25  Density         26  pV              27  Enthalpy        28  Vir-XX        \n",
            " 29  Vir-XY          30  Vir-XZ          31  Vir-YX          32  Vir-YY        \n",
            " 33  Vir-YZ          34  Vir-ZX          35  Vir-ZY          36  Vir-ZZ        \n",
            " 37  Pres-XX         38  Pres-XY         39  Pres-XZ         40  Pres-YX       \n",
            " 41  Pres-YY         42  Pres-YZ         43  Pres-ZX         44  Pres-ZY       \n",
            " 45  Pres-ZZ         46  #Surf*SurfTen   47  Box-Vel-XX      48  Box-Vel-YY    \n",
            " 49  Box-Vel-ZZ      50  T-Protein       51  T-non-Protein   52  Lamb-Protein  \n",
            " 53  Lamb-non-Protein                  \n",
            "\n",
            "\rReading energy frame      0 time    0.000         \rReading energy frame      1 time    1.000         \rReading energy frame      2 time    2.000         \rReading energy frame      3 time    3.000         \rReading energy frame      4 time    4.000         \rReading energy frame      5 time    5.000         \rReading energy frame      6 time    6.000         \rReading energy frame      7 time    7.000         \rReading energy frame      8 time    8.000         \rReading energy frame      9 time    9.000         \rReading energy frame     10 time   10.000         \rLast energy frame read 10 time   10.000         \n",
            "\n",
            "Statistics over 5001 steps [ 0.0000 through 10.0000 ps ], 1 data sets\n",
            "All statistics are over 51 points\n",
            "\n",
            "Energy                      Average   Err.Est.       RMSD  Tot-Drift\n",
            "-------------------------------------------------------------------------------\n",
            "Density                     1049.19        5.7    21.5819    23.8045  (kg/m^3)\n",
            "\n",
            "GROMACS reminds you: \"I don't know how many of you have ever met Dijkstra, but you probably know that arrogance in computer science is measured in nano-Dijkstras.\" (Alan Kay)\n",
            "\n"
          ]
        }
      ],
      "source": [
        "!gmx energy -f npt.edr -o density.xvg <edrdensity.txt\n",
        "#  \"25 0\""
      ]
    },
    {
      "cell_type": "code",
      "source": [
        "!cp density.xvg density.xvg.txt\n",
        "#!cp density.txt density.xvg\n",
        "\n",
        "# Add the following to density.xvg\n",
        "'''\n",
        "  @ s1 legend \"3-ps running average\"\n",
        "  @  RUNAVG (s0, 3)\n",
        "'''"
      ],
      "metadata": {
        "id": "XHSv6waB3l8i",
        "colab": {
          "base_uri": "https://localhost:8080/",
          "height": 36
        },
        "outputId": "02a2d05d-8c9a-4d44-e814-b43b5c089756"
      },
      "execution_count": 110,
      "outputs": [
        {
          "output_type": "execute_result",
          "data": {
            "text/plain": [
              "'\\n  @ s1 legend \"3-ps running average\"\\n  @  RUNAVG (s0, 3)\\n'"
            ],
            "application/vnd.google.colaboratory.intrinsic+json": {
              "type": "string"
            }
          },
          "metadata": {},
          "execution_count": 110
        }
      ]
    },
    {
      "cell_type": "code",
      "source": [
        "!grace -hardcopy -hdevice SVG -nxy density.xvg -printfile density.svg"
      ],
      "metadata": {
        "id": "Y1mj8lC2DUXq"
      },
      "execution_count": 111,
      "outputs": []
    },
    {
      "cell_type": "code",
      "source": [
        "display(SVG(\"density.svg\"))"
      ],
      "metadata": {
        "colab": {
          "base_uri": "https://localhost:8080/",
          "height": 837
        },
        "id": "TXqR_BEZ4OuL",
        "outputId": "0a8f1134-bbe8-441a-9100-95254c692765"
      },
      "execution_count": 112,
      "outputs": [
        {
          "output_type": "display_data",
          "data": {
            "text/plain": [
              "<IPython.core.display.SVG object>"
            ],
            "image/svg+xml": "<svg xml:space=\"preserve\" width=\"11.0000in\" height=\"8.5000in\" viewBox=\"0.0000 0.0000 792.0000 612.0000\">\n <g transform=\"translate(0,612.0000) scale(1,-1)\">\n  <g style=\"fill:#FFFFFF; fill-rule:nonzero\">\n   <path d=\"M0.0000,0.0000L0.0000,612.0000L792.0000,612.0000L792.0000,0.0000z\"/>\n  </g>\n  <g style=\"fill:none; stroke:#000000; stroke-width:  0.9180; stroke-linecap:butt; stroke-linejoin:miter; stroke-dasharray:none\">\n   <path d=\"M91.8000,93.8337L128.5200,378.9552L165.2400,373.6450L201.9600,367.4237L238.6800,392.8297L275.4000,445.5161L312.1200,360.9325L348.8400,336.0315L385.5600,394.8315L422.2800,374.6498             L459.0000,383.4025\"/>\n   <path d=\"M91.8000,91.8000L459.0000,91.8000\"/>\n   <path d=\"M91.8000,520.2000L459.0000,520.2000\"/>\n   <path d=\"M128.5200,91.8000L128.5200,97.9200\"/>\n   <path d=\"M128.5200,520.2000L128.5200,514.0800\"/>\n   <path d=\"M201.9600,91.8000L201.9600,97.9200\"/>\n   <path d=\"M201.9600,520.2000L201.9600,514.0800\"/>\n   <path d=\"M275.4000,91.8000L275.4000,97.9200\"/>\n   <path d=\"M275.4000,520.2000L275.4000,514.0800\"/>\n   <path d=\"M348.8400,91.8000L348.8400,97.9200\"/>\n   <path d=\"M348.8400,520.2000L348.8400,514.0800\"/>\n   <path d=\"M422.2800,91.8000L422.2800,97.9200\"/>\n   <path d=\"M422.2800,520.2000L422.2800,514.0800\"/>\n   <path d=\"M91.8000,91.8000L91.8000,104.0400\"/>\n   <path d=\"M91.8000,520.2000L91.8000,507.9600\"/>\n   <path d=\"M165.2400,91.8000L165.2400,104.0400\"/>\n   <path d=\"M165.2400,520.2000L165.2400,507.9600\"/>\n   <path d=\"M238.6800,91.8000L238.6800,104.0400\"/>\n   <path d=\"M238.6800,520.2000L238.6800,507.9600\"/>\n   <path d=\"M312.1200,91.8000L312.1200,104.0400\"/>\n   <path d=\"M312.1200,520.2000L312.1200,507.9600\"/>\n   <path d=\"M385.5600,91.8000L385.5600,104.0400\"/>\n   <path d=\"M385.5600,520.2000L385.5600,507.9600\"/>\n   <path d=\"M459.0000,91.8000L459.0000,104.0400\"/>\n   <path d=\"M459.0000,520.2000L459.0000,507.9600\"/>\n  </g>\n  <g style=\"fill:#000000; fill-rule:nonzero\">\n   <text style=\"font-family:'Times','Nimbus Roman No9 L'; font-style:normal; font-weight:normal; font-size:612.0000\" transform=\"matrix(0.0280,0.0000,-0.0000,-0.0280,87.8000,74.6800)\">0</text>\n   <text style=\"font-family:'Times','Nimbus Roman No9 L'; font-style:normal; font-weight:normal; font-size:612.0000\" transform=\"matrix(0.0280,0.0000,-0.0000,-0.0280,161.2400,74.6800)\">2</text>\n   <text style=\"font-family:'Times','Nimbus Roman No9 L'; font-style:normal; font-weight:normal; font-size:612.0000\" transform=\"matrix(0.0280,0.0000,-0.0000,-0.0280,234.6800,74.6800)\">4</text>\n   <text style=\"font-family:'Times','Nimbus Roman No9 L'; font-style:normal; font-weight:normal; font-size:612.0000\" transform=\"matrix(0.0280,0.0000,-0.0000,-0.0280,308.1200,73.6800)\">6</text>\n   <text style=\"font-family:'Times','Nimbus Roman No9 L'; font-style:normal; font-weight:normal; font-size:612.0000\" transform=\"matrix(0.0280,0.0000,-0.0000,-0.0280,381.5600,74.6800)\">8</text>\n   <text style=\"font-family:'Times','Nimbus Roman No9 L'; font-style:normal; font-weight:normal; font-size:612.0000\" transform=\"matrix(0.0280,0.0000,-0.0000,-0.0280,450.5000,73.6800)\">10</text>\n   <text style=\"font-family:'Times','Nimbus Roman No9 L'; font-style:normal; font-weight:normal; font-size:612.0000\" transform=\"matrix(0.0280,0.0000,-0.0000,-0.0280,242.4000,55.5600)\">Time (ps)</text>\n  </g>\n  <g style=\"fill:none; stroke:#000000; stroke-width:  0.9180; stroke-linecap:butt; stroke-linejoin:miter; stroke-dasharray:none\">\n   <path d=\"M91.8000,91.8000L91.8000,520.2000\"/>\n   <path d=\"M459.0000,91.8000L459.0000,520.2000\"/>\n   <path d=\"M91.8000,122.4000L97.9200,122.4000\"/>\n   <path d=\"M459.0000,122.4000L452.8800,122.4000\"/>\n   <path d=\"M91.8000,183.6000L97.9200,183.6000\"/>\n   <path d=\"M459.0000,183.6000L452.8800,183.6000\"/>\n   <path d=\"M91.8000,244.8000L97.9200,244.8000\"/>\n   <path d=\"M459.0000,244.8000L452.8800,244.8000\"/>\n   <path d=\"M91.8000,306.0000L97.9200,306.0000\"/>\n   <path d=\"M459.0000,306.0000L452.8800,306.0000\"/>\n   <path d=\"M91.8000,367.2000L97.9200,367.2000\"/>\n   <path d=\"M459.0000,367.2000L452.8800,367.2000\"/>\n   <path d=\"M91.8000,428.4000L97.9200,428.4000\"/>\n   <path d=\"M459.0000,428.4000L452.8800,428.4000\"/>\n   <path d=\"M91.8000,489.6000L97.9200,489.6000\"/>\n   <path d=\"M459.0000,489.6000L452.8800,489.6000\"/>\n   <path d=\"M91.8000,91.8000L104.0400,91.8000\"/>\n   <path d=\"M459.0000,91.8000L446.7600,91.8000\"/>\n   <path d=\"M91.8000,153.0000L104.0400,153.0000\"/>\n   <path d=\"M459.0000,153.0000L446.7600,153.0000\"/>\n   <path d=\"M91.8000,214.2000L104.0400,214.2000\"/>\n   <path d=\"M459.0000,214.2000L446.7600,214.2000\"/>\n   <path d=\"M91.8000,275.4000L104.0400,275.4000\"/>\n   <path d=\"M459.0000,275.4000L446.7600,275.4000\"/>\n   <path d=\"M91.8000,336.6000L104.0400,336.6000\"/>\n   <path d=\"M459.0000,336.6000L446.7600,336.6000\"/>\n   <path d=\"M91.8000,397.8000L104.0400,397.8000\"/>\n   <path d=\"M459.0000,397.8000L446.7600,397.8000\"/>\n   <path d=\"M91.8000,459.0000L104.0400,459.0000\"/>\n   <path d=\"M459.0000,459.0000L446.7600,459.0000\"/>\n   <path d=\"M91.8000,520.2000L104.0400,520.2000\"/>\n   <path d=\"M459.0000,520.2000L446.7600,520.2000\"/>\n  </g>\n  <g style=\"fill:#000000; fill-rule:nonzero\">\n   <text style=\"font-family:'Times','Nimbus Roman No9 L'; font-style:normal; font-weight:normal; font-size:612.0000\" transform=\"matrix(0.0280,0.0000,-0.0000,-0.0280,60.6800,85.8000)\">960</text>\n   <text style=\"font-family:'Times','Nimbus Roman No9 L'; font-style:normal; font-weight:normal; font-size:612.0000\" transform=\"matrix(0.0280,0.0000,-0.0000,-0.0280,60.6800,147.5000)\">980</text>\n   <text style=\"font-family:'Times','Nimbus Roman No9 L'; font-style:normal; font-weight:normal; font-size:612.0000\" transform=\"matrix(0.0280,0.0000,-0.0000,-0.0280,51.6800,208.2000)\">1000</text>\n   <text style=\"font-family:'Times','Nimbus Roman No9 L'; font-style:normal; font-weight:normal; font-size:612.0000\" transform=\"matrix(0.0280,0.0000,-0.0000,-0.0280,51.6800,269.4000)\">1020</text>\n   <text style=\"font-family:'Times','Nimbus Roman No9 L'; font-style:normal; font-weight:normal; font-size:612.0000\" transform=\"matrix(0.0280,0.0000,-0.0000,-0.0280,51.6800,330.6000)\">1040</text>\n   <text style=\"font-family:'Times','Nimbus Roman No9 L'; font-style:normal; font-weight:normal; font-size:612.0000\" transform=\"matrix(0.0280,0.0000,-0.0000,-0.0280,51.6800,391.8000)\">1060</text>\n   <text style=\"font-family:'Times','Nimbus Roman No9 L'; font-style:normal; font-weight:normal; font-size:612.0000\" transform=\"matrix(0.0280,0.0000,-0.0000,-0.0280,51.6800,453.0000)\">1080</text>\n   <text style=\"font-family:'Times','Nimbus Roman No9 L'; font-style:normal; font-weight:normal; font-size:612.0000\" transform=\"matrix(0.0280,0.0000,-0.0000,-0.0280,51.6800,514.2000)\">1100</text>\n   <text style=\"font-family:'Times','Nimbus Roman No9 L'; font-style:normal; font-weight:normal; font-size:612.0000\" transform=\"matrix(0.0000,0.0280,0.0280,-0.0000,41.5600,274.5000)\">(kg/m^3)</text>\n  </g>\n  <g style=\"fill:none; stroke:#000000; stroke-width:  0.9180; stroke-linecap:butt; stroke-linejoin:miter; stroke-dasharray:none\">\n   <path d=\"M91.8000,91.8000L91.8000,520.2000L459.0000,520.2000L459.0000,91.8000z\"/>\n  </g>\n  <g style=\"fill:#FFFFFF; fill-rule:nonzero\">\n   <path d=\"M477.3600,489.6000L477.3600,462.3600L567.5390,462.3600L567.5390,489.6000z\"/>\n  </g>\n  <g style=\"fill:none; stroke:#000000; stroke-width:  0.9180; stroke-linecap:butt; stroke-linejoin:miter; stroke-dasharray:none\">\n   <path d=\"M477.3600,489.6000L477.3600,462.3600L567.5390,462.3600L567.5390,489.6000z\"/>\n  </g>\n  <g style=\"fill:#000000; fill-rule:nonzero\">\n   <text style=\"font-family:'Times','Nimbus Roman No9 L'; font-style:normal; font-weight:normal; font-size:612.0000\" transform=\"matrix(0.0280,0.0000,-0.0000,-0.0280,508.4190,472.4800)\">Density</text>\n  </g>\n  <g style=\"fill:none; stroke:#000000; stroke-width:  0.9180; stroke-linecap:butt; stroke-linejoin:miter; stroke-dasharray:none\">\n   <path d=\"M483.9390,475.9800L496.1790,475.9800\"/>\n  </g>\n  <g style=\"fill:#000000; fill-rule:nonzero\">\n   <text style=\"font-family:'Times','Nimbus Roman No9 L'; font-style:normal; font-weight:normal; font-size:612.0000\" transform=\"matrix(0.0420,0.0000,-0.0000,-0.0420,164.4000,562.9200)\">GROMACS Energies</text>\n  </g>\n </g>\n</svg>"
          },
          "metadata": {}
        }
      ]
    },
    {
      "cell_type": "code",
      "source": [
        "!wget http://www.mdtutorials.com/gmx/lysozyme/Files/md.mdp"
      ],
      "metadata": {
        "colab": {
          "base_uri": "https://localhost:8080/"
        },
        "id": "4UDFtx5w4kgg",
        "outputId": "8a45dcf1-a85f-4eff-96fc-d0626fab4f1c"
      },
      "execution_count": 113,
      "outputs": [
        {
          "output_type": "stream",
          "name": "stdout",
          "text": [
            "--2025-03-29 20:42:08--  http://www.mdtutorials.com/gmx/lysozyme/Files/md.mdp\n",
            "Resolving www.mdtutorials.com (www.mdtutorials.com)... 13.59.3.21\n",
            "Connecting to www.mdtutorials.com (www.mdtutorials.com)|13.59.3.21|:80... connected.\n",
            "HTTP request sent, awaiting response... 200 OK\n",
            "Length: 2741 (2.7K)\n",
            "Saving to: ‘md.mdp’\n",
            "\n",
            "\rmd.mdp                0%[                    ]       0  --.-KB/s               \rmd.mdp              100%[===================>]   2.68K  --.-KB/s    in 0s      \n",
            "\n",
            "2025-03-29 20:42:08 (191 MB/s) - ‘md.mdp’ saved [2741/2741]\n",
            "\n"
          ]
        }
      ]
    },
    {
      "cell_type": "code",
      "source": [
        "!cp md.mdp md.mdp.txt\n",
        "#change\n",
        "'''\n",
        "nsteps                  = 5000; 00    ; 2 * 500000 = 1000 ps (1 ns)\n",
        "\n",
        "nstxout-compressed      = 50; 00      ; save compressed coordinates every 10.0 ps\n",
        "'''"
      ],
      "metadata": {
        "id": "B8RGrkLq4nCA",
        "colab": {
          "base_uri": "https://localhost:8080/",
          "height": 54
        },
        "outputId": "5f92a063-fd82-4692-93b7-b604b038caf7"
      },
      "execution_count": 114,
      "outputs": [
        {
          "output_type": "execute_result",
          "data": {
            "text/plain": [
              "'\\nnsteps                  = 50000 ;0    ; 2 * 500000 = 1000 ps (1 ns)\\n\\nnstxout-compressed      = 500 ;0      ; save compressed coordinates every 10.0 ps\\n'"
            ],
            "application/vnd.google.colaboratory.intrinsic+json": {
              "type": "string"
            }
          },
          "metadata": {},
          "execution_count": 114
        }
      ]
    },
    {
      "cell_type": "code",
      "source": [
        "!cp md.mdp.txt md.mdp"
      ],
      "metadata": {
        "id": "zX1Z7XcikiYX"
      },
      "execution_count": 115,
      "outputs": []
    },
    {
      "cell_type": "code",
      "source": [
        "!gmx grompp -f md.mdp -c npt.gro -t npt.cpt -p topol.top -o md_0_1_01of10.tpr"
      ],
      "metadata": {
        "colab": {
          "base_uri": "https://localhost:8080/"
        },
        "id": "GdgyVKY_5A1u",
        "outputId": "9762c4a2-8a58-453b-d10e-bbb31086afbc"
      },
      "execution_count": 116,
      "outputs": [
        {
          "output_type": "stream",
          "name": "stdout",
          "text": [
            "              :-) GROMACS - gmx grompp, 2021.4-Ubuntu-2021.4-2 (-:\n",
            "\n",
            "                            GROMACS is written by:\n",
            "     Andrey Alekseenko              Emile Apol              Rossen Apostolov     \n",
            "         Paul Bauer           Herman J.C. Berendsen           Par Bjelkmar       \n",
            "       Christian Blau           Viacheslav Bolnykh             Kevin Boyd        \n",
            "     Aldert van Buuren           Rudi van Drunen             Anton Feenstra      \n",
            "    Gilles Gouaillardet             Alan Gray               Gerrit Groenhof      \n",
            "       Anca Hamuraru            Vincent Hindriksen          M. Eric Irrgang      \n",
            "      Aleksei Iupinov           Christoph Junghans             Joe Jordan        \n",
            "    Dimitrios Karkoulis            Peter Kasson                Jiri Kraus        \n",
            "      Carsten Kutzner              Per Larsson              Justin A. Lemkul     \n",
            "       Viveca Lindahl            Magnus Lundborg             Erik Marklund       \n",
            "        Pascal Merz             Pieter Meulenhoff            Teemu Murtola       \n",
            "        Szilard Pall               Sander Pronk              Roland Schulz       \n",
            "       Michael Shirts            Alexey Shvetsov             Alfons Sijbers      \n",
            "       Peter Tieleman              Jon Vincent              Teemu Virolainen     \n",
            "     Christian Wennberg            Maarten Wolf              Artem Zhmurov       \n",
            "                           and the project leaders:\n",
            "        Mark Abraham, Berk Hess, Erik Lindahl, and David van der Spoel\n",
            "\n",
            "Copyright (c) 1991-2000, University of Groningen, The Netherlands.\n",
            "Copyright (c) 2001-2019, The GROMACS development team at\n",
            "Uppsala University, Stockholm University and\n",
            "the Royal Institute of Technology, Sweden.\n",
            "check out http://www.gromacs.org for more information.\n",
            "\n",
            "GROMACS is free software; you can redistribute it and/or modify it\n",
            "under the terms of the GNU Lesser General Public License\n",
            "as published by the Free Software Foundation; either version 2.1\n",
            "of the License, or (at your option) any later version.\n",
            "\n",
            "GROMACS:      gmx grompp, version 2021.4-Ubuntu-2021.4-2\n",
            "Executable:   /usr/bin/gmx\n",
            "Data prefix:  /usr\n",
            "Working dir:  /content\n",
            "Command line:\n",
            "  gmx grompp -f md.mdp -c npt.gro -t npt.cpt -p topol.top -o md_0_1_01of10.tpr\n",
            "\n",
            "Ignoring obsolete mdp entry 'title'\n",
            "Ignoring obsolete mdp entry 'ns_type'\n",
            "Setting the LD random seed to -302126227\n",
            "\n",
            "Generated 20503 of the 20503 non-bonded parameter combinations\n",
            "Generating 1-4 interactions: fudge = 1\n",
            "\n",
            "Generated 17396 of the 20503 1-4 parameter combinations\n",
            "\n",
            "Excluding 3 bonded neighbours molecule type 'Protein_chain_A'\n",
            "\n",
            "turning H bonds into constraints...\n",
            "\n",
            "Excluding 2 bonded neighbours molecule type 'SOL'\n",
            "\n",
            "turning H bonds into constraints...\n",
            "\n",
            "Excluding 1 bonded neighbours molecule type 'NA'\n",
            "\n",
            "turning H bonds into constraints...\n",
            "Analysing residue names:\n",
            "There are:    42    Protein residues\n",
            "There are:  1079      Water residues\n",
            "There are:     2        Ion residues\n",
            "Analysing Protein...\n",
            "Analysing residues not classified as Protein/DNA/RNA/Water and splitting into groups...\n",
            "Number of degrees of freedom in T-Coupling group Protein is 1479.44\n",
            "Number of degrees of freedom in T-Coupling group non-Protein is 6477.56\n",
            "\n",
            "Determining Verlet buffer for a tolerance of 0.005 kJ/mol/ps at 300 K\n",
            "\n",
            "Calculated rlist for 1x1 atom pair-list as 1.033 nm, buffer size 0.033 nm\n",
            "\n",
            "Set rlist, assuming 4x4 atom pair-list, to 1.000 nm, buffer size 0.000 nm\n",
            "\n",
            "Note that mdrun will redetermine rlist based on the actual pair-list setup\n",
            "\n",
            "Reading Coordinates, Velocities and Box size from old trajectory\n",
            "\n",
            "Will read whole trajectory\n",
            "Last frame         -1 time   10.000   \n",
            "\n",
            "Using frame at t = 10 ps\n",
            "\n",
            "Starting time for run is 0 ps\n",
            "Calculating fourier grid dimensions for X Y Z\n",
            "Using a fourier grid of 24x24x24, spacing 0.157 0.157 0.157\n",
            "\n",
            "Estimate for the relative computational load of the PME mesh part: 0.15\n",
            "\n",
            "This run will generate roughly 2 Mb of data\n",
            "\n",
            "GROMACS reminds you: \"Two guys can move very fast when they're motivated enough and unemployed\" (Eric Betzig)\n",
            "\n"
          ]
        }
      ]
    },
    {
      "cell_type": "code",
      "source": [
        "!gmx mdrun -deffnm md_0_1_01of10 1>md_0_1_01of10.out.txt 2>md_0_1_01of10.err.txt\n",
        "#aprox 5min"
      ],
      "metadata": {
        "id": "2i9PTmMfN11J"
      },
      "execution_count": 117,
      "outputs": []
    },
    {
      "cell_type": "code",
      "source": [
        "#!gmx grompp -f md.mdp -c npt.gro -t npt.cpt -p topol.top -o md_0_1_01of10.tpr\n",
        "#!gmx mdrun -deffnm md_0_1_01of10\n",
        "#!cp md_0_1_01* drive/MyDrive/GromacsExample/\n",
        "#!gmx grompp -f md.mdp -c md_0_1_01of10.gro -t md_0_1_01of10.cpt -p topol.top -o md_0_1_02of10.tpr\n",
        "#!gmx mdrun -deffnm md_0_1_02of10\n",
        "#!cp md_0_1_02* drive/MyDrive/GromacsExample/\n",
        "#!gmx grompp -f md.mdp -c md_0_1_02of10.gro -t md_0_1_02of10.cpt -p topol.top -o md_0_1_03of10.tpr\n",
        "#!gmx mdrun -deffnm md_0_1_03of10\n",
        "#!cp md_0_1_03* drive/MyDrive/GromacsExample/\n",
        "#!gmx grompp -f md.mdp -c md_0_1_03of10.gro -t md_0_1_03of10.cpt -p topol.top -o md_0_1_04of10.tpr\n",
        "#!gmx mdrun -deffnm md_0_1_04of10\n",
        "#!cp md_0_1_04* drive/MyDrive/GromacsExample/\n",
        "#!gmx grompp -f md.mdp -c md_0_1_04of10.gro -t md_0_1_04of10.cpt -p topol.top -o md_0_1_05of10.tpr\n",
        "#!gmx mdrun -deffnm md_0_1_05of10\n",
        "#!cp md_0_1_05* drive/MyDrive/GromacsExample/\n",
        "#!gmx grompp -f md.mdp -c md_0_1_05of10.gro -t md_0_1_05of10.cpt -p topol.top -o md_0_1_06of10.tpr\n",
        "#!gmx mdrun -deffnm md_0_1_06of10\n",
        "#!cp md_0_1_06* drive/MyDrive/GromacsExample/\n",
        "# !gmx grompp -f md.mdp -c md_0_1_06of10.gro -t md_0_1_06of10.cpt -p topol.top -o md_0_1_07of10.tpr\n",
        "# !gmx mdrun -deffnm md_0_1_07of10\n",
        "# !cp md_0_1_07* drive/MyDrive/GromacsExample/\n",
        "# !gmx grompp -f md.mdp -c md_0_1_07of10.gro -t md_0_1_07of10.cpt -p topol.top -o md_0_1_08of10.tpr\n",
        "# !gmx mdrun -deffnm md_0_1_08of10\n",
        "# !cp md_0_1_08* drive/MyDrive/GromacsExample/\n",
        "# !gmx grompp -f md.mdp -c md_0_1_08of10.gro -t md_0_1_08of10.cpt -p topol.top -o md_0_1_09of10.tpr\n",
        "# !gmx mdrun -deffnm md_0_1_09of10\n",
        "# !cp md_0_1_09* drive/MyDrive/GromacsExample/\n",
        "#!gmx grompp -f md.mdp -c md_0_1_09of10.gro -t md_0_1_09of10.cpt -p topol.top -o md_0_1_10of10.tpr\n",
        "#!gmx mdrun -deffnm md_0_1_10of10\n",
        "#!cp md_0_1_10* drive/MyDrive/GromacsExample/"
      ],
      "metadata": {
        "id": "hR5lN3LqQVT_"
      },
      "execution_count": null,
      "outputs": []
    },
    {
      "cell_type": "code",
      "source": [
        "#!gmx trjcat -f md_0_1_01of10.xtc md_0_1_02of10.xtc md_0_1_03of10.xtc md_0_1_04of10.xtc md_0_1_05of10.xtc md_0_1_06of10.xtc md_0_1_07of10.xtc md_0_1_08of10.xtc md_0_1_09of10.xtc md_0_1_10of10.xtc -o md_0_1_full.xtc -settime\n",
        "#!cp md_0_1_full.xtc drive/MyDrive/GromacsExample/"
      ],
      "metadata": {
        "id": "xwj1kFH9ZzqX"
      },
      "execution_count": null,
      "outputs": []
    },
    {
      "cell_type": "code",
      "source": [
        "#!gmx eneconv -f md_0_1_01of10.edr md_0_1_02of10.edr md_0_1_03of10.edr md_0_1_04of10.edr md_0_1_05of10.edr md_0_1_06of10.edr md_0_1_07of10.edr md_0_1_08of10.edr md_0_1_09of10.edr md_0_1_10of10.edr -o md_0_1_full.edr -settime\n",
        "#!cp md_0_1_full.edr drive/MyDrive/GromacsExample/"
      ],
      "metadata": {
        "id": "1bjdDqFfbUZs"
      },
      "execution_count": null,
      "outputs": []
    },
    {
      "cell_type": "code",
      "source": [
        "%%writefile trjconv_cw.txt\n",
        "1 0\n"
      ],
      "metadata": {
        "colab": {
          "base_uri": "https://localhost:8080/"
        },
        "id": "fQduGGFHFPeO",
        "outputId": "9d56da7d-e5a4-44c6-af07-522aa9b31419"
      },
      "execution_count": 118,
      "outputs": [
        {
          "output_type": "stream",
          "name": "stdout",
          "text": [
            "Writing trjconv_cw.txt\n"
          ]
        }
      ]
    },
    {
      "cell_type": "code",
      "source": [
        "!gmx trjconv -s md_0_1_01of10.tpr -f md_0_1_01of10.gro -o md_0_1_01of10cw.gro -center -pbc whole <trjconv_cw.txt\n",
        "#1 Protein\n",
        "#0 System"
      ],
      "metadata": {
        "colab": {
          "base_uri": "https://localhost:8080/"
        },
        "id": "xwOOG0j90JzW",
        "outputId": "e4a8079d-ae36-47de-c8df-796d5a6f8f1c"
      },
      "execution_count": 119,
      "outputs": [
        {
          "output_type": "stream",
          "name": "stdout",
          "text": [
            "             :-) GROMACS - gmx trjconv, 2021.4-Ubuntu-2021.4-2 (-:\n",
            "\n",
            "                            GROMACS is written by:\n",
            "     Andrey Alekseenko              Emile Apol              Rossen Apostolov     \n",
            "         Paul Bauer           Herman J.C. Berendsen           Par Bjelkmar       \n",
            "       Christian Blau           Viacheslav Bolnykh             Kevin Boyd        \n",
            "     Aldert van Buuren           Rudi van Drunen             Anton Feenstra      \n",
            "    Gilles Gouaillardet             Alan Gray               Gerrit Groenhof      \n",
            "       Anca Hamuraru            Vincent Hindriksen          M. Eric Irrgang      \n",
            "      Aleksei Iupinov           Christoph Junghans             Joe Jordan        \n",
            "    Dimitrios Karkoulis            Peter Kasson                Jiri Kraus        \n",
            "      Carsten Kutzner              Per Larsson              Justin A. Lemkul     \n",
            "       Viveca Lindahl            Magnus Lundborg             Erik Marklund       \n",
            "        Pascal Merz             Pieter Meulenhoff            Teemu Murtola       \n",
            "        Szilard Pall               Sander Pronk              Roland Schulz       \n",
            "       Michael Shirts            Alexey Shvetsov             Alfons Sijbers      \n",
            "       Peter Tieleman              Jon Vincent              Teemu Virolainen     \n",
            "     Christian Wennberg            Maarten Wolf              Artem Zhmurov       \n",
            "                           and the project leaders:\n",
            "        Mark Abraham, Berk Hess, Erik Lindahl, and David van der Spoel\n",
            "\n",
            "Copyright (c) 1991-2000, University of Groningen, The Netherlands.\n",
            "Copyright (c) 2001-2019, The GROMACS development team at\n",
            "Uppsala University, Stockholm University and\n",
            "the Royal Institute of Technology, Sweden.\n",
            "check out http://www.gromacs.org for more information.\n",
            "\n",
            "GROMACS is free software; you can redistribute it and/or modify it\n",
            "under the terms of the GNU Lesser General Public License\n",
            "as published by the Free Software Foundation; either version 2.1\n",
            "of the License, or (at your option) any later version.\n",
            "\n",
            "GROMACS:      gmx trjconv, version 2021.4-Ubuntu-2021.4-2\n",
            "Executable:   /usr/bin/gmx\n",
            "Data prefix:  /usr\n",
            "Working dir:  /content\n",
            "Command line:\n",
            "  gmx trjconv -s md_0_1_01of10.tpr -f md_0_1_01of10.gro -o md_0_1_01of10cw.gro -center -pbc whole\n",
            "\n",
            "Note that major changes are planned in future for trjconv, to improve usability and utility.\n",
            "Will write gro: Coordinate file in Gromos-87 format\n",
            "Reading file md_0_1_01of10.tpr, VERSION 2021.4-Ubuntu-2021.4-2 (single precision)\n",
            "Reading file md_0_1_01of10.tpr, VERSION 2021.4-Ubuntu-2021.4-2 (single precision)\n",
            "Select group for centering\n",
            "Group     0 (         System) has  3821 elements\n",
            "Group     1 (        Protein) has   582 elements\n",
            "Group     2 (      Protein-H) has   316 elements\n",
            "Group     3 (        C-alpha) has    42 elements\n",
            "Group     4 (       Backbone) has   126 elements\n",
            "Group     5 (      MainChain) has   167 elements\n",
            "Group     6 (   MainChain+Cb) has   204 elements\n",
            "Group     7 (    MainChain+H) has   209 elements\n",
            "Group     8 (      SideChain) has   373 elements\n",
            "Group     9 (    SideChain-H) has   149 elements\n",
            "Group    10 (    Prot-Masses) has   582 elements\n",
            "Group    11 (    non-Protein) has  3239 elements\n",
            "Group    12 (          Water) has  3237 elements\n",
            "Group    13 (            SOL) has  3237 elements\n",
            "Group    14 (      non-Water) has   584 elements\n",
            "Group    15 (            Ion) has     2 elements\n",
            "Group    16 (             NA) has     2 elements\n",
            "Group    17 ( Water_and_ions) has  3239 elements\n",
            "Select a group: Selected 1: 'Protein'\n",
            "Select group for output\n",
            "Group     0 (         System) has  3821 elements\n",
            "Group     1 (        Protein) has   582 elements\n",
            "Group     2 (      Protein-H) has   316 elements\n",
            "Group     3 (        C-alpha) has    42 elements\n",
            "Group     4 (       Backbone) has   126 elements\n",
            "Group     5 (      MainChain) has   167 elements\n",
            "Group     6 (   MainChain+Cb) has   204 elements\n",
            "Group     7 (    MainChain+H) has   209 elements\n",
            "Group     8 (      SideChain) has   373 elements\n",
            "Group     9 (    SideChain-H) has   149 elements\n",
            "Group    10 (    Prot-Masses) has   582 elements\n",
            "Group    11 (    non-Protein) has  3239 elements\n",
            "Group    12 (          Water) has  3237 elements\n",
            "Group    13 (            SOL) has  3237 elements\n",
            "Group    14 (      non-Water) has   584 elements\n",
            "Group    15 (            Ion) has     2 elements\n",
            "Group    16 (             NA) has     2 elements\n",
            "Group    17 ( Water_and_ions) has  3239 elements\n",
            "Select a group: Selected 0: 'System'\n",
            "Reading frames from gro file 'HEVEIN ISOFORM 2 in water', 3821 atoms.\n",
            "\rReading frame       0 time    0.000   \n",
            "Precision of md_0_1_01of10.gro is 0.001 (nm)\n",
            " ->  frame      0 time    0.000      \r\rLast frame          0 time    0.000   \n",
            "\n",
            "\n",
            "GROMACS reminds you: \"Welcome to the Power Age\" (2 Unlimited)\n",
            "\n"
          ]
        }
      ]
    },
    {
      "cell_type": "code",
      "source": [
        "%%writefile trjconv_murc.txt\n",
        "0"
      ],
      "metadata": {
        "colab": {
          "base_uri": "https://localhost:8080/"
        },
        "id": "QAMSfPHpF9ZG",
        "outputId": "00dd4bdd-7bad-4622-d644-7d9be5130942"
      },
      "execution_count": 120,
      "outputs": [
        {
          "output_type": "stream",
          "name": "stdout",
          "text": [
            "Writing trjconv_murc.txt\n"
          ]
        }
      ]
    },
    {
      "cell_type": "code",
      "source": [
        "!gmx trjconv -s md_0_1_01of10.tpr -f md_0_1_01of10cw.gro -o md_0_1_01of10cwmurc.gro -pbc mol -ur compact <trjconv_murc.txt\n",
        "#0 System\n"
      ],
      "metadata": {
        "colab": {
          "base_uri": "https://localhost:8080/"
        },
        "id": "Qi6UK5BqFkQL",
        "outputId": "05b16e6c-4e7b-414c-b641-d6c867676f5b"
      },
      "execution_count": 121,
      "outputs": [
        {
          "output_type": "stream",
          "name": "stdout",
          "text": [
            "             :-) GROMACS - gmx trjconv, 2021.4-Ubuntu-2021.4-2 (-:\n",
            "\n",
            "                            GROMACS is written by:\n",
            "     Andrey Alekseenko              Emile Apol              Rossen Apostolov     \n",
            "         Paul Bauer           Herman J.C. Berendsen           Par Bjelkmar       \n",
            "       Christian Blau           Viacheslav Bolnykh             Kevin Boyd        \n",
            "     Aldert van Buuren           Rudi van Drunen             Anton Feenstra      \n",
            "    Gilles Gouaillardet             Alan Gray               Gerrit Groenhof      \n",
            "       Anca Hamuraru            Vincent Hindriksen          M. Eric Irrgang      \n",
            "      Aleksei Iupinov           Christoph Junghans             Joe Jordan        \n",
            "    Dimitrios Karkoulis            Peter Kasson                Jiri Kraus        \n",
            "      Carsten Kutzner              Per Larsson              Justin A. Lemkul     \n",
            "       Viveca Lindahl            Magnus Lundborg             Erik Marklund       \n",
            "        Pascal Merz             Pieter Meulenhoff            Teemu Murtola       \n",
            "        Szilard Pall               Sander Pronk              Roland Schulz       \n",
            "       Michael Shirts            Alexey Shvetsov             Alfons Sijbers      \n",
            "       Peter Tieleman              Jon Vincent              Teemu Virolainen     \n",
            "     Christian Wennberg            Maarten Wolf              Artem Zhmurov       \n",
            "                           and the project leaders:\n",
            "        Mark Abraham, Berk Hess, Erik Lindahl, and David van der Spoel\n",
            "\n",
            "Copyright (c) 1991-2000, University of Groningen, The Netherlands.\n",
            "Copyright (c) 2001-2019, The GROMACS development team at\n",
            "Uppsala University, Stockholm University and\n",
            "the Royal Institute of Technology, Sweden.\n",
            "check out http://www.gromacs.org for more information.\n",
            "\n",
            "GROMACS is free software; you can redistribute it and/or modify it\n",
            "under the terms of the GNU Lesser General Public License\n",
            "as published by the Free Software Foundation; either version 2.1\n",
            "of the License, or (at your option) any later version.\n",
            "\n",
            "GROMACS:      gmx trjconv, version 2021.4-Ubuntu-2021.4-2\n",
            "Executable:   /usr/bin/gmx\n",
            "Data prefix:  /usr\n",
            "Working dir:  /content\n",
            "Command line:\n",
            "  gmx trjconv -s md_0_1_01of10.tpr -f md_0_1_01of10cw.gro -o md_0_1_01of10cwmurc.gro -pbc mol -ur compact\n",
            "\n",
            "Note that major changes are planned in future for trjconv, to improve usability and utility.\n",
            "Will write gro: Coordinate file in Gromos-87 format\n",
            "Reading file md_0_1_01of10.tpr, VERSION 2021.4-Ubuntu-2021.4-2 (single precision)\n",
            "Reading file md_0_1_01of10.tpr, VERSION 2021.4-Ubuntu-2021.4-2 (single precision)\n",
            "Select group for output\n",
            "Group     0 (         System) has  3821 elements\n",
            "Group     1 (        Protein) has   582 elements\n",
            "Group     2 (      Protein-H) has   316 elements\n",
            "Group     3 (        C-alpha) has    42 elements\n",
            "Group     4 (       Backbone) has   126 elements\n",
            "Group     5 (      MainChain) has   167 elements\n",
            "Group     6 (   MainChain+Cb) has   204 elements\n",
            "Group     7 (    MainChain+H) has   209 elements\n",
            "Group     8 (      SideChain) has   373 elements\n",
            "Group     9 (    SideChain-H) has   149 elements\n",
            "Group    10 (    Prot-Masses) has   582 elements\n",
            "Group    11 (    non-Protein) has  3239 elements\n",
            "Group    12 (          Water) has  3237 elements\n",
            "Group    13 (            SOL) has  3237 elements\n",
            "Group    14 (      non-Water) has   584 elements\n",
            "Group    15 (            Ion) has     2 elements\n",
            "Group    16 (             NA) has     2 elements\n",
            "Group    17 ( Water_and_ions) has  3239 elements\n",
            "Select a group: Selected 0: 'System'\n",
            "Reading frames from gro file 'HEVEIN ISOFORM 2 in water', 3821 atoms.\n",
            "\rReading frame       0 time    0.000   \n",
            "Precision of md_0_1_01of10cw.gro is 0.001 (nm)\n",
            " ->  frame      0 time    0.000      \r\rLast frame          0 time    0.000   \n",
            "\n",
            "\n",
            "GROMACS reminds you: \"The best way to obtain plausible negative examples is to run a docking program with a biophysics-based function.\" (Julie Bernauer)\n",
            "\n"
          ]
        }
      ]
    },
    {
      "cell_type": "code",
      "source": [
        "!gmx trjconv -s md_0_1_01of10.tpr -f md_0_1_01of10.xtc -o md_0_1_01of10cw.xtc -center -pbc whole <trjconv_cw.txt"
      ],
      "metadata": {
        "colab": {
          "base_uri": "https://localhost:8080/"
        },
        "id": "RHuXlpnGFmBQ",
        "outputId": "765dd607-87df-4d57-a89c-6f6f83b69ee9"
      },
      "execution_count": 122,
      "outputs": [
        {
          "output_type": "stream",
          "name": "stdout",
          "text": [
            "             :-) GROMACS - gmx trjconv, 2021.4-Ubuntu-2021.4-2 (-:\n",
            "\n",
            "                            GROMACS is written by:\n",
            "     Andrey Alekseenko              Emile Apol              Rossen Apostolov     \n",
            "         Paul Bauer           Herman J.C. Berendsen           Par Bjelkmar       \n",
            "       Christian Blau           Viacheslav Bolnykh             Kevin Boyd        \n",
            "     Aldert van Buuren           Rudi van Drunen             Anton Feenstra      \n",
            "    Gilles Gouaillardet             Alan Gray               Gerrit Groenhof      \n",
            "       Anca Hamuraru            Vincent Hindriksen          M. Eric Irrgang      \n",
            "      Aleksei Iupinov           Christoph Junghans             Joe Jordan        \n",
            "    Dimitrios Karkoulis            Peter Kasson                Jiri Kraus        \n",
            "      Carsten Kutzner              Per Larsson              Justin A. Lemkul     \n",
            "       Viveca Lindahl            Magnus Lundborg             Erik Marklund       \n",
            "        Pascal Merz             Pieter Meulenhoff            Teemu Murtola       \n",
            "        Szilard Pall               Sander Pronk              Roland Schulz       \n",
            "       Michael Shirts            Alexey Shvetsov             Alfons Sijbers      \n",
            "       Peter Tieleman              Jon Vincent              Teemu Virolainen     \n",
            "     Christian Wennberg            Maarten Wolf              Artem Zhmurov       \n",
            "                           and the project leaders:\n",
            "        Mark Abraham, Berk Hess, Erik Lindahl, and David van der Spoel\n",
            "\n",
            "Copyright (c) 1991-2000, University of Groningen, The Netherlands.\n",
            "Copyright (c) 2001-2019, The GROMACS development team at\n",
            "Uppsala University, Stockholm University and\n",
            "the Royal Institute of Technology, Sweden.\n",
            "check out http://www.gromacs.org for more information.\n",
            "\n",
            "GROMACS is free software; you can redistribute it and/or modify it\n",
            "under the terms of the GNU Lesser General Public License\n",
            "as published by the Free Software Foundation; either version 2.1\n",
            "of the License, or (at your option) any later version.\n",
            "\n",
            "GROMACS:      gmx trjconv, version 2021.4-Ubuntu-2021.4-2\n",
            "Executable:   /usr/bin/gmx\n",
            "Data prefix:  /usr\n",
            "Working dir:  /content\n",
            "Command line:\n",
            "  gmx trjconv -s md_0_1_01of10.tpr -f md_0_1_01of10.xtc -o md_0_1_01of10cw.xtc -center -pbc whole\n",
            "\n",
            "Note that major changes are planned in future for trjconv, to improve usability and utility.\n",
            "Will write xtc: Compressed trajectory (portable xdr format): xtc\n",
            "Reading file md_0_1_01of10.tpr, VERSION 2021.4-Ubuntu-2021.4-2 (single precision)\n",
            "Reading file md_0_1_01of10.tpr, VERSION 2021.4-Ubuntu-2021.4-2 (single precision)\n",
            "Select group for centering\n",
            "Group     0 (         System) has  3821 elements\n",
            "Group     1 (        Protein) has   582 elements\n",
            "Group     2 (      Protein-H) has   316 elements\n",
            "Group     3 (        C-alpha) has    42 elements\n",
            "Group     4 (       Backbone) has   126 elements\n",
            "Group     5 (      MainChain) has   167 elements\n",
            "Group     6 (   MainChain+Cb) has   204 elements\n",
            "Group     7 (    MainChain+H) has   209 elements\n",
            "Group     8 (      SideChain) has   373 elements\n",
            "Group     9 (    SideChain-H) has   149 elements\n",
            "Group    10 (    Prot-Masses) has   582 elements\n",
            "Group    11 (    non-Protein) has  3239 elements\n",
            "Group    12 (          Water) has  3237 elements\n",
            "Group    13 (            SOL) has  3237 elements\n",
            "Group    14 (      non-Water) has   584 elements\n",
            "Group    15 (            Ion) has     2 elements\n",
            "Group    16 (             NA) has     2 elements\n",
            "Group    17 ( Water_and_ions) has  3239 elements\n",
            "Select a group: Selected 1: 'Protein'\n",
            "Select group for output\n",
            "Group     0 (         System) has  3821 elements\n",
            "Group     1 (        Protein) has   582 elements\n",
            "Group     2 (      Protein-H) has   316 elements\n",
            "Group     3 (        C-alpha) has    42 elements\n",
            "Group     4 (       Backbone) has   126 elements\n",
            "Group     5 (      MainChain) has   167 elements\n",
            "Group     6 (   MainChain+Cb) has   204 elements\n",
            "Group     7 (    MainChain+H) has   209 elements\n",
            "Group     8 (      SideChain) has   373 elements\n",
            "Group     9 (    SideChain-H) has   149 elements\n",
            "Group    10 (    Prot-Masses) has   582 elements\n",
            "Group    11 (    non-Protein) has  3239 elements\n",
            "Group    12 (          Water) has  3237 elements\n",
            "Group    13 (            SOL) has  3237 elements\n",
            "Group    14 (      non-Water) has   584 elements\n",
            "Group    15 (            Ion) has     2 elements\n",
            "Group    16 (             NA) has     2 elements\n",
            "Group    17 ( Water_and_ions) has  3239 elements\n",
            "Select a group: Selected 0: 'System'\n",
            "\rReading frame       0 time    0.000   \n",
            "Precision of md_0_1_01of10.xtc is 0.001 (nm)\n",
            "Using output precision of 0.001 (nm)\n",
            " ->  frame      0 time    0.000      \r\rReading frame       1 time    0.100    ->  frame      1 time    0.100      \r\rReading frame       2 time    0.200    ->  frame      2 time    0.200      \r\rReading frame       3 time    0.300    ->  frame      3 time    0.300      \r\rReading frame       4 time    0.400    ->  frame      4 time    0.400      \r\rReading frame       5 time    0.500    ->  frame      5 time    0.500      \r\rReading frame       6 time    0.600    ->  frame      6 time    0.600      \r\rReading frame       7 time    0.700    ->  frame      7 time    0.700      \r\rReading frame       8 time    0.800    ->  frame      8 time    0.800      \r\rReading frame       9 time    0.900    ->  frame      9 time    0.900      \r\rReading frame      10 time    1.000    ->  frame     10 time    1.000      \r\rReading frame      11 time    1.100   \rReading frame      12 time    1.200   \rReading frame      13 time    1.300   \rReading frame      14 time    1.400   \rReading frame      15 time    1.500   \rReading frame      16 time    1.600   \rReading frame      17 time    1.700   \rReading frame      18 time    1.800   \rReading frame      19 time    1.900   \rReading frame      20 time    2.000    ->  frame     20 time    2.000      \r\rReading frame      30 time    3.000    ->  frame     30 time    3.000      \r\rReading frame      40 time    4.000    ->  frame     40 time    4.000      \r\rReading frame      50 time    5.000    ->  frame     50 time    5.000      \r\rReading frame      60 time    6.000    ->  frame     60 time    6.000      \r\rReading frame      70 time    7.000    ->  frame     70 time    7.000      \r\rReading frame      80 time    8.000    ->  frame     80 time    8.000      \r\rReading frame      90 time    9.000    ->  frame     90 time    9.000      \r\rReading frame     100 time   10.000    ->  frame    100 time   10.000      \r\rLast frame        100 time   10.000   \n",
            "\n",
            "\n",
            "GROMACS reminds you: \"Molecular biology is essentially the practice of biochemistry without a license.\" (Edwin Chargaff)\n",
            "\n"
          ]
        }
      ]
    },
    {
      "cell_type": "code",
      "source": [
        "!gmx trjconv -s md_0_1_01of10.tpr -f md_0_1_01of10cw.xtc -o md_0_1_01of10cwmurc.xtc -pbc mol -ur compact <trjconv_murc.txt"
      ],
      "metadata": {
        "colab": {
          "base_uri": "https://localhost:8080/"
        },
        "id": "b8RHAsphzwGK",
        "outputId": "d0039dd0-7fc3-41f0-eb1c-2be662ba5b8e"
      },
      "execution_count": 123,
      "outputs": [
        {
          "output_type": "stream",
          "name": "stdout",
          "text": [
            "             :-) GROMACS - gmx trjconv, 2021.4-Ubuntu-2021.4-2 (-:\n",
            "\n",
            "                            GROMACS is written by:\n",
            "     Andrey Alekseenko              Emile Apol              Rossen Apostolov     \n",
            "         Paul Bauer           Herman J.C. Berendsen           Par Bjelkmar       \n",
            "       Christian Blau           Viacheslav Bolnykh             Kevin Boyd        \n",
            "     Aldert van Buuren           Rudi van Drunen             Anton Feenstra      \n",
            "    Gilles Gouaillardet             Alan Gray               Gerrit Groenhof      \n",
            "       Anca Hamuraru            Vincent Hindriksen          M. Eric Irrgang      \n",
            "      Aleksei Iupinov           Christoph Junghans             Joe Jordan        \n",
            "    Dimitrios Karkoulis            Peter Kasson                Jiri Kraus        \n",
            "      Carsten Kutzner              Per Larsson              Justin A. Lemkul     \n",
            "       Viveca Lindahl            Magnus Lundborg             Erik Marklund       \n",
            "        Pascal Merz             Pieter Meulenhoff            Teemu Murtola       \n",
            "        Szilard Pall               Sander Pronk              Roland Schulz       \n",
            "       Michael Shirts            Alexey Shvetsov             Alfons Sijbers      \n",
            "       Peter Tieleman              Jon Vincent              Teemu Virolainen     \n",
            "     Christian Wennberg            Maarten Wolf              Artem Zhmurov       \n",
            "                           and the project leaders:\n",
            "        Mark Abraham, Berk Hess, Erik Lindahl, and David van der Spoel\n",
            "\n",
            "Copyright (c) 1991-2000, University of Groningen, The Netherlands.\n",
            "Copyright (c) 2001-2019, The GROMACS development team at\n",
            "Uppsala University, Stockholm University and\n",
            "the Royal Institute of Technology, Sweden.\n",
            "check out http://www.gromacs.org for more information.\n",
            "\n",
            "GROMACS is free software; you can redistribute it and/or modify it\n",
            "under the terms of the GNU Lesser General Public License\n",
            "as published by the Free Software Foundation; either version 2.1\n",
            "of the License, or (at your option) any later version.\n",
            "\n",
            "GROMACS:      gmx trjconv, version 2021.4-Ubuntu-2021.4-2\n",
            "Executable:   /usr/bin/gmx\n",
            "Data prefix:  /usr\n",
            "Working dir:  /content\n",
            "Command line:\n",
            "  gmx trjconv -s md_0_1_01of10.tpr -f md_0_1_01of10cw.xtc -o md_0_1_01of10cwmurc.xtc -pbc mol -ur compact\n",
            "\n",
            "Note that major changes are planned in future for trjconv, to improve usability and utility.\n",
            "Will write xtc: Compressed trajectory (portable xdr format): xtc\n",
            "Reading file md_0_1_01of10.tpr, VERSION 2021.4-Ubuntu-2021.4-2 (single precision)\n",
            "Reading file md_0_1_01of10.tpr, VERSION 2021.4-Ubuntu-2021.4-2 (single precision)\n",
            "Select group for output\n",
            "Group     0 (         System) has  3821 elements\n",
            "Group     1 (        Protein) has   582 elements\n",
            "Group     2 (      Protein-H) has   316 elements\n",
            "Group     3 (        C-alpha) has    42 elements\n",
            "Group     4 (       Backbone) has   126 elements\n",
            "Group     5 (      MainChain) has   167 elements\n",
            "Group     6 (   MainChain+Cb) has   204 elements\n",
            "Group     7 (    MainChain+H) has   209 elements\n",
            "Group     8 (      SideChain) has   373 elements\n",
            "Group     9 (    SideChain-H) has   149 elements\n",
            "Group    10 (    Prot-Masses) has   582 elements\n",
            "Group    11 (    non-Protein) has  3239 elements\n",
            "Group    12 (          Water) has  3237 elements\n",
            "Group    13 (            SOL) has  3237 elements\n",
            "Group    14 (      non-Water) has   584 elements\n",
            "Group    15 (            Ion) has     2 elements\n",
            "Group    16 (             NA) has     2 elements\n",
            "Group    17 ( Water_and_ions) has  3239 elements\n",
            "Select a group: Selected 0: 'System'\n",
            "\rReading frame       0 time    0.000   \n",
            "Precision of md_0_1_01of10cw.xtc is 0.001 (nm)\n",
            "Using output precision of 0.001 (nm)\n",
            "Last frame        100 time   10.000   \n",
            "\n",
            "\n",
            "GROMACS reminds you: \"For those who want some proof that physicists are human, the proof is in the idiocy of all the different units which they use for measuring energy.\" (Richard Feynman)\n",
            "\n"
          ]
        }
      ]
    },
    {
      "cell_type": "markdown",
      "source": [
        "Download md_0_1_01of10w.gro and md_0_0_01of10w.xtc\n",
        "\n",
        "Go to\n",
        "\n",
        "https://molstar.org/viewer/\n",
        "\n",
        "Model: md_0_1_01of10w.gro\n",
        "\n",
        "Coordinates: md_0_1_01of10w.xtc\n",
        "\n",
        "Apply\n",
        "\n"
      ],
      "metadata": {
        "id": "XB4WnCEuLuzC"
      }
    },
    {
      "cell_type": "code",
      "source": [
        "%%writefile prot1.txt\n",
        "1\n"
      ],
      "metadata": {
        "id": "0PgP3srgTMBp",
        "colab": {
          "base_uri": "https://localhost:8080/"
        },
        "outputId": "a6ec4af2-73fb-4bb9-9179-4bb3517d678b"
      },
      "execution_count": null,
      "outputs": [
        {
          "output_type": "stream",
          "name": "stdout",
          "text": [
            "Overwriting prot1.txt\n"
          ]
        }
      ]
    },
    {
      "cell_type": "code",
      "source": [
        "!gmx trjconv -s md_0_1.tpr -f md_0_1.gro -o md_0_1_prot.gro <prot1.txt"
      ],
      "metadata": {
        "id": "8QR0bVueTOeP",
        "colab": {
          "base_uri": "https://localhost:8080/"
        },
        "outputId": "514c16c4-c08f-4377-bf0f-c897a3027759"
      },
      "execution_count": null,
      "outputs": [
        {
          "output_type": "stream",
          "name": "stdout",
          "text": [
            "             :-) GROMACS - gmx trjconv, 2021.4-Ubuntu-2021.4-2 (-:\n",
            "\n",
            "                            GROMACS is written by:\n",
            "     Andrey Alekseenko              Emile Apol              Rossen Apostolov     \n",
            "         Paul Bauer           Herman J.C. Berendsen           Par Bjelkmar       \n",
            "       Christian Blau           Viacheslav Bolnykh             Kevin Boyd        \n",
            "     Aldert van Buuren           Rudi van Drunen             Anton Feenstra      \n",
            "    Gilles Gouaillardet             Alan Gray               Gerrit Groenhof      \n",
            "       Anca Hamuraru            Vincent Hindriksen          M. Eric Irrgang      \n",
            "      Aleksei Iupinov           Christoph Junghans             Joe Jordan        \n",
            "    Dimitrios Karkoulis            Peter Kasson                Jiri Kraus        \n",
            "      Carsten Kutzner              Per Larsson              Justin A. Lemkul     \n",
            "       Viveca Lindahl            Magnus Lundborg             Erik Marklund       \n",
            "        Pascal Merz             Pieter Meulenhoff            Teemu Murtola       \n",
            "        Szilard Pall               Sander Pronk              Roland Schulz       \n",
            "       Michael Shirts            Alexey Shvetsov             Alfons Sijbers      \n",
            "       Peter Tieleman              Jon Vincent              Teemu Virolainen     \n",
            "     Christian Wennberg            Maarten Wolf              Artem Zhmurov       \n",
            "                           and the project leaders:\n",
            "        Mark Abraham, Berk Hess, Erik Lindahl, and David van der Spoel\n",
            "\n",
            "Copyright (c) 1991-2000, University of Groningen, The Netherlands.\n",
            "Copyright (c) 2001-2019, The GROMACS development team at\n",
            "Uppsala University, Stockholm University and\n",
            "the Royal Institute of Technology, Sweden.\n",
            "check out http://www.gromacs.org for more information.\n",
            "\n",
            "GROMACS is free software; you can redistribute it and/or modify it\n",
            "under the terms of the GNU Lesser General Public License\n",
            "as published by the Free Software Foundation; either version 2.1\n",
            "of the License, or (at your option) any later version.\n",
            "\n",
            "GROMACS:      gmx trjconv, version 2021.4-Ubuntu-2021.4-2\n",
            "Executable:   /usr/bin/gmx\n",
            "Data prefix:  /usr\n",
            "Working dir:  /content\n",
            "Command line:\n",
            "  gmx trjconv -s md_0_1.tpr -f md_0_1.gro -o md_0_1_prot.gro\n",
            "\n",
            "\n",
            "-------------------------------------------------------\n",
            "Program:     gmx trjconv, version 2021.4-Ubuntu-2021.4-2\n",
            "Source file: src/gromacs/commandline/cmdlineparser.cpp (line 275)\n",
            "Function:    void gmx::CommandLineParser::parse(int*, char**)\n",
            "\n",
            "Error in user input:\n",
            "Invalid command-line options\n",
            "  In command-line option -s\n",
            "    File 'md_0_1.tpr' does not exist or is not accessible.\n",
            "    The file could not be opened.\n",
            "      Reason: No such file or directory\n",
            "      (call to fopen() returned error code 2)\n",
            "  In command-line option -f\n",
            "    File 'md_0_1.gro' does not exist or is not accessible.\n",
            "    The file could not be opened.\n",
            "      Reason: No such file or directory\n",
            "      (call to fopen() returned error code 2)\n",
            "\n",
            "For more information and tips for troubleshooting, please check the GROMACS\n",
            "website at http://www.gromacs.org/Documentation/Errors\n",
            "-------------------------------------------------------\n"
          ]
        }
      ]
    },
    {
      "cell_type": "code",
      "source": [
        "!gmx trjconv -s md_0_1.tpr -f md_0_1.xtc -o md_0_1_prot.xtc <prot1.txt"
      ],
      "metadata": {
        "id": "F9rHudRXTmIS",
        "colab": {
          "base_uri": "https://localhost:8080/"
        },
        "outputId": "8eadc6a9-0ba3-46b6-e1cf-1b38b5a3d46b"
      },
      "execution_count": null,
      "outputs": [
        {
          "output_type": "stream",
          "name": "stdout",
          "text": [
            "             :-) GROMACS - gmx trjconv, 2021.4-Ubuntu-2021.4-2 (-:\n",
            "\n",
            "                            GROMACS is written by:\n",
            "     Andrey Alekseenko              Emile Apol              Rossen Apostolov     \n",
            "         Paul Bauer           Herman J.C. Berendsen           Par Bjelkmar       \n",
            "       Christian Blau           Viacheslav Bolnykh             Kevin Boyd        \n",
            "     Aldert van Buuren           Rudi van Drunen             Anton Feenstra      \n",
            "    Gilles Gouaillardet             Alan Gray               Gerrit Groenhof      \n",
            "       Anca Hamuraru            Vincent Hindriksen          M. Eric Irrgang      \n",
            "      Aleksei Iupinov           Christoph Junghans             Joe Jordan        \n",
            "    Dimitrios Karkoulis            Peter Kasson                Jiri Kraus        \n",
            "      Carsten Kutzner              Per Larsson              Justin A. Lemkul     \n",
            "       Viveca Lindahl            Magnus Lundborg             Erik Marklund       \n",
            "        Pascal Merz             Pieter Meulenhoff            Teemu Murtola       \n",
            "        Szilard Pall               Sander Pronk              Roland Schulz       \n",
            "       Michael Shirts            Alexey Shvetsov             Alfons Sijbers      \n",
            "       Peter Tieleman              Jon Vincent              Teemu Virolainen     \n",
            "     Christian Wennberg            Maarten Wolf              Artem Zhmurov       \n",
            "                           and the project leaders:\n",
            "        Mark Abraham, Berk Hess, Erik Lindahl, and David van der Spoel\n",
            "\n",
            "Copyright (c) 1991-2000, University of Groningen, The Netherlands.\n",
            "Copyright (c) 2001-2019, The GROMACS development team at\n",
            "Uppsala University, Stockholm University and\n",
            "the Royal Institute of Technology, Sweden.\n",
            "check out http://www.gromacs.org for more information.\n",
            "\n",
            "GROMACS is free software; you can redistribute it and/or modify it\n",
            "under the terms of the GNU Lesser General Public License\n",
            "as published by the Free Software Foundation; either version 2.1\n",
            "of the License, or (at your option) any later version.\n",
            "\n",
            "GROMACS:      gmx trjconv, version 2021.4-Ubuntu-2021.4-2\n",
            "Executable:   /usr/bin/gmx\n",
            "Data prefix:  /usr\n",
            "Working dir:  /content\n",
            "Command line:\n",
            "  gmx trjconv -s md_0_1.tpr -f md_0_1.xtc -o md_0_1_prot.xtc\n",
            "\n",
            "\n",
            "-------------------------------------------------------\n",
            "Program:     gmx trjconv, version 2021.4-Ubuntu-2021.4-2\n",
            "Source file: src/gromacs/commandline/cmdlineparser.cpp (line 275)\n",
            "Function:    void gmx::CommandLineParser::parse(int*, char**)\n",
            "\n",
            "Error in user input:\n",
            "Invalid command-line options\n",
            "  In command-line option -s\n",
            "    File 'md_0_1.tpr' does not exist or is not accessible.\n",
            "    The file could not be opened.\n",
            "      Reason: No such file or directory\n",
            "      (call to fopen() returned error code 2)\n",
            "  In command-line option -f\n",
            "    File 'md_0_1.xtc' does not exist or is not accessible.\n",
            "    The file could not be opened.\n",
            "      Reason: No such file or directory\n",
            "      (call to fopen() returned error code 2)\n",
            "\n",
            "For more information and tips for troubleshooting, please check the GROMACS\n",
            "website at http://www.gromacs.org/Documentation/Errors\n",
            "-------------------------------------------------------\n"
          ]
        }
      ]
    },
    {
      "cell_type": "code",
      "source": [
        "#!cp md_0_1_10of10_prot.gro drive/MyDrive/GromacsExample/"
      ],
      "metadata": {
        "id": "ZK2DJvf_dbGQ"
      },
      "execution_count": null,
      "outputs": []
    },
    {
      "cell_type": "code",
      "source": [
        "# traj = mdtraj.load_xtc('md_0_1_prot.xtc', top='md_0_1_prot.gro')\n",
        "\n",
        "# view = nglview.show_mdtraj(traj)\n",
        "# #view.clear_representations()\n",
        "# #view.add_representation('ball+stick')\n",
        "# view"
      ],
      "metadata": {
        "id": "nFCcoEGp6bBl"
      },
      "execution_count": null,
      "outputs": []
    },
    {
      "cell_type": "code",
      "source": [
        "# !cp md_0_1_01* drive/MyDrive/GromacsExample/\n",
        "#!cp drive/MyDrive/GromacsExample/* ."
      ],
      "metadata": {
        "id": "Dd_DnhO-3wdD"
      },
      "execution_count": null,
      "outputs": []
    },
    {
      "cell_type": "code",
      "source": [
        "#!cp md.mdp.10.txt drive/MyDrive/GromacsExample/"
      ],
      "metadata": {
        "id": "w-2VYFhVTMUO"
      },
      "execution_count": null,
      "outputs": []
    },
    {
      "cell_type": "code",
      "source": [
        "%%writefile rmsd.txt\n",
        "3 3\n"
      ],
      "metadata": {
        "id": "r_CtIVESGi1x"
      },
      "execution_count": null,
      "outputs": []
    },
    {
      "cell_type": "code",
      "source": [
        "!gmx rms -s md_0_1_01of10.tpr -f md_0_1_01of10.xtc -o md_0_1_01of10_rmsd.xvg <rmsd.txt"
      ],
      "metadata": {
        "colab": {
          "base_uri": "https://localhost:8080/"
        },
        "id": "RwsAhmgyTB_5",
        "outputId": "6586bd61-1135-42f4-815b-aa30ac66eadc"
      },
      "execution_count": null,
      "outputs": [
        {
          "output_type": "stream",
          "name": "stdout",
          "text": [
            "               :-) GROMACS - gmx rms, 2021.4-Ubuntu-2021.4-2 (-:\n",
            "\n",
            "                            GROMACS is written by:\n",
            "     Andrey Alekseenko              Emile Apol              Rossen Apostolov     \n",
            "         Paul Bauer           Herman J.C. Berendsen           Par Bjelkmar       \n",
            "       Christian Blau           Viacheslav Bolnykh             Kevin Boyd        \n",
            "     Aldert van Buuren           Rudi van Drunen             Anton Feenstra      \n",
            "    Gilles Gouaillardet             Alan Gray               Gerrit Groenhof      \n",
            "       Anca Hamuraru            Vincent Hindriksen          M. Eric Irrgang      \n",
            "      Aleksei Iupinov           Christoph Junghans             Joe Jordan        \n",
            "    Dimitrios Karkoulis            Peter Kasson                Jiri Kraus        \n",
            "      Carsten Kutzner              Per Larsson              Justin A. Lemkul     \n",
            "       Viveca Lindahl            Magnus Lundborg             Erik Marklund       \n",
            "        Pascal Merz             Pieter Meulenhoff            Teemu Murtola       \n",
            "        Szilard Pall               Sander Pronk              Roland Schulz       \n",
            "       Michael Shirts            Alexey Shvetsov             Alfons Sijbers      \n",
            "       Peter Tieleman              Jon Vincent              Teemu Virolainen     \n",
            "     Christian Wennberg            Maarten Wolf              Artem Zhmurov       \n",
            "                           and the project leaders:\n",
            "        Mark Abraham, Berk Hess, Erik Lindahl, and David van der Spoel\n",
            "\n",
            "Copyright (c) 1991-2000, University of Groningen, The Netherlands.\n",
            "Copyright (c) 2001-2019, The GROMACS development team at\n",
            "Uppsala University, Stockholm University and\n",
            "the Royal Institute of Technology, Sweden.\n",
            "check out http://www.gromacs.org for more information.\n",
            "\n",
            "GROMACS is free software; you can redistribute it and/or modify it\n",
            "under the terms of the GNU Lesser General Public License\n",
            "as published by the Free Software Foundation; either version 2.1\n",
            "of the License, or (at your option) any later version.\n",
            "\n",
            "GROMACS:      gmx rms, version 2021.4-Ubuntu-2021.4-2\n",
            "Executable:   /usr/bin/gmx\n",
            "Data prefix:  /usr\n",
            "Working dir:  /content\n",
            "Command line:\n",
            "  gmx rms -s md_0_1_01of10.tpr -f md_0_1_01of10.xtc -o md_0_1_01of10_rmsd.xvg\n",
            "\n",
            "Reading file md_0_1_01of10.tpr, VERSION 2021.4-Ubuntu-2021.4-2 (single precision)\n",
            "Reading file md_0_1_01of10.tpr, VERSION 2021.4-Ubuntu-2021.4-2 (single precision)\n",
            "Select group for least squares fit\n",
            "Group     0 (         System) has  3509 elements\n",
            "Group     1 (        Protein) has   582 elements\n",
            "Group     2 (      Protein-H) has   316 elements\n",
            "Group     3 (        C-alpha) has    42 elements\n",
            "Group     4 (       Backbone) has   126 elements\n",
            "Group     5 (      MainChain) has   167 elements\n",
            "Group     6 (   MainChain+Cb) has   204 elements\n",
            "Group     7 (    MainChain+H) has   209 elements\n",
            "Group     8 (      SideChain) has   373 elements\n",
            "Group     9 (    SideChain-H) has   149 elements\n",
            "Group    10 (    Prot-Masses) has   582 elements\n",
            "Group    11 (    non-Protein) has  2927 elements\n",
            "Group    12 (          Water) has  2925 elements\n",
            "Group    13 (            SOL) has  2925 elements\n",
            "Group    14 (      non-Water) has   584 elements\n",
            "Group    15 (            Ion) has     2 elements\n",
            "Group    16 (             NA) has     2 elements\n",
            "Group    17 ( Water_and_ions) has  2927 elements\n",
            "Select a group: 3\n",
            "Selected 3: 'C-alpha'\n",
            "Select group for RMSD calculation\n",
            "Group     0 (         System) has  3509 elements\n",
            "Group     1 (        Protein) has   582 elements\n",
            "Group     2 (      Protein-H) has   316 elements\n",
            "Group     3 (        C-alpha) has    42 elements\n",
            "Group     4 (       Backbone) has   126 elements\n",
            "Group     5 (      MainChain) has   167 elements\n",
            "Group     6 (   MainChain+Cb) has   204 elements\n",
            "Group     7 (    MainChain+H) has   209 elements\n",
            "Group     8 (      SideChain) has   373 elements\n",
            "Group     9 (    SideChain-H) has   149 elements\n",
            "Group    10 (    Prot-Masses) has   582 elements\n",
            "Group    11 (    non-Protein) has  2927 elements\n",
            "Group    12 (          Water) has  2925 elements\n",
            "Group    13 (            SOL) has  2925 elements\n",
            "Group    14 (      non-Water) has   584 elements\n",
            "Group    15 (            Ion) has     2 elements\n",
            "Group    16 (             NA) has     2 elements\n",
            "Group    17 ( Water_and_ions) has  2927 elements\n",
            "Select a group: 3\n",
            "Selected 3: 'C-alpha'\n",
            "Last frame        100 time  100.000   \n",
            "\n",
            "GROMACS reminds you: \"Oh, There Goes Gravity\" (Eminem)\n",
            "\n"
          ]
        }
      ]
    },
    {
      "cell_type": "code",
      "source": [
        "!grace -hardcopy -hdevice SVG -nxy md_0_1_01of10_rmsd.xvg -printfile md_0_1_01of10_rmsd.svg"
      ],
      "metadata": {
        "id": "9DqkNvzqTmBp"
      },
      "execution_count": null,
      "outputs": []
    },
    {
      "cell_type": "code",
      "source": [
        "from IPython.display import SVG, display\n",
        "display(SVG(\"md_0_1_01of10_rmsd.svg\"))"
      ],
      "metadata": {
        "colab": {
          "base_uri": "https://localhost:8080/",
          "height": 858
        },
        "id": "ZqF_RhX_TtDn",
        "outputId": "ec92ad88-99ad-4ffc-e749-a76976a7485d"
      },
      "execution_count": null,
      "outputs": [
        {
          "output_type": "display_data",
          "data": {
            "text/plain": [
              "<IPython.core.display.SVG object>"
            ],
            "image/svg+xml": "<svg xml:space=\"preserve\" width=\"11.0000in\" height=\"8.5000in\" viewBox=\"0.0000 0.0000 792.0000 612.0000\">\n <g transform=\"translate(0,612.0000) scale(1,-1)\">\n  <g style=\"fill:#FFFFFF; fill-rule:nonzero\">\n   <path d=\"M0.0000,0.0000L0.0000,612.0000L792.0000,612.0000L792.0000,0.0000z\"/>\n  </g>\n  <g style=\"fill:none; stroke:#000000; stroke-width:  0.9180; stroke-linecap:butt; stroke-linejoin:miter; stroke-dasharray:none\">\n   <path d=\"M91.8000,94.4545L97.9200,279.0981L104.0400,312.0554L110.1600,323.8129L116.2800,329.3874L122.4000,315.7054L128.5200,359.5404L134.6400,352.1167L140.7600,392.9625L146.8800,384.1353             L153.0000,393.1607L159.1200,332.1453L165.2400,346.9545L171.3600,374.5451L177.4800,343.1787L183.6000,361.8703L189.7200,353.3441L195.8400,370.9728L201.9600,411.9969L208.0800,431.7606             L214.2000,427.2335L220.3200,403.3212L226.4400,435.3093L232.5600,428.9572L238.6800,386.6442L244.8000,383.6593L250.9200,391.1557L257.0400,400.1463L263.1600,437.7405L269.2800,412.8414             L275.4000,435.9450L281.5200,396.4315L287.6400,367.2741L293.7600,385.2765L299.8800,424.4633L306.0000,379.5408L312.1200,409.9325L318.2400,439.2972L324.3600,423.2381L330.4800,451.0236             L336.6000,461.7368L342.7200,428.1813L348.8400,384.6799L354.9600,439.4263L361.0800,430.3147L367.2000,384.4904L373.3200,489.9416L379.4400,466.8733L385.5600,457.3650L391.6800,463.8483             L397.8000,498.2793L403.9200,481.9043L410.0400,507.1231L416.1600,491.0158L422.2800,424.7048L428.4000,444.6608L434.5200,434.7835L440.6400,447.1482L446.7600,412.2030L452.8800,446.4643             L459.0000,392.9989L465.1200,405.7695L471.2400,399.1850L477.3600,439.5917L483.4800,431.6171L489.6000,379.3110L495.7200,349.1244L501.8400,390.6224L507.9600,421.9652L514.0800,454.2103             L520.2000,506.8553L526.3200,474.8908L532.4400,456.4798L538.5600,472.2529L544.6800,465.4376L550.8000,449.9970L556.9200,439.6608L563.0400,431.9143L569.1600,394.4501L575.2800,392.2246             L581.4000,381.6924L587.5200,422.1173L593.6400,402.8580L599.7600,416.3585L605.8800,384.5975L612.0000,438.5132L618.1200,419.3959L624.2400,361.0007L630.3600,382.5615L636.4800,413.3265             L642.6000,422.0225L648.7200,410.6710L654.8400,399.1411L660.9600,396.1680L667.0800,407.9244L673.2000,404.4206L679.3200,391.9338L685.4400,402.2267L691.5600,397.2744L697.6800,396.5547             L703.8000,351.4120\"/>\n   <path d=\"M91.8000,91.8000L703.8000,91.8000\"/>\n   <path d=\"M91.8000,520.2000L703.8000,520.2000\"/>\n   <path d=\"M153.0000,91.8000L153.0000,97.9200\"/>\n   <path d=\"M153.0000,520.2000L153.0000,514.0800\"/>\n   <path d=\"M275.4000,91.8000L275.4000,97.9200\"/>\n   <path d=\"M275.4000,520.2000L275.4000,514.0800\"/>\n   <path d=\"M397.8000,91.8000L397.8000,97.9200\"/>\n   <path d=\"M397.8000,520.2000L397.8000,514.0800\"/>\n   <path d=\"M520.2000,91.8000L520.2000,97.9200\"/>\n   <path d=\"M520.2000,520.2000L520.2000,514.0800\"/>\n   <path d=\"M642.6000,91.8000L642.6000,97.9200\"/>\n   <path d=\"M642.6000,520.2000L642.6000,514.0800\"/>\n   <path d=\"M91.8000,91.8000L91.8000,104.0400\"/>\n   <path d=\"M91.8000,520.2000L91.8000,507.9600\"/>\n   <path d=\"M214.2000,91.8000L214.2000,104.0400\"/>\n   <path d=\"M214.2000,520.2000L214.2000,507.9600\"/>\n   <path d=\"M336.6000,91.8000L336.6000,104.0400\"/>\n   <path d=\"M336.6000,520.2000L336.6000,507.9600\"/>\n   <path d=\"M459.0000,91.8000L459.0000,104.0400\"/>\n   <path d=\"M459.0000,520.2000L459.0000,507.9600\"/>\n   <path d=\"M581.4000,91.8000L581.4000,104.0400\"/>\n   <path d=\"M581.4000,520.2000L581.4000,507.9600\"/>\n   <path d=\"M703.8000,91.8000L703.8000,104.0400\"/>\n   <path d=\"M703.8000,520.2000L703.8000,507.9600\"/>\n  </g>\n  <g style=\"fill:#000000; fill-rule:nonzero\">\n   <text style=\"font-family:'Times','Nimbus Roman No9 L'; font-style:normal; font-weight:normal; font-size:612.0000\" transform=\"matrix(0.0280,0.0000,-0.0000,-0.0280,87.8000,74.6800)\">0</text>\n   <text style=\"font-family:'Times','Nimbus Roman No9 L'; font-style:normal; font-weight:normal; font-size:612.0000\" transform=\"matrix(0.0280,0.0000,-0.0000,-0.0280,205.7000,74.6800)\">20</text>\n   <text style=\"font-family:'Times','Nimbus Roman No9 L'; font-style:normal; font-weight:normal; font-size:612.0000\" transform=\"matrix(0.0280,0.0000,-0.0000,-0.0280,328.1000,74.6800)\">40</text>\n   <text style=\"font-family:'Times','Nimbus Roman No9 L'; font-style:normal; font-weight:normal; font-size:612.0000\" transform=\"matrix(0.0280,0.0000,-0.0000,-0.0280,450.5000,73.6800)\">60</text>\n   <text style=\"font-family:'Times','Nimbus Roman No9 L'; font-style:normal; font-weight:normal; font-size:612.0000\" transform=\"matrix(0.0280,0.0000,-0.0000,-0.0280,572.9000,74.6800)\">80</text>\n   <text style=\"font-family:'Times','Nimbus Roman No9 L'; font-style:normal; font-weight:normal; font-size:612.0000\" transform=\"matrix(0.0280,0.0000,-0.0000,-0.0280,691.3000,73.6800)\">100</text>\n   <text style=\"font-family:'Times','Nimbus Roman No9 L'; font-style:normal; font-weight:normal; font-size:612.0000\" transform=\"matrix(0.0280,0.0000,-0.0000,-0.0280,364.8000,55.5600)\">Time (ps)</text>\n  </g>\n  <g style=\"fill:none; stroke:#000000; stroke-width:  0.9180; stroke-linecap:butt; stroke-linejoin:miter; stroke-dasharray:none\">\n   <path d=\"M91.8000,91.8000L91.8000,520.2000\"/>\n   <path d=\"M703.8000,91.8000L703.8000,520.2000\"/>\n   <path d=\"M91.8000,145.3500L97.9200,145.3500\"/>\n   <path d=\"M703.8000,145.3500L697.6800,145.3500\"/>\n   <path d=\"M91.8000,252.4500L97.9200,252.4500\"/>\n   <path d=\"M703.8000,252.4500L697.6800,252.4500\"/>\n   <path d=\"M91.8000,359.5500L97.9200,359.5500\"/>\n   <path d=\"M703.8000,359.5500L697.6800,359.5500\"/>\n   <path d=\"M91.8000,466.6500L97.9200,466.6500\"/>\n   <path d=\"M703.8000,466.6500L697.6800,466.6500\"/>\n   <path d=\"M91.8000,91.8000L104.0400,91.8000\"/>\n   <path d=\"M703.8000,91.8000L691.5600,91.8000\"/>\n   <path d=\"M91.8000,198.9000L104.0400,198.9000\"/>\n   <path d=\"M703.8000,198.9000L691.5600,198.9000\"/>\n   <path d=\"M91.8000,306.0000L104.0400,306.0000\"/>\n   <path d=\"M703.8000,306.0000L691.5600,306.0000\"/>\n   <path d=\"M91.8000,413.1000L104.0400,413.1000\"/>\n   <path d=\"M703.8000,413.1000L691.5600,413.1000\"/>\n   <path d=\"M91.8000,520.2000L104.0400,520.2000\"/>\n   <path d=\"M703.8000,520.2000L691.5600,520.2000\"/>\n  </g>\n  <g style=\"fill:#000000; fill-rule:nonzero\">\n   <text style=\"font-family:'Times','Nimbus Roman No9 L'; font-style:normal; font-weight:normal; font-size:612.0000\" transform=\"matrix(0.0280,0.0000,-0.0000,-0.0280,77.6800,86.3000)\">0</text>\n   <text style=\"font-family:'Times','Nimbus Roman No9 L'; font-style:normal; font-weight:normal; font-size:612.0000\" transform=\"matrix(0.0280,0.0000,-0.0000,-0.0280,56.6800,193.4000)\">0.02</text>\n   <text style=\"font-family:'Times','Nimbus Roman No9 L'; font-style:normal; font-weight:normal; font-size:612.0000\" transform=\"matrix(0.0280,0.0000,-0.0000,-0.0280,56.6800,300.5000)\">0.04</text>\n   <text style=\"font-family:'Times','Nimbus Roman No9 L'; font-style:normal; font-weight:normal; font-size:612.0000\" transform=\"matrix(0.0280,0.0000,-0.0000,-0.0280,56.6800,407.1000)\">0.06</text>\n   <text style=\"font-family:'Times','Nimbus Roman No9 L'; font-style:normal; font-weight:normal; font-size:612.0000\" transform=\"matrix(0.0280,0.0000,-0.0000,-0.0280,56.6800,514.7000)\">0.08</text>\n   <text style=\"font-family:'Times','Nimbus Roman No9 L'; font-style:normal; font-weight:normal; font-size:612.0000\" transform=\"matrix(0.0000,0.0280,0.0280,-0.0000,47.5600,263.5000)\">RMSD (nm)</text>\n  </g>\n  <g style=\"fill:none; stroke:#000000; stroke-width:  0.9180; stroke-linecap:butt; stroke-linejoin:miter; stroke-dasharray:none\">\n   <path d=\"M91.8000,91.8000L91.8000,520.2000L703.8000,520.2000L703.8000,91.8000z\"/>\n  </g>\n  <g style=\"fill:#000000; fill-rule:nonzero\">\n   <text style=\"font-family:'Times','Nimbus Roman No9 L'; font-style:normal; font-weight:normal; font-size:612.0000\" transform=\"matrix(0.0420,0.0000,-0.0000,-0.0420,361.8000,556.9200)\">RMSD</text>\n   <text style=\"font-family:'Times','Nimbus Roman No9 L'; font-style:normal; font-weight:normal; font-size:612.0000\" transform=\"matrix(0.0280,0.0000,-0.0000,-0.0280,292.8000,536.4400)\">C-alpha after lsq fit to C-alpha</text>\n  </g>\n </g>\n</svg>"
          },
          "metadata": {}
        }
      ]
    },
    {
      "cell_type": "code",
      "source": [
        "%%writefile gyrate.txt\n",
        "2"
      ],
      "metadata": {
        "id": "mLJA8WY1HJR4"
      },
      "execution_count": null,
      "outputs": []
    },
    {
      "cell_type": "code",
      "source": [
        "!gmx gyrate -s md_0_1_01of10.tpr -f md_0_1_01of10.xt2c -o md_0_1_01of10_gyrate.xvg <gyrate.txt"
      ],
      "metadata": {
        "colab": {
          "base_uri": "https://localhost:8080/"
        },
        "id": "5RMHxCzoUfp0",
        "outputId": "550898b6-f4b7-4f8f-a863-c233b435315c"
      },
      "execution_count": null,
      "outputs": [
        {
          "output_type": "stream",
          "name": "stdout",
          "text": [
            "              :-) GROMACS - gmx gyrate, 2021.4-Ubuntu-2021.4-2 (-:\n",
            "\n",
            "                            GROMACS is written by:\n",
            "     Andrey Alekseenko              Emile Apol              Rossen Apostolov     \n",
            "         Paul Bauer           Herman J.C. Berendsen           Par Bjelkmar       \n",
            "       Christian Blau           Viacheslav Bolnykh             Kevin Boyd        \n",
            "     Aldert van Buuren           Rudi van Drunen             Anton Feenstra      \n",
            "    Gilles Gouaillardet             Alan Gray               Gerrit Groenhof      \n",
            "       Anca Hamuraru            Vincent Hindriksen          M. Eric Irrgang      \n",
            "      Aleksei Iupinov           Christoph Junghans             Joe Jordan        \n",
            "    Dimitrios Karkoulis            Peter Kasson                Jiri Kraus        \n",
            "      Carsten Kutzner              Per Larsson              Justin A. Lemkul     \n",
            "       Viveca Lindahl            Magnus Lundborg             Erik Marklund       \n",
            "        Pascal Merz             Pieter Meulenhoff            Teemu Murtola       \n",
            "        Szilard Pall               Sander Pronk              Roland Schulz       \n",
            "       Michael Shirts            Alexey Shvetsov             Alfons Sijbers      \n",
            "       Peter Tieleman              Jon Vincent              Teemu Virolainen     \n",
            "     Christian Wennberg            Maarten Wolf              Artem Zhmurov       \n",
            "                           and the project leaders:\n",
            "        Mark Abraham, Berk Hess, Erik Lindahl, and David van der Spoel\n",
            "\n",
            "Copyright (c) 1991-2000, University of Groningen, The Netherlands.\n",
            "Copyright (c) 2001-2019, The GROMACS development team at\n",
            "Uppsala University, Stockholm University and\n",
            "the Royal Institute of Technology, Sweden.\n",
            "check out http://www.gromacs.org for more information.\n",
            "\n",
            "GROMACS is free software; you can redistribute it and/or modify it\n",
            "under the terms of the GNU Lesser General Public License\n",
            "as published by the Free Software Foundation; either version 2.1\n",
            "of the License, or (at your option) any later version.\n",
            "\n",
            "GROMACS:      gmx gyrate, version 2021.4-Ubuntu-2021.4-2\n",
            "Executable:   /usr/bin/gmx\n",
            "Data prefix:  /usr\n",
            "Working dir:  /content\n",
            "Command line:\n",
            "  gmx gyrate -s md_0_1_01of10.tpr -f md_0_1_01of10.xtc -o md_0_1_01of10_gyrate.xvg\n",
            "\n",
            "Reading file md_0_1_01of10.tpr, VERSION 2021.4-Ubuntu-2021.4-2 (single precision)\n",
            "Reading file md_0_1_01of10.tpr, VERSION 2021.4-Ubuntu-2021.4-2 (single precision)\n",
            "Group     0 (         System) has  3509 elements\n",
            "Group     1 (        Protein) has   582 elements\n",
            "Group     2 (      Protein-H) has   316 elements\n",
            "Group     3 (        C-alpha) has    42 elements\n",
            "Group     4 (       Backbone) has   126 elements\n",
            "Group     5 (      MainChain) has   167 elements\n",
            "Group     6 (   MainChain+Cb) has   204 elements\n",
            "Group     7 (    MainChain+H) has   209 elements\n",
            "Group     8 (      SideChain) has   373 elements\n",
            "Group     9 (    SideChain-H) has   149 elements\n",
            "Group    10 (    Prot-Masses) has   582 elements\n",
            "Group    11 (    non-Protein) has  2927 elements\n",
            "Group    12 (          Water) has  2925 elements\n",
            "Group    13 (            SOL) has  2925 elements\n",
            "Group    14 (      non-Water) has   584 elements\n",
            "Group    15 (            Ion) has     2 elements\n",
            "Group    16 (             NA) has     2 elements\n",
            "Group    17 ( Water_and_ions) has  2927 elements\n",
            "Select a group: 2\n",
            "Selected 2: 'Protein-H'\n",
            "Last frame        100 time  100.000   \n",
            "\n",
            "GROMACS reminds you: \"Give someone a program, you frustrate them for a day; teach them how to program, you frustrate them for a lifetime.\" (David Leinweber)\n",
            "\n"
          ]
        }
      ]
    },
    {
      "cell_type": "code",
      "source": [
        "!grace -hardcopy -hdevice SVG -nxy md_0_1_01of10_gyrate.xvg -printfile md_0_1_01of10_gyrate.svg"
      ],
      "metadata": {
        "id": "Z7hkHj4JUjq6"
      },
      "execution_count": null,
      "outputs": []
    },
    {
      "cell_type": "code",
      "source": [
        "from IPython.display import SVG, display\n",
        "display(SVG(\"md_0_1_01of10_gyrate.svg\"))"
      ],
      "metadata": {
        "colab": {
          "base_uri": "https://localhost:8080/",
          "height": 858
        },
        "id": "BXl7LbXAUmmO",
        "outputId": "25b3ce81-6bcc-468c-a11a-2c48fe67645e"
      },
      "execution_count": null,
      "outputs": [
        {
          "output_type": "display_data",
          "data": {
            "text/plain": [
              "<IPython.core.display.SVG object>"
            ],
            "image/svg+xml": "<svg xml:space=\"preserve\" width=\"11.0000in\" height=\"8.5000in\" viewBox=\"0.0000 0.0000 792.0000 612.0000\">\n <g transform=\"translate(0,612.0000) scale(1,-1)\">\n  <g style=\"fill:#FFFFFF; fill-rule:nonzero\">\n   <path d=\"M0.0000,0.0000L0.0000,612.0000L792.0000,612.0000L792.0000,0.0000z\"/>\n  </g>\n  <g style=\"fill:none; stroke:#000000; stroke-width:  0.9180; stroke-linecap:butt; stroke-linejoin:miter; stroke-dasharray:none\">\n   <path d=\"M91.8000,416.3451L95.4720,422.2624L99.1440,417.9024L102.8160,415.5451L106.4880,421.4752L110.1600,424.9570L113.8320,426.7081L117.5040,417.2855L121.1760,422.7358L124.8480,424.2984             L128.5200,422.1799L132.1920,422.8397L135.8640,423.0025L139.5360,422.8932L143.2080,420.6827L146.8800,421.2739L150.5520,421.0318L154.2240,410.9794L157.8960,424.6293L161.5680,412.9169             L165.2400,422.2645L168.9120,419.4082L172.5840,425.9649L176.2560,424.4130L179.9280,422.6908L183.6000,421.7719L187.2720,421.8533L190.9440,424.6743L194.6160,420.6934L198.2880,419.3568             L201.9600,420.0615L205.6320,422.5623L209.3040,417.7128L212.9760,420.1086L216.6480,416.3762L220.3200,414.1614L223.9920,415.0021L227.6640,412.7616L231.3360,408.7957L235.0080,412.7177             L238.6800,411.5181L242.3520,412.2175L246.0240,416.1995L249.6960,415.9221L253.3680,414.3670L257.0400,414.5951L260.7120,411.0223L264.3840,410.1612L268.0560,417.7182L271.7280,415.3844             L275.4000,410.8327L279.0720,420.2361L282.7440,411.4185L286.4160,426.0355L290.0880,421.2707L293.7600,418.1690L297.4320,426.9427L301.1040,425.9059L304.7760,416.9235L308.4480,416.5379             L312.1200,422.3513L315.7920,415.3491L319.4640,413.1300L323.1360,419.1394L326.8080,420.8144L330.4800,418.1583L334.1520,410.9548L337.8240,412.1040L341.4960,410.9119L345.1680,416.6718             L348.8400,420.5574L352.5120,420.4706L356.1840,413.6516L359.8560,417.2448L363.5280,416.3526L367.2000,416.0592L370.8720,417.8595L374.5440,423.7372L378.2160,419.1383L381.8880,423.2188             L385.5600,419.5528L389.2320,417.3251L392.9040,421.5716L396.5760,412.8365L400.2480,412.2389L403.9200,418.8759L407.5920,409.3483L411.2640,411.6370L414.9360,415.7925L418.6080,418.3372             L422.2800,414.9336L425.9520,421.3574L429.6240,416.3398L433.2960,416.6889L436.9680,416.7435L440.6400,417.3283L444.3120,412.2839L447.9840,420.9729L451.6560,418.9123L455.3280,415.6222             L459.0000,417.7396\"/>\n  </g>\n  <g style=\"fill:none; stroke:#FF0000; stroke-width:  0.9180; stroke-linecap:butt; stroke-linejoin:miter; stroke-dasharray:none\">\n   <path d=\"M91.8000,141.1474L95.4720,149.6329L99.1440,154.2468L102.8160,147.9075L106.4880,146.9104L110.1600,151.1045L113.8320,145.4978L117.5040,136.9309L121.1760,139.6127L124.8480,141.2695             L128.5200,142.6950L132.1920,139.4017L135.8640,146.9436L139.5360,147.9900L143.2080,142.3619L146.8800,143.7564L150.5520,139.7005L154.2240,139.1082L157.8960,143.3333L161.5680,145.6488             L165.2400,142.6050L168.9120,147.3335L172.5840,147.9557L176.2560,148.0821L179.9280,148.0264L183.6000,144.5371L187.2720,145.3189L190.9440,147.6237L194.6160,148.0682L198.2880,141.3959             L201.9600,140.3656L205.6320,142.2505L209.3040,137.7309L212.9760,139.9489L216.6480,139.9821L220.3200,138.8233L223.9920,140.5883L227.6640,141.6218L231.3360,139.1221L235.0080,143.4093             L238.6800,141.3134L242.3520,142.7228L246.0240,140.4855L249.6960,148.6979L253.3680,144.1066L257.0400,145.8598L260.7120,144.0777L264.3840,148.8125L268.0560,143.0581L271.7280,145.0287             L275.4000,145.9476L279.0720,147.7747L282.7440,149.3405L286.4160,152.3693L290.0880,147.9590L293.7600,145.3864L297.4320,146.0526L301.1040,141.1142L304.7760,140.3409L308.4480,140.6772             L312.1200,147.7897L315.7920,143.0720L319.4640,142.4444L323.1360,138.1614L326.8080,152.1851L330.4800,142.3116L334.1520,145.0919L337.8240,143.3429L341.4960,139.3224L345.1680,137.4310             L348.8400,148.9539L352.5120,145.3468L356.1840,149.2956L359.8560,147.5509L363.5280,144.6110L367.2000,145.6135L370.8720,142.6329L374.5440,141.8125L378.2160,144.7642L381.8880,146.6513             L385.5600,146.8216L389.2320,139.0568L392.9040,143.2573L396.5760,133.1609L400.2480,143.1791L403.9200,143.5057L407.5920,142.4947L411.2640,147.3560L414.9360,148.1699L418.6080,142.7603             L422.2800,143.5015L425.9520,144.3411L429.6240,141.0124L433.2960,140.7790L436.9680,141.6433L440.6400,139.1125L444.3120,141.5405L447.9840,145.5096L451.6560,146.1640L455.3280,140.3966             L459.0000,145.0833\"/>\n  </g>\n  <g style=\"fill:none; stroke:#00FF00; stroke-width:  0.9180; stroke-linecap:butt; stroke-linejoin:miter; stroke-dasharray:none\">\n   <path d=\"M91.8000,239.4084L95.4720,240.3702L99.1440,233.5394L102.8160,233.0767L106.4880,242.3612L110.1600,243.3893L113.8320,250.3980L117.5040,243.5693L121.1760,249.9728L124.8480,251.3415             L128.5200,249.2681L132.1920,249.2531L135.8640,246.9054L139.5360,245.6663L143.2080,248.0171L146.8800,243.7342L150.5520,245.9223L154.2240,237.5792L157.8960,250.8285L161.5680,231.3652             L165.2400,248.3063L168.9120,238.8612L172.5840,248.3706L176.2560,243.0991L179.9280,239.6366L183.6000,242.5647L187.2720,244.4678L190.9440,243.6378L194.6160,240.5769L198.2880,238.5463             L201.9600,245.1286L205.6320,247.4152L209.3040,243.2469L212.9760,245.7380L216.6480,243.8756L220.3200,241.1724L223.9920,245.6920L227.6640,240.7654L231.3360,236.7427L235.0080,238.2721             L238.6800,238.6544L242.3520,238.1575L246.0240,239.2585L249.6960,238.4874L253.3680,238.0579L257.0400,236.9301L260.7120,234.4369L264.3840,229.6291L268.0560,242.0613L271.7280,239.2906             L275.4000,233.7278L279.0720,241.0171L282.7440,230.9615L286.4160,247.1196L290.0880,241.6511L293.7600,240.5972L297.4320,252.2412L301.1040,255.7187L304.7760,242.4372L308.4480,244.2472             L312.1200,240.8778L315.7920,236.3796L319.4640,235.4190L323.1360,245.5260L326.8080,234.0010L330.4800,240.7943L334.1520,230.6776L337.8240,235.8227L341.4960,236.7288L345.1680,244.1133             L348.8400,244.6649L352.5120,249.6065L356.1840,232.8903L359.8560,237.8962L363.5280,239.6441L367.2000,238.0215L370.8720,243.8938L374.5440,251.5204L378.2160,244.5182L381.8880,249.0271             L385.5600,243.7406L389.2320,244.8395L392.9040,248.4819L396.5760,246.4031L400.2480,233.8232L403.9200,242.8346L407.5920,230.2803L411.2640,232.8475L414.9360,239.2617L418.6080,243.0627             L422.2800,238.0890L425.9520,244.5225L429.6240,241.6350L433.2960,240.9442L436.9680,242.2112L440.6400,243.8981L444.3120,237.7023L447.9840,242.4351L451.6560,236.8059L455.3280,236.2811             L459.0000,238.0129\"/>\n  </g>\n  <g style=\"fill:none; stroke:#0000FF; stroke-width:  0.9180; stroke-linecap:butt; stroke-linejoin:miter; stroke-dasharray:none\">\n   <path d=\"M91.8000,325.2812L95.4720,330.7583L99.1440,323.5505L102.8160,323.8364L106.4880,329.3896L110.1600,332.8264L113.8320,334.8056L117.5040,326.9145L121.1760,331.0378L124.8480,331.9471             L128.5200,328.0251L132.1920,332.0842L135.8640,328.6334L139.5360,328.6827L143.2080,326.1123L146.8800,330.1992L150.5520,330.8793L154.2240,316.6822L157.8960,331.5230L161.5680,321.3678             L165.2400,329.1593L168.9120,327.6374L172.5840,333.0599L176.2560,334.2798L179.9280,333.6318L183.6000,331.7383L187.2720,329.5856L190.9440,334.7360L194.6160,328.3496L198.2880,332.4923             L201.9600,328.9344L205.6320,330.9029L209.3040,327.5217L212.9760,328.8144L216.6480,322.2235L220.3200,320.6930L223.9920,317.0313L227.6640,315.7322L231.3360,312.5845L235.0080,316.4797             L238.6800,315.1410L242.3520,316.0213L246.0240,325.6164L249.6960,319.1615L253.3680,319.7752L257.0400,319.9027L260.7120,315.6593L264.3840,314.2820L268.0560,324.4073L271.7280,320.1790             L275.4000,314.3784L279.0720,327.1769L282.7440,315.4462L286.4160,330.8418L290.0880,328.7448L293.7600,324.8807L297.4320,333.2152L301.1040,331.6344L304.7760,324.4565L308.4480,321.6944             L312.1200,331.9589L315.7920,324.2863L319.4640,320.7477L323.1360,328.2682L326.8080,331.2253L330.4800,327.1148L334.1520,318.0905L337.8240,317.3922L341.4960,317.1341L345.1680,324.6729             L348.8400,323.6415L352.5120,321.8187L356.1840,318.6999L359.8560,323.5494L363.5280,322.3381L367.2000,322.3563L370.8720,323.3963L374.5440,330.1178L378.2160,323.9692L381.8880,327.4146             L385.5600,323.9575L389.2320,324.1792L392.9040,326.9498L396.5760,317.4479L400.2480,319.6285L403.9200,325.9131L407.5920,316.9703L411.2640,315.8286L414.9360,318.5928L418.6080,325.1066             L422.2800,321.4856L425.9520,329.2118L429.6240,323.3631L433.2960,324.9449L436.9680,323.2356L440.6400,324.9974L444.3120,317.5250L447.9840,329.3242L451.6560,329.3135L455.3280,327.0901             L459.0000,326.5011\"/>\n  </g>\n  <g style=\"fill:none; stroke:#000000; stroke-width:  0.9180; stroke-linecap:butt; stroke-linejoin:miter; stroke-dasharray:none\">\n   <path d=\"M91.8000,91.8000L459.0000,91.8000\"/>\n   <path d=\"M91.8000,520.2000L459.0000,520.2000\"/>\n   <path d=\"M128.5200,91.8000L128.5200,97.9200\"/>\n   <path d=\"M128.5200,520.2000L128.5200,514.0800\"/>\n   <path d=\"M201.9600,91.8000L201.9600,97.9200\"/>\n   <path d=\"M201.9600,520.2000L201.9600,514.0800\"/>\n   <path d=\"M275.4000,91.8000L275.4000,97.9200\"/>\n   <path d=\"M275.4000,520.2000L275.4000,514.0800\"/>\n   <path d=\"M348.8400,91.8000L348.8400,97.9200\"/>\n   <path d=\"M348.8400,520.2000L348.8400,514.0800\"/>\n   <path d=\"M422.2800,91.8000L422.2800,97.9200\"/>\n   <path d=\"M422.2800,520.2000L422.2800,514.0800\"/>\n   <path d=\"M91.8000,91.8000L91.8000,104.0400\"/>\n   <path d=\"M91.8000,520.2000L91.8000,507.9600\"/>\n   <path d=\"M165.2400,91.8000L165.2400,104.0400\"/>\n   <path d=\"M165.2400,520.2000L165.2400,507.9600\"/>\n   <path d=\"M238.6800,91.8000L238.6800,104.0400\"/>\n   <path d=\"M238.6800,520.2000L238.6800,507.9600\"/>\n   <path d=\"M312.1200,91.8000L312.1200,104.0400\"/>\n   <path d=\"M312.1200,520.2000L312.1200,507.9600\"/>\n   <path d=\"M385.5600,91.8000L385.5600,104.0400\"/>\n   <path d=\"M385.5600,520.2000L385.5600,507.9600\"/>\n   <path d=\"M459.0000,91.8000L459.0000,104.0400\"/>\n   <path d=\"M459.0000,520.2000L459.0000,507.9600\"/>\n  </g>\n  <g style=\"fill:#000000; fill-rule:nonzero\">\n   <text style=\"font-family:'Times','Nimbus Roman No9 L'; font-style:normal; font-weight:normal; font-size:612.0000\" transform=\"matrix(0.0280,0.0000,-0.0000,-0.0280,87.8000,74.6800)\">0</text>\n   <text style=\"font-family:'Times','Nimbus Roman No9 L'; font-style:normal; font-weight:normal; font-size:612.0000\" transform=\"matrix(0.0280,0.0000,-0.0000,-0.0280,156.7400,74.6800)\">20</text>\n   <text style=\"font-family:'Times','Nimbus Roman No9 L'; font-style:normal; font-weight:normal; font-size:612.0000\" transform=\"matrix(0.0280,0.0000,-0.0000,-0.0280,230.1800,74.6800)\">40</text>\n   <text style=\"font-family:'Times','Nimbus Roman No9 L'; font-style:normal; font-weight:normal; font-size:612.0000\" transform=\"matrix(0.0280,0.0000,-0.0000,-0.0280,303.6200,73.6800)\">60</text>\n   <text style=\"font-family:'Times','Nimbus Roman No9 L'; font-style:normal; font-weight:normal; font-size:612.0000\" transform=\"matrix(0.0280,0.0000,-0.0000,-0.0280,377.0600,74.6800)\">80</text>\n   <text style=\"font-family:'Times','Nimbus Roman No9 L'; font-style:normal; font-weight:normal; font-size:612.0000\" transform=\"matrix(0.0280,0.0000,-0.0000,-0.0280,446.5000,73.6800)\">100</text>\n   <text style=\"font-family:'Times','Nimbus Roman No9 L'; font-style:normal; font-weight:normal; font-size:612.0000\" transform=\"matrix(0.0280,0.0000,-0.0000,-0.0280,242.4000,55.5600)\">Time (ps)</text>\n  </g>\n  <g style=\"fill:none; stroke:#000000; stroke-width:  0.9180; stroke-linecap:butt; stroke-linejoin:miter; stroke-dasharray:none\">\n   <path d=\"M91.8000,91.8000L91.8000,520.2000\"/>\n   <path d=\"M459.0000,91.8000L459.0000,520.2000\"/>\n   <path d=\"M91.8000,145.3500L97.9200,145.3500\"/>\n   <path d=\"M459.0000,145.3500L452.8800,145.3500\"/>\n   <path d=\"M91.8000,252.4500L97.9200,252.4500\"/>\n   <path d=\"M459.0000,252.4500L452.8800,252.4500\"/>\n   <path d=\"M91.8000,359.5500L97.9200,359.5500\"/>\n   <path d=\"M459.0000,359.5500L452.8800,359.5500\"/>\n   <path d=\"M91.8000,466.6500L97.9200,466.6500\"/>\n   <path d=\"M459.0000,466.6500L452.8800,466.6500\"/>\n   <path d=\"M91.8000,91.8000L104.0400,91.8000\"/>\n   <path d=\"M459.0000,91.8000L446.7600,91.8000\"/>\n   <path d=\"M91.8000,198.9000L104.0400,198.9000\"/>\n   <path d=\"M459.0000,198.9000L446.7600,198.9000\"/>\n   <path d=\"M91.8000,306.0000L104.0400,306.0000\"/>\n   <path d=\"M459.0000,306.0000L446.7600,306.0000\"/>\n   <path d=\"M91.8000,413.1000L104.0400,413.1000\"/>\n   <path d=\"M459.0000,413.1000L446.7600,413.1000\"/>\n   <path d=\"M91.8000,520.2000L104.0400,520.2000\"/>\n   <path d=\"M459.0000,520.2000L446.7600,520.2000\"/>\n  </g>\n  <g style=\"fill:#000000; fill-rule:nonzero\">\n   <text style=\"font-family:'Times','Nimbus Roman No9 L'; font-style:normal; font-weight:normal; font-size:612.0000\" transform=\"matrix(0.0280,0.0000,-0.0000,-0.0280,64.6800,85.8000)\">0.6</text>\n   <text style=\"font-family:'Times','Nimbus Roman No9 L'; font-style:normal; font-weight:normal; font-size:612.0000\" transform=\"matrix(0.0280,0.0000,-0.0000,-0.0280,64.6800,193.4000)\">0.7</text>\n   <text style=\"font-family:'Times','Nimbus Roman No9 L'; font-style:normal; font-weight:normal; font-size:612.0000\" transform=\"matrix(0.0280,0.0000,-0.0000,-0.0280,64.6800,300.5000)\">0.8</text>\n   <text style=\"font-family:'Times','Nimbus Roman No9 L'; font-style:normal; font-weight:normal; font-size:612.0000\" transform=\"matrix(0.0280,0.0000,-0.0000,-0.0280,64.6800,407.6000)\">0.9</text>\n   <text style=\"font-family:'Times','Nimbus Roman No9 L'; font-style:normal; font-weight:normal; font-size:612.0000\" transform=\"matrix(0.0280,0.0000,-0.0000,-0.0280,78.6800,514.2000)\">1</text>\n   <text style=\"font-family:'Times','Nimbus Roman No9 L'; font-style:normal; font-weight:normal; font-size:612.0000\" transform=\"matrix(0.0000,0.0280,0.0280,-0.0000,54.5600,277.5000)\">Rg (nm)</text>\n  </g>\n  <g style=\"fill:none; stroke:#000000; stroke-width:  0.9180; stroke-linecap:butt; stroke-linejoin:miter; stroke-dasharray:none\">\n   <path d=\"M91.8000,91.8000L91.8000,520.2000L459.0000,520.2000L459.0000,91.8000z\"/>\n  </g>\n  <g style=\"fill:#FFFFFF; fill-rule:nonzero\">\n   <path d=\"M477.3600,489.6000L477.3600,390.4368L543.5390,390.4368L543.5390,489.6000z\"/>\n  </g>\n  <g style=\"fill:none; stroke:#000000; stroke-width:  0.9180; stroke-linecap:butt; stroke-linejoin:miter; stroke-dasharray:none\">\n   <path d=\"M477.3600,489.6000L477.3600,390.4368L543.5390,390.4368L543.5390,489.6000z\"/>\n  </g>\n  <g style=\"fill:#000000; fill-rule:nonzero\">\n   <text style=\"font-family:'Times','Nimbus Roman No9 L'; font-style:normal; font-weight:normal; font-size:612.0000\" transform=\"matrix(0.0280,0.0000,-0.0000,-0.0280,508.4190,472.4800)\">Rg</text>\n  </g>\n  <g style=\"fill:none; stroke:#000000; stroke-width:  0.9180; stroke-linecap:butt; stroke-linejoin:miter; stroke-dasharray:none\">\n   <path d=\"M483.9390,475.9800L496.1790,475.9800\"/>\n  </g>\n  <g style=\"fill:#000000; fill-rule:nonzero\">\n   <text style=\"font-family:'Times','Nimbus Roman No9 L'; font-style:normal; font-weight:normal; font-size:612.0000\" transform=\"matrix(0.0280,0.0000,-0.0000,-0.0280,508.4190,451.3600)\">Rg</text>\n   <text style=\"font-family:'Times','Nimbus Roman No9 L'; font-style:normal; font-weight:normal; font-size:612.0000\" transform=\"matrix(0.0198,0.0000,-0.0000,-0.0198,528.4190,444.5056)\">X</text>\n  </g>\n  <g style=\"fill:none; stroke:#FF0000; stroke-width:  0.9180; stroke-linecap:butt; stroke-linejoin:miter; stroke-dasharray:none\">\n   <path d=\"M483.9390,453.4328L496.1790,453.4328\"/>\n  </g>\n  <g style=\"fill:#000000; fill-rule:nonzero\">\n   <text style=\"font-family:'Times','Nimbus Roman No9 L'; font-style:normal; font-weight:normal; font-size:612.0000\" transform=\"matrix(0.0280,0.0000,-0.0000,-0.0280,508.4190,427.3856)\">Rg</text>\n   <text style=\"font-family:'Times','Nimbus Roman No9 L'; font-style:normal; font-weight:normal; font-size:612.0000\" transform=\"matrix(0.0198,0.0000,-0.0000,-0.0198,528.4190,420.5312)\">Y</text>\n  </g>\n  <g style=\"fill:none; stroke:#00FF00; stroke-width:  0.9180; stroke-linecap:butt; stroke-linejoin:miter; stroke-dasharray:none\">\n   <path d=\"M483.9390,429.4584L496.1790,429.4584\"/>\n  </g>\n  <g style=\"fill:#000000; fill-rule:nonzero\">\n   <text style=\"font-family:'Times','Nimbus Roman No9 L'; font-style:normal; font-weight:normal; font-size:612.0000\" transform=\"matrix(0.0280,0.0000,-0.0000,-0.0280,508.4190,403.4112)\">Rg</text>\n   <text style=\"font-family:'Times','Nimbus Roman No9 L'; font-style:normal; font-weight:normal; font-size:612.0000\" transform=\"matrix(0.0198,0.0000,-0.0000,-0.0198,528.4190,396.5568)\">Z</text>\n  </g>\n  <g style=\"fill:none; stroke:#0000FF; stroke-width:  0.9180; stroke-linecap:butt; stroke-linejoin:miter; stroke-dasharray:none\">\n   <path d=\"M483.9390,405.4840L496.1790,405.4840\"/>\n  </g>\n  <g style=\"fill:#000000; fill-rule:nonzero\">\n   <text style=\"font-family:'Times','Nimbus Roman No9 L'; font-style:normal; font-weight:normal; font-size:612.0000\" transform=\"matrix(0.0420,0.0000,-0.0000,-0.0420,59.4000,562.9200)\">Radius of gyration (total and around axes)</text>\n  </g>\n </g>\n</svg>"
          },
          "metadata": {}
        }
      ]
    },
    {
      "cell_type": "code",
      "source": [
        "%%writefile sasa.txt\n",
        "1"
      ],
      "metadata": {
        "colab": {
          "base_uri": "https://localhost:8080/"
        },
        "id": "38ySAkbtHeZT",
        "outputId": "5a583fb2-da45-4c08-9844-fc88b1677e74"
      },
      "execution_count": null,
      "outputs": [
        {
          "output_type": "stream",
          "name": "stdout",
          "text": [
            "Writing sasa.txt\n"
          ]
        }
      ]
    },
    {
      "cell_type": "code",
      "source": [
        "!gmx sasa -s md_0_1_01of10.tpr -f md_0_1_01of10.xtc -o md_0_1_01of10_sasa.xvg <sasa.txt"
      ],
      "metadata": {
        "colab": {
          "base_uri": "https://localhost:8080/"
        },
        "id": "Vaa-JSPIVEaF",
        "outputId": "184fd539-929e-4973-fd57-2217862d8e9f"
      },
      "execution_count": null,
      "outputs": [
        {
          "output_type": "stream",
          "name": "stdout",
          "text": [
            "               :-) GROMACS - gmx sasa, 2021.4-Ubuntu-2021.4-2 (-:\n",
            "\n",
            "                            GROMACS is written by:\n",
            "     Andrey Alekseenko              Emile Apol              Rossen Apostolov     \n",
            "         Paul Bauer           Herman J.C. Berendsen           Par Bjelkmar       \n",
            "       Christian Blau           Viacheslav Bolnykh             Kevin Boyd        \n",
            "     Aldert van Buuren           Rudi van Drunen             Anton Feenstra      \n",
            "    Gilles Gouaillardet             Alan Gray               Gerrit Groenhof      \n",
            "       Anca Hamuraru            Vincent Hindriksen          M. Eric Irrgang      \n",
            "      Aleksei Iupinov           Christoph Junghans             Joe Jordan        \n",
            "    Dimitrios Karkoulis            Peter Kasson                Jiri Kraus        \n",
            "      Carsten Kutzner              Per Larsson              Justin A. Lemkul     \n",
            "       Viveca Lindahl            Magnus Lundborg             Erik Marklund       \n",
            "        Pascal Merz             Pieter Meulenhoff            Teemu Murtola       \n",
            "        Szilard Pall               Sander Pronk              Roland Schulz       \n",
            "       Michael Shirts            Alexey Shvetsov             Alfons Sijbers      \n",
            "       Peter Tieleman              Jon Vincent              Teemu Virolainen     \n",
            "     Christian Wennberg            Maarten Wolf              Artem Zhmurov       \n",
            "                           and the project leaders:\n",
            "        Mark Abraham, Berk Hess, Erik Lindahl, and David van der Spoel\n",
            "\n",
            "Copyright (c) 1991-2000, University of Groningen, The Netherlands.\n",
            "Copyright (c) 2001-2019, The GROMACS development team at\n",
            "Uppsala University, Stockholm University and\n",
            "the Royal Institute of Technology, Sweden.\n",
            "check out http://www.gromacs.org for more information.\n",
            "\n",
            "GROMACS is free software; you can redistribute it and/or modify it\n",
            "under the terms of the GNU Lesser General Public License\n",
            "as published by the Free Software Foundation; either version 2.1\n",
            "of the License, or (at your option) any later version.\n",
            "\n",
            "GROMACS:      gmx sasa, version 2021.4-Ubuntu-2021.4-2\n",
            "Executable:   /usr/bin/gmx\n",
            "Data prefix:  /usr\n",
            "Working dir:  /content\n",
            "Command line:\n",
            "  gmx sasa -s md_0_1_01of10.tpr -f md_0_1_01of10.xtc -o md_0_1_01of10_sasa.xvg\n",
            "\n",
            "Reading file md_0_1_01of10.tpr, VERSION 2021.4-Ubuntu-2021.4-2 (single precision)\n",
            "Reading file md_0_1_01of10.tpr, VERSION 2021.4-Ubuntu-2021.4-2 (single precision)\n",
            "\n",
            "++++ PLEASE READ AND CITE THE FOLLOWING REFERENCE ++++\n",
            "Frank Eisenhaber and Philip Lijnzaad and Patrick Argos and Chris Sander and\n",
            "Michael Scharf\n",
            "The Double Cube Lattice Method: Efficient Approaches to Numerical Integration\n",
            "of Surface Area and Volume and to Dot Surface Contouring of Molecular\n",
            "Assemblies\n",
            "J. Comp. Chem. 16 (1995) pp. 273-284\n",
            "-------- -------- --- Thank You --- -------- --------\n",
            "\n",
            "\n",
            "WARNING: Masses and atomic (Van der Waals) radii will be guessed\n",
            "         based on residue and atom names, since they could not be\n",
            "         definitively assigned from the information in your input\n",
            "         files. These guessed numbers might deviate from the mass\n",
            "         and radius of the atom type. Please check the output\n",
            "         files if necessary.\n",
            "\n",
            "NOTE: From version 5.0 gmx sasa uses the Van der Waals radii\n",
            "from the source below. This means the results may be different\n",
            "compared to previous GROMACS versions.\n",
            "\n",
            "++++ PLEASE READ AND CITE THE FOLLOWING REFERENCE ++++\n",
            "A. Bondi\n",
            "van der Waals Volumes and Radii\n",
            "J. Phys. Chem. 68 (1964) pp. 441-451\n",
            "-------- -------- --- Thank You --- -------- --------\n",
            "\n",
            "Last frame        100 time  100.000   \n",
            "Analyzed 101 frames, last time 100.000\n",
            "\n",
            "GROMACS reminds you: \"Calling a system 'non-linear' is like calling all wild animals 'non-elephants'.\" (Stan Ulam)\n",
            "\n"
          ]
        }
      ]
    },
    {
      "cell_type": "code",
      "source": [
        "!grace -hardcopy -hdevice SVG -nxy md_0_1_01of10_sasa.xvg -printfile md_0_1_01of10_sasa.svg"
      ],
      "metadata": {
        "id": "ZthRfx99VFYZ"
      },
      "execution_count": null,
      "outputs": []
    },
    {
      "cell_type": "code",
      "source": [
        "from IPython.display import SVG, display\n",
        "display(SVG(\"md_0_1_01of10_sasa.svg\"))"
      ],
      "metadata": {
        "colab": {
          "base_uri": "https://localhost:8080/",
          "height": 858
        },
        "id": "bCXy0lXdVGCw",
        "outputId": "63fa610d-7c2f-4639-923e-fd3f4dff70ed"
      },
      "execution_count": null,
      "outputs": [
        {
          "output_type": "display_data",
          "data": {
            "text/plain": [
              "<IPython.core.display.SVG object>"
            ],
            "image/svg+xml": "<svg xml:space=\"preserve\" width=\"11.0000in\" height=\"8.5000in\" viewBox=\"0.0000 0.0000 792.0000 612.0000\">\n <g transform=\"translate(0,612.0000) scale(1,-1)\">\n  <g style=\"fill:#FFFFFF; fill-rule:nonzero\">\n   <path d=\"M0.0000,0.0000L0.0000,612.0000L792.0000,612.0000L792.0000,0.0000z\"/>\n  </g>\n  <g style=\"fill:none; stroke:#000000; stroke-width:  0.9180; stroke-linecap:butt; stroke-linejoin:miter; stroke-dasharray:none\">\n   <path d=\"M91.8000,363.2985L95.4720,390.8232L99.1440,386.9676L102.8160,279.3321L106.4880,390.2877L110.1600,441.6957L113.8320,363.6198L117.5040,310.3911L121.1760,388.2528L124.8480,397.7847             L128.5200,317.2455L132.1920,324.7425L135.8640,439.1253L139.5360,406.9953L143.2080,393.8220L146.8800,343.8063L150.5520,345.8412L154.2240,268.9434L157.8960,377.8641L161.5680,265.5162             L165.2400,344.6631L168.9120,382.1481L172.5840,347.4477L176.2560,360.5139L179.9280,281.5812L183.6000,336.6306L187.2720,307.3923L190.9440,319.0662L194.6160,311.9976L198.2880,180.4788             L201.9600,234.5643L205.6320,341.2359L209.3040,289.6137L212.9760,291.6486L216.6480,274.0842L220.3200,273.5487L223.9920,253.7352L227.6640,279.9747L231.3360,190.3320L235.0080,164.6280             L238.6800,181.5498L242.3520,215.3934L246.0240,204.4692L249.6960,252.4500L253.3680,141.9228L257.0400,256.6269L260.7120,183.3705L264.3840,234.7785L268.0560,191.4030L271.7280,206.2899             L275.4000,206.9325L279.0720,288.6498L282.7440,188.7255L286.4160,293.6835L290.0880,197.8290L293.7600,249.1299L297.4320,308.1420L301.1040,320.4585L304.7760,287.4717L308.4480,215.8218             L312.1200,230.0661L315.7920,239.7051L319.4640,158.8446L323.1360,189.3681L326.8080,236.2779L330.4800,213.1443L334.1520,264.1239L337.8240,200.0781L341.4960,218.6064L345.1680,232.2081             L348.8400,241.6329L352.5120,386.2179L356.1840,224.7111L359.8560,151.5618L363.5280,247.4163L367.2000,249.8796L370.8720,323.6715L374.5440,271.4067L378.2160,335.1312L381.8880,280.6173             L385.5600,389.4309L389.2320,239.3838L392.9040,254.2707L396.5760,261.3393L400.2480,143.4222L403.9200,255.0204L407.5920,154.9890L411.2640,266.5872L414.9360,316.3887L418.6080,217.1070             L422.2800,181.4427L425.9520,216.3573L429.6240,196.4367L433.2960,204.1479L436.9680,199.5426L440.6400,317.3526L444.3120,209.3958L447.9840,285.2226L451.6560,259.4115L455.3280,215.1792             L459.0000,274.4055\"/>\n   <path d=\"M91.8000,91.8000L459.0000,91.8000\"/>\n   <path d=\"M91.8000,520.2000L459.0000,520.2000\"/>\n   <path d=\"M128.5200,91.8000L128.5200,97.9200\"/>\n   <path d=\"M128.5200,520.2000L128.5200,514.0800\"/>\n   <path d=\"M201.9600,91.8000L201.9600,97.9200\"/>\n   <path d=\"M201.9600,520.2000L201.9600,514.0800\"/>\n   <path d=\"M275.4000,91.8000L275.4000,97.9200\"/>\n   <path d=\"M275.4000,520.2000L275.4000,514.0800\"/>\n   <path d=\"M348.8400,91.8000L348.8400,97.9200\"/>\n   <path d=\"M348.8400,520.2000L348.8400,514.0800\"/>\n   <path d=\"M422.2800,91.8000L422.2800,97.9200\"/>\n   <path d=\"M422.2800,520.2000L422.2800,514.0800\"/>\n   <path d=\"M91.8000,91.8000L91.8000,104.0400\"/>\n   <path d=\"M91.8000,520.2000L91.8000,507.9600\"/>\n   <path d=\"M165.2400,91.8000L165.2400,104.0400\"/>\n   <path d=\"M165.2400,520.2000L165.2400,507.9600\"/>\n   <path d=\"M238.6800,91.8000L238.6800,104.0400\"/>\n   <path d=\"M238.6800,520.2000L238.6800,507.9600\"/>\n   <path d=\"M312.1200,91.8000L312.1200,104.0400\"/>\n   <path d=\"M312.1200,520.2000L312.1200,507.9600\"/>\n   <path d=\"M385.5600,91.8000L385.5600,104.0400\"/>\n   <path d=\"M385.5600,520.2000L385.5600,507.9600\"/>\n   <path d=\"M459.0000,91.8000L459.0000,104.0400\"/>\n   <path d=\"M459.0000,520.2000L459.0000,507.9600\"/>\n  </g>\n  <g style=\"fill:#000000; fill-rule:nonzero\">\n   <text style=\"font-family:'Times','Nimbus Roman No9 L'; font-style:normal; font-weight:normal; font-size:612.0000\" transform=\"matrix(0.0280,0.0000,-0.0000,-0.0280,87.8000,74.6800)\">0</text>\n   <text style=\"font-family:'Times','Nimbus Roman No9 L'; font-style:normal; font-weight:normal; font-size:612.0000\" transform=\"matrix(0.0280,0.0000,-0.0000,-0.0280,156.7400,74.6800)\">20</text>\n   <text style=\"font-family:'Times','Nimbus Roman No9 L'; font-style:normal; font-weight:normal; font-size:612.0000\" transform=\"matrix(0.0280,0.0000,-0.0000,-0.0280,230.1800,74.6800)\">40</text>\n   <text style=\"font-family:'Times','Nimbus Roman No9 L'; font-style:normal; font-weight:normal; font-size:612.0000\" transform=\"matrix(0.0280,0.0000,-0.0000,-0.0280,303.6200,73.6800)\">60</text>\n   <text style=\"font-family:'Times','Nimbus Roman No9 L'; font-style:normal; font-weight:normal; font-size:612.0000\" transform=\"matrix(0.0280,0.0000,-0.0000,-0.0280,377.0600,74.6800)\">80</text>\n   <text style=\"font-family:'Times','Nimbus Roman No9 L'; font-style:normal; font-weight:normal; font-size:612.0000\" transform=\"matrix(0.0280,0.0000,-0.0000,-0.0280,446.5000,73.6800)\">100</text>\n   <text style=\"font-family:'Times','Nimbus Roman No9 L'; font-style:normal; font-weight:normal; font-size:612.0000\" transform=\"matrix(0.0280,0.0000,-0.0000,-0.0280,242.4000,55.5600)\">Time (ps)</text>\n  </g>\n  <g style=\"fill:none; stroke:#000000; stroke-width:  0.9180; stroke-linecap:butt; stroke-linejoin:miter; stroke-dasharray:none\">\n   <path d=\"M91.8000,91.8000L91.8000,520.2000\"/>\n   <path d=\"M459.0000,91.8000L459.0000,520.2000\"/>\n   <path d=\"M91.8000,145.3500L97.9200,145.3500\"/>\n   <path d=\"M459.0000,145.3500L452.8800,145.3500\"/>\n   <path d=\"M91.8000,252.4500L97.9200,252.4500\"/>\n   <path d=\"M459.0000,252.4500L452.8800,252.4500\"/>\n   <path d=\"M91.8000,359.5500L97.9200,359.5500\"/>\n   <path d=\"M459.0000,359.5500L452.8800,359.5500\"/>\n   <path d=\"M91.8000,466.6500L97.9200,466.6500\"/>\n   <path d=\"M459.0000,466.6500L452.8800,466.6500\"/>\n   <path d=\"M91.8000,91.8000L104.0400,91.8000\"/>\n   <path d=\"M459.0000,91.8000L446.7600,91.8000\"/>\n   <path d=\"M91.8000,198.9000L104.0400,198.9000\"/>\n   <path d=\"M459.0000,198.9000L446.7600,198.9000\"/>\n   <path d=\"M91.8000,306.0000L104.0400,306.0000\"/>\n   <path d=\"M459.0000,306.0000L446.7600,306.0000\"/>\n   <path d=\"M91.8000,413.1000L104.0400,413.1000\"/>\n   <path d=\"M459.0000,413.1000L446.7600,413.1000\"/>\n   <path d=\"M91.8000,520.2000L104.0400,520.2000\"/>\n   <path d=\"M459.0000,520.2000L446.7600,520.2000\"/>\n  </g>\n  <g style=\"fill:#000000; fill-rule:nonzero\">\n   <text style=\"font-family:'Times','Nimbus Roman No9 L'; font-style:normal; font-weight:normal; font-size:612.0000\" transform=\"matrix(0.0280,0.0000,-0.0000,-0.0280,68.6800,86.3000)\">28</text>\n   <text style=\"font-family:'Times','Nimbus Roman No9 L'; font-style:normal; font-weight:normal; font-size:612.0000\" transform=\"matrix(0.0280,0.0000,-0.0000,-0.0280,68.6800,193.4000)\">29</text>\n   <text style=\"font-family:'Times','Nimbus Roman No9 L'; font-style:normal; font-weight:normal; font-size:612.0000\" transform=\"matrix(0.0280,0.0000,-0.0000,-0.0280,68.6800,300.5000)\">30</text>\n   <text style=\"font-family:'Times','Nimbus Roman No9 L'; font-style:normal; font-weight:normal; font-size:612.0000\" transform=\"matrix(0.0280,0.0000,-0.0000,-0.0280,69.6800,407.1000)\">31</text>\n   <text style=\"font-family:'Times','Nimbus Roman No9 L'; font-style:normal; font-weight:normal; font-size:612.0000\" transform=\"matrix(0.0280,0.0000,-0.0000,-0.0280,68.6800,514.7000)\">32</text>\n   <text style=\"font-family:'Times','Nimbus Roman No9 L'; font-style:normal; font-weight:normal; font-size:612.0000\" transform=\"matrix(0.0000,0.0280,0.0280,-0.0000,58.5600,268.0000)\">Area (nm</text>\n   <text style=\"font-family:'Times','Nimbus Roman No9 L'; font-style:normal; font-weight:normal; font-size:612.0000\" transform=\"matrix(0.0000,0.0198,0.0198,-0.0000,48.2784,333.0000)\">2</text>\n   <text style=\"font-family:'Times','Nimbus Roman No9 L'; font-style:normal; font-weight:normal; font-size:612.0000\" transform=\"matrix(0.0000,0.0280,0.0280,-0.0000,58.5600,339.0000)\">)</text>\n  </g>\n  <g style=\"fill:none; stroke:#000000; stroke-width:  0.9180; stroke-linecap:butt; stroke-linejoin:miter; stroke-dasharray:none\">\n   <path d=\"M91.8000,91.8000L91.8000,520.2000L459.0000,520.2000L459.0000,91.8000z\"/>\n  </g>\n  <g style=\"fill:#FFFFFF; fill-rule:nonzero\">\n   <path d=\"M477.3600,489.6000L477.3600,465.3600L549.5390,465.3600L549.5390,489.6000z\"/>\n  </g>\n  <g style=\"fill:none; stroke:#000000; stroke-width:  0.9180; stroke-linecap:butt; stroke-linejoin:miter; stroke-dasharray:none\">\n   <path d=\"M477.3600,489.6000L477.3600,465.3600L549.5390,465.3600L549.5390,489.6000z\"/>\n  </g>\n  <g style=\"fill:#000000; fill-rule:nonzero\">\n   <text style=\"font-family:'Times','Nimbus Roman No9 L'; font-style:normal; font-weight:normal; font-size:612.0000\" transform=\"matrix(0.0280,0.0000,-0.0000,-0.0280,508.4190,471.4800)\">Total</text>\n  </g>\n  <g style=\"fill:none; stroke:#000000; stroke-width:  0.9180; stroke-linecap:butt; stroke-linejoin:miter; stroke-dasharray:none\">\n   <path d=\"M483.9390,477.4800L496.1790,477.4800\"/>\n  </g>\n  <g style=\"fill:#000000; fill-rule:nonzero\">\n   <text style=\"font-family:'Times','Nimbus Roman No9 L'; font-style:normal; font-weight:normal; font-size:612.0000\" transform=\"matrix(0.0420,0.0000,-0.0000,-0.0420,134.9000,556.9200)\">Solvent Accessible Surface</text>\n  </g>\n </g>\n</svg>"
          },
          "metadata": {}
        }
      ]
    },
    {
      "cell_type": "code",
      "source": [
        "%%writefile rmsf.txt\n",
        "3"
      ],
      "metadata": {
        "id": "LFpxScTNH6F4"
      },
      "execution_count": null,
      "outputs": []
    },
    {
      "cell_type": "code",
      "source": [
        "!gmx rmsf -s md_0_1_01of10.tpr -f md_0_1_01of10.xtc -o md_0_1_01of10_rmsf.xvg <rmsf.txt"
      ],
      "metadata": {
        "colab": {
          "base_uri": "https://localhost:8080/"
        },
        "id": "zuKu5uUCUnNm",
        "outputId": "0ba78abf-5f11-4f26-9b16-3d8a021b979b"
      },
      "execution_count": null,
      "outputs": [
        {
          "output_type": "stream",
          "name": "stdout",
          "text": [
            "               :-) GROMACS - gmx rmsf, 2021.4-Ubuntu-2021.4-2 (-:\n",
            "\n",
            "                            GROMACS is written by:\n",
            "     Andrey Alekseenko              Emile Apol              Rossen Apostolov     \n",
            "         Paul Bauer           Herman J.C. Berendsen           Par Bjelkmar       \n",
            "       Christian Blau           Viacheslav Bolnykh             Kevin Boyd        \n",
            "     Aldert van Buuren           Rudi van Drunen             Anton Feenstra      \n",
            "    Gilles Gouaillardet             Alan Gray               Gerrit Groenhof      \n",
            "       Anca Hamuraru            Vincent Hindriksen          M. Eric Irrgang      \n",
            "      Aleksei Iupinov           Christoph Junghans             Joe Jordan        \n",
            "    Dimitrios Karkoulis            Peter Kasson                Jiri Kraus        \n",
            "      Carsten Kutzner              Per Larsson              Justin A. Lemkul     \n",
            "       Viveca Lindahl            Magnus Lundborg             Erik Marklund       \n",
            "        Pascal Merz             Pieter Meulenhoff            Teemu Murtola       \n",
            "        Szilard Pall               Sander Pronk              Roland Schulz       \n",
            "       Michael Shirts            Alexey Shvetsov             Alfons Sijbers      \n",
            "       Peter Tieleman              Jon Vincent              Teemu Virolainen     \n",
            "     Christian Wennberg            Maarten Wolf              Artem Zhmurov       \n",
            "                           and the project leaders:\n",
            "        Mark Abraham, Berk Hess, Erik Lindahl, and David van der Spoel\n",
            "\n",
            "Copyright (c) 1991-2000, University of Groningen, The Netherlands.\n",
            "Copyright (c) 2001-2019, The GROMACS development team at\n",
            "Uppsala University, Stockholm University and\n",
            "the Royal Institute of Technology, Sweden.\n",
            "check out http://www.gromacs.org for more information.\n",
            "\n",
            "GROMACS is free software; you can redistribute it and/or modify it\n",
            "under the terms of the GNU Lesser General Public License\n",
            "as published by the Free Software Foundation; either version 2.1\n",
            "of the License, or (at your option) any later version.\n",
            "\n",
            "GROMACS:      gmx rmsf, version 2021.4-Ubuntu-2021.4-2\n",
            "Executable:   /usr/bin/gmx\n",
            "Data prefix:  /usr\n",
            "Working dir:  /content\n",
            "Command line:\n",
            "  gmx rmsf -s md_0_1_01of10.tpr -f md_0_1_01of10.xtc -o md_0_1_01of10_rmsf.xvg\n",
            "\n",
            "Reading file md_0_1_01of10.tpr, VERSION 2021.4-Ubuntu-2021.4-2 (single precision)\n",
            "Reading file md_0_1_01of10.tpr, VERSION 2021.4-Ubuntu-2021.4-2 (single precision)\n",
            "Select group(s) for root mean square calculation\n",
            "Group     0 (         System) has  3509 elements\n",
            "Group     1 (        Protein) has   582 elements\n",
            "Group     2 (      Protein-H) has   316 elements\n",
            "Group     3 (        C-alpha) has    42 elements\n",
            "Group     4 (       Backbone) has   126 elements\n",
            "Group     5 (      MainChain) has   167 elements\n",
            "Group     6 (   MainChain+Cb) has   204 elements\n",
            "Group     7 (    MainChain+H) has   209 elements\n",
            "Group     8 (      SideChain) has   373 elements\n",
            "Group     9 (    SideChain-H) has   149 elements\n",
            "Group    10 (    Prot-Masses) has   582 elements\n",
            "Group    11 (    non-Protein) has  2927 elements\n",
            "Group    12 (          Water) has  2925 elements\n",
            "Group    13 (            SOL) has  2925 elements\n",
            "Group    14 (      non-Water) has   584 elements\n",
            "Group    15 (            Ion) has     2 elements\n",
            "Group    16 (             NA) has     2 elements\n",
            "Group    17 ( Water_and_ions) has  2927 elements\n",
            "Select a group: 3\n",
            "Selected 3: 'C-alpha'\n",
            "Last frame        100 time  100.000   \n",
            "\n",
            "GROMACS reminds you: \"I Solve Problems\" (Pulp Fiction)\n",
            "\n"
          ]
        }
      ]
    },
    {
      "cell_type": "code",
      "source": [
        "!grace -hardcopy -hdevice SVG -nxy md_0_1_01of10_rmsf.xvg -printfile md_0_1_01of10_rmsf.svg"
      ],
      "metadata": {
        "id": "VtX9d8QdVzEI"
      },
      "execution_count": null,
      "outputs": []
    },
    {
      "cell_type": "code",
      "source": [
        "from IPython.display import SVG, display\n",
        "display(SVG(\"md_0_1_01of10_rmsf.svg\"))"
      ],
      "metadata": {
        "colab": {
          "base_uri": "https://localhost:8080/",
          "height": 858
        },
        "id": "hdLJ-7AIVzaS",
        "outputId": "e3317448-ea01-4d86-dc03-885e13f94e0e"
      },
      "execution_count": null,
      "outputs": [
        {
          "output_type": "display_data",
          "data": {
            "text/plain": [
              "<IPython.core.display.SVG object>"
            ],
            "image/svg+xml": "<svg xml:space=\"preserve\" width=\"11.0000in\" height=\"8.5000in\" viewBox=\"0.0000 0.0000 792.0000 612.0000\">\n <g transform=\"translate(0,612.0000) scale(1,-1)\">\n  <g style=\"fill:#FFFFFF; fill-rule:nonzero\">\n   <path d=\"M0.0000,0.0000L0.0000,612.0000L792.0000,612.0000L792.0000,0.0000z\"/>\n  </g>\n  <g style=\"fill:none; stroke:#000000; stroke-width:  0.9180; stroke-linecap:butt; stroke-linejoin:miter; stroke-dasharray:none\">\n   <path d=\"M96.9000,289.5780L112.2000,205.3260L129.5400,144.6360L139.7400,247.4520L146.8800,238.1700L171.3600,266.0160L188.7000,247.4520L198.9000,392.3940L206.0400,336.7020L213.1800,236.0280             L235.6200,210.3240L255.0000,194.6160L267.2400,332.4180L279.4800,351.6960L291.7200,450.2280L306.0000,154.6320L325.3800,107.5080L335.5800,129.6420L345.7800,139.6380L357.0000,186.7620             L374.3400,196.0440L398.8200,167.4840L405.9600,157.4880L430.4400,148.2060L440.6400,178.9080L447.7800,192.4740L459.0000,233.1720L473.2800,241.0260L485.5200,238.1700L500.8200,158.2020             L522.2400,120.3600L532.4400,135.3540L545.7000,233.8860L557.9400,214.6080L570.1800,166.0560L587.5200,189.6180L601.8000,143.2080L612.0000,163.9140L629.3400,180.3360L640.5600,169.6260             L654.8400,186.7620L665.0400,373.8300\"/>\n   <path d=\"M91.8000,91.8000L703.8000,91.8000\"/>\n   <path d=\"M91.8000,520.2000L703.8000,520.2000\"/>\n   <path d=\"M142.8000,91.8000L142.8000,97.9200\"/>\n   <path d=\"M142.8000,520.2000L142.8000,514.0800\"/>\n   <path d=\"M244.8000,91.8000L244.8000,97.9200\"/>\n   <path d=\"M244.8000,520.2000L244.8000,514.0800\"/>\n   <path d=\"M346.8000,91.8000L346.8000,97.9200\"/>\n   <path d=\"M346.8000,520.2000L346.8000,514.0800\"/>\n   <path d=\"M448.8000,91.8000L448.8000,97.9200\"/>\n   <path d=\"M448.8000,520.2000L448.8000,514.0800\"/>\n   <path d=\"M550.8000,91.8000L550.8000,97.9200\"/>\n   <path d=\"M550.8000,520.2000L550.8000,514.0800\"/>\n   <path d=\"M652.8000,91.8000L652.8000,97.9200\"/>\n   <path d=\"M652.8000,520.2000L652.8000,514.0800\"/>\n   <path d=\"M91.8000,91.8000L91.8000,104.0400\"/>\n   <path d=\"M91.8000,520.2000L91.8000,507.9600\"/>\n   <path d=\"M193.8000,91.8000L193.8000,104.0400\"/>\n   <path d=\"M193.8000,520.2000L193.8000,507.9600\"/>\n   <path d=\"M295.8000,91.8000L295.8000,104.0400\"/>\n   <path d=\"M295.8000,520.2000L295.8000,507.9600\"/>\n   <path d=\"M397.8000,91.8000L397.8000,104.0400\"/>\n   <path d=\"M397.8000,520.2000L397.8000,507.9600\"/>\n   <path d=\"M499.8000,91.8000L499.8000,104.0400\"/>\n   <path d=\"M499.8000,520.2000L499.8000,507.9600\"/>\n   <path d=\"M601.8000,91.8000L601.8000,104.0400\"/>\n   <path d=\"M601.8000,520.2000L601.8000,507.9600\"/>\n   <path d=\"M703.8000,91.8000L703.8000,104.0400\"/>\n   <path d=\"M703.8000,520.2000L703.8000,507.9600\"/>\n  </g>\n  <g style=\"fill:#000000; fill-rule:nonzero\">\n   <text style=\"font-family:'Times','Nimbus Roman No9 L'; font-style:normal; font-weight:normal; font-size:612.0000\" transform=\"matrix(0.0280,0.0000,-0.0000,-0.0280,87.8000,74.6800)\">0</text>\n   <text style=\"font-family:'Times','Nimbus Roman No9 L'; font-style:normal; font-weight:normal; font-size:612.0000\" transform=\"matrix(0.0280,0.0000,-0.0000,-0.0280,181.3000,73.6800)\">100</text>\n   <text style=\"font-family:'Times','Nimbus Roman No9 L'; font-style:normal; font-weight:normal; font-size:612.0000\" transform=\"matrix(0.0280,0.0000,-0.0000,-0.0280,283.3000,74.6800)\">200</text>\n   <text style=\"font-family:'Times','Nimbus Roman No9 L'; font-style:normal; font-weight:normal; font-size:612.0000\" transform=\"matrix(0.0280,0.0000,-0.0000,-0.0280,385.3000,74.6800)\">300</text>\n   <text style=\"font-family:'Times','Nimbus Roman No9 L'; font-style:normal; font-weight:normal; font-size:612.0000\" transform=\"matrix(0.0280,0.0000,-0.0000,-0.0280,487.3000,74.6800)\">400</text>\n   <text style=\"font-family:'Times','Nimbus Roman No9 L'; font-style:normal; font-weight:normal; font-size:612.0000\" transform=\"matrix(0.0280,0.0000,-0.0000,-0.0280,589.3000,73.6800)\">500</text>\n   <text style=\"font-family:'Times','Nimbus Roman No9 L'; font-style:normal; font-weight:normal; font-size:612.0000\" transform=\"matrix(0.0280,0.0000,-0.0000,-0.0280,691.3000,73.6800)\">600</text>\n   <text style=\"font-family:'Times','Nimbus Roman No9 L'; font-style:normal; font-weight:normal; font-size:612.0000\" transform=\"matrix(0.0280,0.0000,-0.0000,-0.0280,378.3000,56.5600)\">Atom</text>\n  </g>\n  <g style=\"fill:none; stroke:#000000; stroke-width:  0.9180; stroke-linecap:butt; stroke-linejoin:miter; stroke-dasharray:none\">\n   <path d=\"M91.8000,91.8000L91.8000,520.2000\"/>\n   <path d=\"M703.8000,91.8000L703.8000,520.2000\"/>\n   <path d=\"M91.8000,127.5000L97.9200,127.5000\"/>\n   <path d=\"M703.8000,127.5000L697.6800,127.5000\"/>\n   <path d=\"M91.8000,198.9000L97.9200,198.9000\"/>\n   <path d=\"M703.8000,198.9000L697.6800,198.9000\"/>\n   <path d=\"M91.8000,270.3000L97.9200,270.3000\"/>\n   <path d=\"M703.8000,270.3000L697.6800,270.3000\"/>\n   <path d=\"M91.8000,341.7000L97.9200,341.7000\"/>\n   <path d=\"M703.8000,341.7000L697.6800,341.7000\"/>\n   <path d=\"M91.8000,413.1000L97.9200,413.1000\"/>\n   <path d=\"M703.8000,413.1000L697.6800,413.1000\"/>\n   <path d=\"M91.8000,484.5000L97.9200,484.5000\"/>\n   <path d=\"M703.8000,484.5000L697.6800,484.5000\"/>\n   <path d=\"M91.8000,91.8000L104.0400,91.8000\"/>\n   <path d=\"M703.8000,91.8000L691.5600,91.8000\"/>\n   <path d=\"M91.8000,163.2000L104.0400,163.2000\"/>\n   <path d=\"M703.8000,163.2000L691.5600,163.2000\"/>\n   <path d=\"M91.8000,234.6000L104.0400,234.6000\"/>\n   <path d=\"M703.8000,234.6000L691.5600,234.6000\"/>\n   <path d=\"M91.8000,306.0000L104.0400,306.0000\"/>\n   <path d=\"M703.8000,306.0000L691.5600,306.0000\"/>\n   <path d=\"M91.8000,377.4000L104.0400,377.4000\"/>\n   <path d=\"M703.8000,377.4000L691.5600,377.4000\"/>\n   <path d=\"M91.8000,448.8000L104.0400,448.8000\"/>\n   <path d=\"M703.8000,448.8000L691.5600,448.8000\"/>\n   <path d=\"M91.8000,520.2000L104.0400,520.2000\"/>\n   <path d=\"M703.8000,520.2000L691.5600,520.2000\"/>\n  </g>\n  <g style=\"fill:#000000; fill-rule:nonzero\">\n   <text style=\"font-family:'Times','Nimbus Roman No9 L'; font-style:normal; font-weight:normal; font-size:612.0000\" transform=\"matrix(0.0280,0.0000,-0.0000,-0.0280,56.6800,86.3000)\">0.02</text>\n   <text style=\"font-family:'Times','Nimbus Roman No9 L'; font-style:normal; font-weight:normal; font-size:612.0000\" transform=\"matrix(0.0280,0.0000,-0.0000,-0.0280,57.6800,157.7000)\">0.03</text>\n   <text style=\"font-family:'Times','Nimbus Roman No9 L'; font-style:normal; font-weight:normal; font-size:612.0000\" transform=\"matrix(0.0280,0.0000,-0.0000,-0.0280,56.6800,229.1000)\">0.04</text>\n   <text style=\"font-family:'Times','Nimbus Roman No9 L'; font-style:normal; font-weight:normal; font-size:612.0000\" transform=\"matrix(0.0280,0.0000,-0.0000,-0.0280,56.6800,300.0000)\">0.05</text>\n   <text style=\"font-family:'Times','Nimbus Roman No9 L'; font-style:normal; font-weight:normal; font-size:612.0000\" transform=\"matrix(0.0280,0.0000,-0.0000,-0.0280,56.6800,371.4000)\">0.06</text>\n   <text style=\"font-family:'Times','Nimbus Roman No9 L'; font-style:normal; font-weight:normal; font-size:612.0000\" transform=\"matrix(0.0280,0.0000,-0.0000,-0.0280,56.6800,443.3000)\">0.07</text>\n   <text style=\"font-family:'Times','Nimbus Roman No9 L'; font-style:normal; font-weight:normal; font-size:612.0000\" transform=\"matrix(0.0280,0.0000,-0.0000,-0.0280,56.6800,514.7000)\">0.08</text>\n   <text style=\"font-family:'Times','Nimbus Roman No9 L'; font-style:normal; font-weight:normal; font-size:612.0000\" transform=\"matrix(0.0000,0.0280,0.0280,-0.0000,47.5600,289.5000)\">(nm)</text>\n  </g>\n  <g style=\"fill:none; stroke:#000000; stroke-width:  0.9180; stroke-linecap:butt; stroke-linejoin:miter; stroke-dasharray:none\">\n   <path d=\"M91.8000,91.8000L91.8000,520.2000L703.8000,520.2000L703.8000,91.8000z\"/>\n  </g>\n  <g style=\"fill:#000000; fill-rule:nonzero\">\n   <text style=\"font-family:'Times','Nimbus Roman No9 L'; font-style:normal; font-weight:normal; font-size:612.0000\" transform=\"matrix(0.0420,0.0000,-0.0000,-0.0420,312.3000,556.9200)\">RMS fluctuation</text>\n  </g>\n </g>\n</svg>"
          },
          "metadata": {}
        }
      ]
    },
    {
      "cell_type": "code",
      "source": [
        "#!sudo apt-get search pymol"
      ],
      "metadata": {
        "colab": {
          "base_uri": "https://localhost:8080/"
        },
        "id": "IcmO8Ad0Ulr4",
        "outputId": "ac45924a-a78c-438b-ddd1-fa5a206e7be3"
      },
      "execution_count": null,
      "outputs": [
        {
          "output_type": "stream",
          "name": "stdout",
          "text": [
            "E: Invalid operation search\n"
          ]
        }
      ]
    },
    {
      "cell_type": "code",
      "source": [
        "# %%writefile mutate.py\n",
        "\n",
        "# from pymol import cmd\n",
        "# cmd.wizard(\"mutagenesis\")\n",
        "# cmd.fetch(\"clean.pdb\")\n",
        "# cmd.get_wizard().set_mode(\"ASP\")\n",
        "# cmd.get_wizard().do_select(\"chain A and resid 43\")\n",
        "# cmd.get_wizard().apply()\n",
        "# cmd.save(\"mutated_structure.pdb\")"
      ],
      "metadata": {
        "colab": {
          "base_uri": "https://localhost:8080/"
        },
        "id": "QwyncaowVZa_",
        "outputId": "3bd1bfc0-c315-49c9-9528-a71b420f1b1a"
      },
      "execution_count": null,
      "outputs": [
        {
          "output_type": "stream",
          "name": "stdout",
          "text": [
            "Writing mutate.py\n"
          ]
        }
      ]
    },
    {
      "cell_type": "code",
      "source": [
        "# !pymol -qcr mutate.py"
      ],
      "metadata": {
        "colab": {
          "base_uri": "https://localhost:8080/"
        },
        "id": "1fMeaxQUWAXc",
        "outputId": "7ec7fd81-4b55-46b0-caf0-9360c24dd693"
      },
      "execution_count": null,
      "outputs": [
        {
          "output_type": "stream",
          "name": "stdout",
          "text": [
            "Traceback (most recent call last):\n",
            "  File \"<frozen runpy>\", line 189, in _run_module_as_main\n",
            "  File \"<frozen runpy>\", line 112, in _get_module_details\n",
            "  File \"/usr/lib/python3/dist-packages/pymol/__init__.py\", line 561, in <module>\n",
            "    import pymol._cmd\n",
            "ModuleNotFoundError: No module named 'pymol._cmd'\n"
          ]
        }
      ]
    },
    {
      "cell_type": "code",
      "source": [
        "# !cp mutated_structure.pdb mutated_structure.txt"
      ],
      "metadata": {
        "colab": {
          "base_uri": "https://localhost:8080/"
        },
        "id": "m5LCzOD4WNPa",
        "outputId": "953e8acf-e5f8-4a5b-934b-b43b0c78af4e"
      },
      "execution_count": null,
      "outputs": [
        {
          "output_type": "stream",
          "name": "stdout",
          "text": [
            "cp: cannot stat 'mutated_structure.pdb': No such file or directory\n"
          ]
        }
      ]
    },
    {
      "cell_type": "code",
      "source": [
        "# import pymol\n",
        "# pymol.finish_launching(['pymol', '-qc'])\n"
      ],
      "metadata": {
        "colab": {
          "base_uri": "https://localhost:8080/",
          "height": 453
        },
        "id": "bnqTa_26dU1b",
        "outputId": "1a9e9b81-1798-4654-8eee-90817762bc56"
      },
      "execution_count": null,
      "outputs": [
        {
          "output_type": "error",
          "ename": "ModuleNotFoundError",
          "evalue": "No module named 'pymol._cmd'",
          "traceback": [
            "\u001b[0;31m---------------------------------------------------------------------------\u001b[0m",
            "\u001b[0;31mModuleNotFoundError\u001b[0m                       Traceback (most recent call last)",
            "\u001b[0;32m<ipython-input-2-6194015074a3>\u001b[0m in \u001b[0;36m<cell line: 0>\u001b[0;34m()\u001b[0m\n\u001b[0;32m----> 1\u001b[0;31m \u001b[0;32mimport\u001b[0m \u001b[0mpymol\u001b[0m\u001b[0;34m\u001b[0m\u001b[0;34m\u001b[0m\u001b[0m\n\u001b[0m\u001b[1;32m      2\u001b[0m \u001b[0mpymol\u001b[0m\u001b[0;34m.\u001b[0m\u001b[0mfinish_launching\u001b[0m\u001b[0;34m(\u001b[0m\u001b[0;34m[\u001b[0m\u001b[0;34m'pymol'\u001b[0m\u001b[0;34m,\u001b[0m \u001b[0;34m'-qc'\u001b[0m\u001b[0;34m]\u001b[0m\u001b[0;34m)\u001b[0m\u001b[0;34m\u001b[0m\u001b[0;34m\u001b[0m\u001b[0m\n",
            "\u001b[0;32m/usr/lib/python3/dist-packages/pymol/__init__.py\u001b[0m in \u001b[0;36m<module>\u001b[0;34m\u001b[0m\n\u001b[1;32m    559\u001b[0m \u001b[0;31m########## C MODULE ############################\u001b[0m\u001b[0;34m\u001b[0m\u001b[0;34m\u001b[0m\u001b[0m\n\u001b[1;32m    560\u001b[0m \u001b[0;34m\u001b[0m\u001b[0m\n\u001b[0;32m--> 561\u001b[0;31m \u001b[0;32mimport\u001b[0m \u001b[0mpymol\u001b[0m\u001b[0;34m.\u001b[0m\u001b[0m_cmd\u001b[0m\u001b[0;34m\u001b[0m\u001b[0;34m\u001b[0m\u001b[0m\n\u001b[0m\u001b[1;32m    562\u001b[0m \u001b[0m_cmd\u001b[0m \u001b[0;34m=\u001b[0m \u001b[0msys\u001b[0m\u001b[0;34m.\u001b[0m\u001b[0mmodules\u001b[0m\u001b[0;34m[\u001b[0m\u001b[0;34m'pymol._cmd'\u001b[0m\u001b[0;34m]\u001b[0m\u001b[0;34m\u001b[0m\u001b[0;34m\u001b[0m\u001b[0m\n\u001b[1;32m    563\u001b[0m \u001b[0;34m\u001b[0m\u001b[0m\n",
            "\u001b[0;31mModuleNotFoundError\u001b[0m: No module named 'pymol._cmd'",
            "",
            "\u001b[0;31m---------------------------------------------------------------------------\u001b[0;32m\nNOTE: If your import is failing due to a missing package, you can\nmanually install dependencies using either !pip or !apt.\n\nTo view examples of installing some common dependencies, click the\n\"Open Examples\" button below.\n\u001b[0;31m---------------------------------------------------------------------------\u001b[0m\n"
          ],
          "errorDetails": {
            "actions": [
              {
                "action": "open_url",
                "actionText": "Open Examples",
                "url": "/notebooks/snippets/importing_libraries.ipynb"
              }
            ]
          }
        }
      ]
    },
    {
      "cell_type": "code",
      "source": [
        "\n",
        "# pymol.cmd.wizard(\"mutagenesis\")"
      ],
      "metadata": {
        "id": "gOl190nxeANZ"
      },
      "execution_count": null,
      "outputs": []
    }
  ],
  "metadata": {
    "colab": {
      "provenance": []
    },
    "kernelspec": {
      "display_name": "Python 3",
      "name": "python3"
    },
    "language_info": {
      "name": "python"
    }
  },
  "nbformat": 4,
  "nbformat_minor": 0
}